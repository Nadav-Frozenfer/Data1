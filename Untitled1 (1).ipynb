{
 "cells": [
  {
   "cell_type": "code",
   "execution_count": 36,
   "id": "1160f074",
   "metadata": {},
   "outputs": [
    {
     "name": "stdout",
     "output_type": "stream",
     "text": [
      "please enter a number in 10 base8\n",
      "8  in Binary :  0b1000\n",
      "8 in Octal :  0o10\n",
      "8  in Hexadecimal :  0x8\n"
     ]
    }
   ],
   "source": [
    "decimal=input(\"please enter a number in 10 base\")\n",
    "print(decimal, \" in Binary : \", bin(int(decimal)))\n",
    "print(decimal, \"in Octal : \", oct(int(decimal)))\n",
    "print(decimal, \" in Hexadecimal : \", hex(int(decimal)))"
   ]
  },
  {
   "cell_type": "code",
   "execution_count": null,
   "id": "24ca544f",
   "metadata": {},
   "outputs": [],
   "source": [
    "\n"
   ]
  },
  {
   "cell_type": "code",
   "execution_count": null,
   "id": "236f5743",
   "metadata": {},
   "outputs": [],
   "source": []
  },
  {
   "cell_type": "code",
   "execution_count": null,
   "id": "a89e3701",
   "metadata": {},
   "outputs": [],
   "source": []
  },
  {
   "cell_type": "code",
   "execution_count": null,
   "id": "99387cb5",
   "metadata": {},
   "outputs": [],
   "source": []
  }
 ],
 "metadata": {
  "kernelspec": {
   "display_name": "Python 3",
   "language": "python",
   "name": "python3"
  },
  "language_info": {
   "codemirror_mode": {
    "name": "ipython",
    "version": 3
   },
   "file_extension": ".py",
   "mimetype": "text/x-python",
   "name": "python",
   "nbconvert_exporter": "python",
   "pygments_lexer": "ipython3",
   "version": "3.8.8"
  }
 },
 "nbformat": 4,
 "nbformat_minor": 5
}
