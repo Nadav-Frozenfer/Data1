{
 "cells": [
  {
   "cell_type": "code",
   "execution_count": 1,
   "id": "7aa38c81",
   "metadata": {},
   "outputs": [],
   "source": [
    "from imblearn.over_sampling import SMOTE\n",
    "from collections import Counter\n",
    "from sklearn.preprocessing import LabelEncoder\n",
    "from sklearn.utils.multiclass import type_of_target\n",
    "import pandas as pd\n",
    "import numpy as np\n",
    "import matplotlib.pyplot as plt\n",
    "import seaborn as sns\n",
    "from sklearn.metrics import accuracy_score\n",
    "from sklearn.model_selection import train_test_split\n",
    "from sklearn.preprocessing import StandardScaler\n",
    "from imblearn.under_sampling import RandomUnderSampler\n",
    "from sklearn.ensemble import RandomForestClassifier\n",
    "from sklearn.model_selection import cross_val_score\n",
    "from sklearn.linear_model import LinearRegression\n",
    "from sklearn.tree import DecisionTreeClassifier\n",
    "from sklearn import ensemble\n",
    "from sklearn.model_selection import GridSearchCV\n",
    "from sklearn.model_selection import RandomizedSearchCV\n",
    "from sklearn.linear_model import LinearRegression\n",
    "from sklearn import preprocessing\n",
    "from sklearn import linear_model\n",
    "from sklearn.metrics import mean_squared_error, r2_score\n",
    "from sklearn.tree import DecisionTreeClassifier\n",
    "from sklearn.dummy import DummyClassifier\n",
    "from sklearn.metrics import confusion_matrix\n",
    "from sklearn.metrics import plot_confusion_matrix"
   ]
  },
  {
   "cell_type": "code",
   "execution_count": 2,
   "id": "b3ff98fe",
   "metadata": {},
   "outputs": [
    {
     "name": "stderr",
     "output_type": "stream",
     "text": [
      "C:\\Users\\user\\anaconda3\\lib\\site-packages\\IPython\\core\\interactiveshell.py:3444: DtypeWarning: Columns (9,10,11,12) have mixed types.Specify dtype option on import or set low_memory=False.\n",
      "  exec(code_obj, self.user_global_ns, self.user_ns)\n"
     ]
    },
    {
     "name": "stdout",
     "output_type": "stream",
     "text": [
      "<class 'pandas.core.frame.DataFrame'>\n",
      "RangeIndex: 930621 entries, 0 to 930620\n",
      "Data columns (total 14 columns):\n",
      " #   Column            Non-Null Count   Dtype  \n",
      "---  ------            --------------   -----  \n",
      " 0   Serial Number     930621 non-null  int64  \n",
      " 1   List Year         930621 non-null  int64  \n",
      " 2   Date Recorded     930619 non-null  object \n",
      " 3   Town              930621 non-null  object \n",
      " 4   Address           930570 non-null  object \n",
      " 5   Assessed Value    930621 non-null  float64\n",
      " 6   Sale Amount       930621 non-null  float64\n",
      " 7   Sales Ratio       930621 non-null  float64\n",
      " 8   Property Type     925733 non-null  object \n",
      " 9   Residential Type  548176 non-null  object \n",
      " 10  Non Use Code      275231 non-null  object \n",
      " 11  Assessor Remarks  135512 non-null  object \n",
      " 12  OPM remarks       7946 non-null    object \n",
      " 13  Location          680517 non-null  object \n",
      "dtypes: float64(3), int64(2), object(9)\n",
      "memory usage: 484.7 MB\n"
     ]
    }
   ],
   "source": [
    "d =pd.read_csv(\"Real.csv\")\n",
    "d.info(memory_usage='deep')"
   ]
  },
  {
   "cell_type": "code",
   "execution_count": 3,
   "id": "145b70c0",
   "metadata": {},
   "outputs": [
    {
     "name": "stdout",
     "output_type": "stream",
     "text": [
      "this dataset represents Maryland's total residential sales from 2002 to 2018.\n",
      "\n",
      "our model purpose is - given the year the real estate was sold,the city it was sold in and the price it sold for,the model will predict the proprety type varying between:Condo,V,R,Single Family and Two Family.\n"
     ]
    }
   ],
   "source": [
    "print (\"this dataset represents Maryland's total residential sales from 2002 to 2018.\")\n",
    "print(\"\")\n",
    "print (\"our model purpose is - given the year the real estate was sold,the city it was sold in and the price it sold for,the model will predict the proprety type varying between:Condo,V,R,Single Family and Two Family.\")\n",
    "\n"
   ]
  },
  {
   "cell_type": "code",
   "execution_count": 4,
   "id": "bb8c5e92",
   "metadata": {},
   "outputs": [],
   "source": [
    "cols=['List Year','Town','Sale Amount','Property Type']\n",
    "df=pd.read_csv(\"Real.csv\",usecols=cols)"
   ]
  },
  {
   "cell_type": "code",
   "execution_count": 5,
   "id": "0876b325",
   "metadata": {},
   "outputs": [
    {
     "data": {
      "text/plain": [
       "List Year           0\n",
       "Town                0\n",
       "Sale Amount         0\n",
       "Property Type    4888\n",
       "dtype: int64"
      ]
     },
     "execution_count": 5,
     "metadata": {},
     "output_type": "execute_result"
    }
   ],
   "source": [
    "# checking for missing values\n",
    "df.isna().sum()"
   ]
  },
  {
   "cell_type": "code",
   "execution_count": 6,
   "id": "4bf84294",
   "metadata": {},
   "outputs": [
    {
     "name": "stdout",
     "output_type": "stream",
     "text": [
      "because our dataframe is so big and the NaN value are so small compared to it we can drop all the nan values and make our model on the smaller dataframe.\n"
     ]
    }
   ],
   "source": [
    "# dropping the missing values\n",
    "print(\"because our dataframe is so big and the NaN value are so small compared to it we can drop all the nan values and make our model on the smaller dataframe.\")\n",
    "n=df.dropna()"
   ]
  },
  {
   "cell_type": "code",
   "execution_count": 7,
   "id": "1d136b80",
   "metadata": {
    "scrolled": true
   },
   "outputs": [
    {
     "data": {
      "text/plain": [
       "List Year        0\n",
       "Town             0\n",
       "Sale Amount      0\n",
       "Property Type    0\n",
       "dtype: int64"
      ]
     },
     "execution_count": 7,
     "metadata": {},
     "output_type": "execute_result"
    }
   ],
   "source": [
    "n.isna().sum()"
   ]
  },
  {
   "cell_type": "code",
   "execution_count": 8,
   "id": "b9bd5c0c",
   "metadata": {},
   "outputs": [
    {
     "data": {
      "text/html": [
       "<div>\n",
       "<style scoped>\n",
       "    .dataframe tbody tr th:only-of-type {\n",
       "        vertical-align: middle;\n",
       "    }\n",
       "\n",
       "    .dataframe tbody tr th {\n",
       "        vertical-align: top;\n",
       "    }\n",
       "\n",
       "    .dataframe thead th {\n",
       "        text-align: right;\n",
       "    }\n",
       "</style>\n",
       "<table border=\"1\" class=\"dataframe\">\n",
       "  <thead>\n",
       "    <tr style=\"text-align: right;\">\n",
       "      <th></th>\n",
       "      <th>List Year</th>\n",
       "      <th>Town</th>\n",
       "      <th>Sale Amount</th>\n",
       "      <th>Property Type</th>\n",
       "    </tr>\n",
       "  </thead>\n",
       "  <tbody>\n",
       "    <tr>\n",
       "      <th>0</th>\n",
       "      <td>2019</td>\n",
       "      <td>Ansonia</td>\n",
       "      <td>284000.0</td>\n",
       "      <td>Single Family</td>\n",
       "    </tr>\n",
       "    <tr>\n",
       "      <th>1</th>\n",
       "      <td>2019</td>\n",
       "      <td>Avon</td>\n",
       "      <td>173800.0</td>\n",
       "      <td>Condo</td>\n",
       "    </tr>\n",
       "    <tr>\n",
       "      <th>2</th>\n",
       "      <td>2019</td>\n",
       "      <td>Avon</td>\n",
       "      <td>317500.0</td>\n",
       "      <td>Single Family</td>\n",
       "    </tr>\n",
       "    <tr>\n",
       "      <th>3</th>\n",
       "      <td>2019</td>\n",
       "      <td>Beacon Falls</td>\n",
       "      <td>229900.0</td>\n",
       "      <td>Single Family</td>\n",
       "    </tr>\n",
       "    <tr>\n",
       "      <th>4</th>\n",
       "      <td>2019</td>\n",
       "      <td>Bethany</td>\n",
       "      <td>560000.0</td>\n",
       "      <td>Single Family</td>\n",
       "    </tr>\n",
       "    <tr>\n",
       "      <th>...</th>\n",
       "      <td>...</td>\n",
       "      <td>...</td>\n",
       "      <td>...</td>\n",
       "      <td>...</td>\n",
       "    </tr>\n",
       "    <tr>\n",
       "      <th>930616</th>\n",
       "      <td>2018</td>\n",
       "      <td>Stamford</td>\n",
       "      <td>214350.0</td>\n",
       "      <td>Residential</td>\n",
       "    </tr>\n",
       "    <tr>\n",
       "      <th>930617</th>\n",
       "      <td>2018</td>\n",
       "      <td>West Hartford</td>\n",
       "      <td>176000.0</td>\n",
       "      <td>Residential</td>\n",
       "    </tr>\n",
       "    <tr>\n",
       "      <th>930618</th>\n",
       "      <td>2018</td>\n",
       "      <td>Stafford</td>\n",
       "      <td>37000.0</td>\n",
       "      <td>Commercial</td>\n",
       "    </tr>\n",
       "    <tr>\n",
       "      <th>930619</th>\n",
       "      <td>2018</td>\n",
       "      <td>Ridgefield</td>\n",
       "      <td>725000.0</td>\n",
       "      <td>Residential</td>\n",
       "    </tr>\n",
       "    <tr>\n",
       "      <th>930620</th>\n",
       "      <td>2018</td>\n",
       "      <td>Southbury</td>\n",
       "      <td>90000.0</td>\n",
       "      <td>Residential</td>\n",
       "    </tr>\n",
       "  </tbody>\n",
       "</table>\n",
       "<p>925733 rows × 4 columns</p>\n",
       "</div>"
      ],
      "text/plain": [
       "        List Year           Town  Sale Amount  Property Type\n",
       "0            2019        Ansonia     284000.0  Single Family\n",
       "1            2019           Avon     173800.0          Condo\n",
       "2            2019           Avon     317500.0  Single Family\n",
       "3            2019   Beacon Falls     229900.0  Single Family\n",
       "4            2019        Bethany     560000.0  Single Family\n",
       "...           ...            ...          ...            ...\n",
       "930616       2018       Stamford     214350.0    Residential\n",
       "930617       2018  West Hartford     176000.0    Residential\n",
       "930618       2018       Stafford      37000.0     Commercial\n",
       "930619       2018     Ridgefield     725000.0    Residential\n",
       "930620       2018      Southbury      90000.0    Residential\n",
       "\n",
       "[925733 rows x 4 columns]"
      ]
     },
     "execution_count": 8,
     "metadata": {},
     "output_type": "execute_result"
    }
   ],
   "source": [
    "n"
   ]
  },
  {
   "cell_type": "code",
   "execution_count": 9,
   "id": "793abe94",
   "metadata": {},
   "outputs": [
    {
     "data": {
      "text/html": [
       "<div>\n",
       "<style scoped>\n",
       "    .dataframe tbody tr th:only-of-type {\n",
       "        vertical-align: middle;\n",
       "    }\n",
       "\n",
       "    .dataframe tbody tr th {\n",
       "        vertical-align: top;\n",
       "    }\n",
       "\n",
       "    .dataframe thead th {\n",
       "        text-align: right;\n",
       "    }\n",
       "</style>\n",
       "<table border=\"1\" class=\"dataframe\">\n",
       "  <thead>\n",
       "    <tr style=\"text-align: right;\">\n",
       "      <th></th>\n",
       "      <th>List_Year</th>\n",
       "      <th>Town</th>\n",
       "      <th>Sale_Amount</th>\n",
       "      <th>Property_Type</th>\n",
       "    </tr>\n",
       "  </thead>\n",
       "  <tbody>\n",
       "    <tr>\n",
       "      <th>0</th>\n",
       "      <td>2019</td>\n",
       "      <td>Ansonia</td>\n",
       "      <td>284000.0</td>\n",
       "      <td>Single Family</td>\n",
       "    </tr>\n",
       "    <tr>\n",
       "      <th>1</th>\n",
       "      <td>2019</td>\n",
       "      <td>Avon</td>\n",
       "      <td>173800.0</td>\n",
       "      <td>Condo</td>\n",
       "    </tr>\n",
       "    <tr>\n",
       "      <th>2</th>\n",
       "      <td>2019</td>\n",
       "      <td>Avon</td>\n",
       "      <td>317500.0</td>\n",
       "      <td>Single Family</td>\n",
       "    </tr>\n",
       "    <tr>\n",
       "      <th>3</th>\n",
       "      <td>2019</td>\n",
       "      <td>Beacon Falls</td>\n",
       "      <td>229900.0</td>\n",
       "      <td>Single Family</td>\n",
       "    </tr>\n",
       "    <tr>\n",
       "      <th>4</th>\n",
       "      <td>2019</td>\n",
       "      <td>Bethany</td>\n",
       "      <td>560000.0</td>\n",
       "      <td>Single Family</td>\n",
       "    </tr>\n",
       "    <tr>\n",
       "      <th>...</th>\n",
       "      <td>...</td>\n",
       "      <td>...</td>\n",
       "      <td>...</td>\n",
       "      <td>...</td>\n",
       "    </tr>\n",
       "    <tr>\n",
       "      <th>930613</th>\n",
       "      <td>2018</td>\n",
       "      <td>Stamford</td>\n",
       "      <td>900000.0</td>\n",
       "      <td>Commercial</td>\n",
       "    </tr>\n",
       "    <tr>\n",
       "      <th>930615</th>\n",
       "      <td>2018</td>\n",
       "      <td>Woodbridge</td>\n",
       "      <td>317000.0</td>\n",
       "      <td>Residential</td>\n",
       "    </tr>\n",
       "    <tr>\n",
       "      <th>930616</th>\n",
       "      <td>2018</td>\n",
       "      <td>Stamford</td>\n",
       "      <td>214350.0</td>\n",
       "      <td>Residential</td>\n",
       "    </tr>\n",
       "    <tr>\n",
       "      <th>930617</th>\n",
       "      <td>2018</td>\n",
       "      <td>West Hartford</td>\n",
       "      <td>176000.0</td>\n",
       "      <td>Residential</td>\n",
       "    </tr>\n",
       "    <tr>\n",
       "      <th>930618</th>\n",
       "      <td>2018</td>\n",
       "      <td>Stafford</td>\n",
       "      <td>37000.0</td>\n",
       "      <td>Commercial</td>\n",
       "    </tr>\n",
       "  </tbody>\n",
       "</table>\n",
       "<p>572858 rows × 4 columns</p>\n",
       "</div>"
      ],
      "text/plain": [
       "        List_Year           Town  Sale_Amount  Property_Type\n",
       "0            2019        Ansonia     284000.0  Single Family\n",
       "1            2019           Avon     173800.0          Condo\n",
       "2            2019           Avon     317500.0  Single Family\n",
       "3            2019   Beacon Falls     229900.0  Single Family\n",
       "4            2019        Bethany     560000.0  Single Family\n",
       "...           ...            ...          ...            ...\n",
       "930613       2018       Stamford     900000.0     Commercial\n",
       "930615       2018     Woodbridge     317000.0    Residential\n",
       "930616       2018       Stamford     214350.0    Residential\n",
       "930617       2018  West Hartford     176000.0    Residential\n",
       "930618       2018       Stafford      37000.0     Commercial\n",
       "\n",
       "[572858 rows x 4 columns]"
      ]
     },
     "execution_count": 9,
     "metadata": {},
     "output_type": "execute_result"
    }
   ],
   "source": [
    "# renaming columns and dropping duplicates\n",
    "n=n.rename({'List Year':'List_Year','Sale Amount':'Sale_Amount','Property Type':'Property_Type'},axis='columns')\n",
    "n.drop_duplicates()\n"
   ]
  },
  {
   "cell_type": "code",
   "execution_count": 10,
   "id": "0b773fcf",
   "metadata": {},
   "outputs": [
    {
     "data": {
      "text/html": [
       "<div>\n",
       "<style scoped>\n",
       "    .dataframe tbody tr th:only-of-type {\n",
       "        vertical-align: middle;\n",
       "    }\n",
       "\n",
       "    .dataframe tbody tr th {\n",
       "        vertical-align: top;\n",
       "    }\n",
       "\n",
       "    .dataframe thead th {\n",
       "        text-align: right;\n",
       "    }\n",
       "</style>\n",
       "<table border=\"1\" class=\"dataframe\">\n",
       "  <thead>\n",
       "    <tr style=\"text-align: right;\">\n",
       "      <th></th>\n",
       "      <th>List_Year</th>\n",
       "      <th>Town</th>\n",
       "      <th>Sale_Amount</th>\n",
       "      <th>Property_Type</th>\n",
       "    </tr>\n",
       "  </thead>\n",
       "  <tbody>\n",
       "    <tr>\n",
       "      <th>0</th>\n",
       "      <td>2019</td>\n",
       "      <td>Ansonia</td>\n",
       "      <td>284000.0</td>\n",
       "      <td>Single Family</td>\n",
       "    </tr>\n",
       "    <tr>\n",
       "      <th>1</th>\n",
       "      <td>2019</td>\n",
       "      <td>Avon</td>\n",
       "      <td>173800.0</td>\n",
       "      <td>Condo</td>\n",
       "    </tr>\n",
       "    <tr>\n",
       "      <th>2</th>\n",
       "      <td>2019</td>\n",
       "      <td>Avon</td>\n",
       "      <td>317500.0</td>\n",
       "      <td>Single Family</td>\n",
       "    </tr>\n",
       "    <tr>\n",
       "      <th>3</th>\n",
       "      <td>2019</td>\n",
       "      <td>Beacon Falls</td>\n",
       "      <td>229900.0</td>\n",
       "      <td>Single Family</td>\n",
       "    </tr>\n",
       "    <tr>\n",
       "      <th>4</th>\n",
       "      <td>2019</td>\n",
       "      <td>Bethany</td>\n",
       "      <td>560000.0</td>\n",
       "      <td>Single Family</td>\n",
       "    </tr>\n",
       "    <tr>\n",
       "      <th>...</th>\n",
       "      <td>...</td>\n",
       "      <td>...</td>\n",
       "      <td>...</td>\n",
       "      <td>...</td>\n",
       "    </tr>\n",
       "    <tr>\n",
       "      <th>930515</th>\n",
       "      <td>2018</td>\n",
       "      <td>Putnam</td>\n",
       "      <td>885000.0</td>\n",
       "      <td>Vacant Land</td>\n",
       "    </tr>\n",
       "    <tr>\n",
       "      <th>930518</th>\n",
       "      <td>2018</td>\n",
       "      <td>Waterbury</td>\n",
       "      <td>370000.0</td>\n",
       "      <td>Commercial</td>\n",
       "    </tr>\n",
       "    <tr>\n",
       "      <th>930561</th>\n",
       "      <td>2018</td>\n",
       "      <td>Simsbury</td>\n",
       "      <td>325000.0</td>\n",
       "      <td>Commercial</td>\n",
       "    </tr>\n",
       "    <tr>\n",
       "      <th>930613</th>\n",
       "      <td>2018</td>\n",
       "      <td>Stamford</td>\n",
       "      <td>900000.0</td>\n",
       "      <td>Commercial</td>\n",
       "    </tr>\n",
       "    <tr>\n",
       "      <th>930618</th>\n",
       "      <td>2018</td>\n",
       "      <td>Stafford</td>\n",
       "      <td>37000.0</td>\n",
       "      <td>Commercial</td>\n",
       "    </tr>\n",
       "  </tbody>\n",
       "</table>\n",
       "<p>388176 rows × 4 columns</p>\n",
       "</div>"
      ],
      "text/plain": [
       "        List_Year          Town  Sale_Amount  Property_Type\n",
       "0            2019       Ansonia     284000.0  Single Family\n",
       "1            2019          Avon     173800.0          Condo\n",
       "2            2019          Avon     317500.0  Single Family\n",
       "3            2019  Beacon Falls     229900.0  Single Family\n",
       "4            2019       Bethany     560000.0  Single Family\n",
       "...           ...           ...          ...            ...\n",
       "930515       2018        Putnam     885000.0    Vacant Land\n",
       "930518       2018     Waterbury     370000.0     Commercial\n",
       "930561       2018      Simsbury     325000.0     Commercial\n",
       "930613       2018      Stamford     900000.0     Commercial\n",
       "930618       2018      Stafford      37000.0     Commercial\n",
       "\n",
       "[388176 rows x 4 columns]"
      ]
     },
     "execution_count": 10,
     "metadata": {},
     "output_type": "execute_result"
    }
   ],
   "source": [
    "# defining dn\n",
    "dn=n[(n.Property_Type== 'Single Family')|(n.Property_Type== 'A')|(n.Property_Type== 'Vacant Land')|(n.Property_Type== 'Commercial')|(n.Property_Type== 'Two Family')|(n.Property_Type== 'R')|(n.Property_Type== 'Condo')]\n",
    "dn"
   ]
  },
  {
   "cell_type": "code",
   "execution_count": 11,
   "id": "5866accf",
   "metadata": {},
   "outputs": [
    {
     "name": "stdout",
     "output_type": "stream",
     "text": [
      "we sorted the dataframe to the new dataframe dn,this data only have the wanted property types,this data also have no NaN           values.\n"
     ]
    }
   ],
   "source": [
    "print(\"we sorted the dataframe to the new dataframe dn,this data only have the wanted property types,this data also have no NaN           values.\")"
   ]
  },
  {
   "cell_type": "code",
   "execution_count": 12,
   "id": "1ec381f9",
   "metadata": {},
   "outputs": [
    {
     "name": "stdout",
     "output_type": "stream",
     "text": [
      "<class 'pandas.core.frame.DataFrame'>\n",
      "Int64Index: 388176 entries, 0 to 930618\n",
      "Data columns (total 4 columns):\n",
      " #   Column         Non-Null Count   Dtype  \n",
      "---  ------         --------------   -----  \n",
      " 0   List_Year      388176 non-null  int64  \n",
      " 1   Town           388176 non-null  object \n",
      " 2   Sale_Amount    388176 non-null  float64\n",
      " 3   Property_Type  388176 non-null  object \n",
      "dtypes: float64(1), int64(1), object(2)\n",
      "memory usage: 55.6 MB\n"
     ]
    }
   ],
   "source": [
    "dn.info(memory_usage='deep')"
   ]
  },
  {
   "cell_type": "code",
   "execution_count": 13,
   "id": "62d504dc",
   "metadata": {},
   "outputs": [
    {
     "data": {
      "text/html": [
       "<div>\n",
       "<style scoped>\n",
       "    .dataframe tbody tr th:only-of-type {\n",
       "        vertical-align: middle;\n",
       "    }\n",
       "\n",
       "    .dataframe tbody tr th {\n",
       "        vertical-align: top;\n",
       "    }\n",
       "\n",
       "    .dataframe thead th {\n",
       "        text-align: right;\n",
       "    }\n",
       "</style>\n",
       "<table border=\"1\" class=\"dataframe\">\n",
       "  <thead>\n",
       "    <tr style=\"text-align: right;\">\n",
       "      <th></th>\n",
       "      <th>List_Year</th>\n",
       "      <th>Town</th>\n",
       "      <th>Sale_Amount</th>\n",
       "      <th>Property_Type</th>\n",
       "    </tr>\n",
       "  </thead>\n",
       "  <tbody>\n",
       "    <tr>\n",
       "      <th>0</th>\n",
       "      <td>2019</td>\n",
       "      <td>Ansonia</td>\n",
       "      <td>284000.0</td>\n",
       "      <td>Single Family</td>\n",
       "    </tr>\n",
       "    <tr>\n",
       "      <th>1</th>\n",
       "      <td>2019</td>\n",
       "      <td>Avon</td>\n",
       "      <td>173800.0</td>\n",
       "      <td>Condo</td>\n",
       "    </tr>\n",
       "    <tr>\n",
       "      <th>2</th>\n",
       "      <td>2019</td>\n",
       "      <td>Avon</td>\n",
       "      <td>317500.0</td>\n",
       "      <td>Single Family</td>\n",
       "    </tr>\n",
       "    <tr>\n",
       "      <th>3</th>\n",
       "      <td>2019</td>\n",
       "      <td>Beacon Falls</td>\n",
       "      <td>229900.0</td>\n",
       "      <td>Single Family</td>\n",
       "    </tr>\n",
       "    <tr>\n",
       "      <th>4</th>\n",
       "      <td>2019</td>\n",
       "      <td>Bethany</td>\n",
       "      <td>560000.0</td>\n",
       "      <td>Single Family</td>\n",
       "    </tr>\n",
       "    <tr>\n",
       "      <th>...</th>\n",
       "      <td>...</td>\n",
       "      <td>...</td>\n",
       "      <td>...</td>\n",
       "      <td>...</td>\n",
       "    </tr>\n",
       "    <tr>\n",
       "      <th>930515</th>\n",
       "      <td>2018</td>\n",
       "      <td>Putnam</td>\n",
       "      <td>885000.0</td>\n",
       "      <td>Vacant Land</td>\n",
       "    </tr>\n",
       "    <tr>\n",
       "      <th>930518</th>\n",
       "      <td>2018</td>\n",
       "      <td>Waterbury</td>\n",
       "      <td>370000.0</td>\n",
       "      <td>Commercial</td>\n",
       "    </tr>\n",
       "    <tr>\n",
       "      <th>930561</th>\n",
       "      <td>2018</td>\n",
       "      <td>Simsbury</td>\n",
       "      <td>325000.0</td>\n",
       "      <td>Commercial</td>\n",
       "    </tr>\n",
       "    <tr>\n",
       "      <th>930613</th>\n",
       "      <td>2018</td>\n",
       "      <td>Stamford</td>\n",
       "      <td>900000.0</td>\n",
       "      <td>Commercial</td>\n",
       "    </tr>\n",
       "    <tr>\n",
       "      <th>930618</th>\n",
       "      <td>2018</td>\n",
       "      <td>Stafford</td>\n",
       "      <td>37000.0</td>\n",
       "      <td>Commercial</td>\n",
       "    </tr>\n",
       "  </tbody>\n",
       "</table>\n",
       "<p>388176 rows × 4 columns</p>\n",
       "</div>"
      ],
      "text/plain": [
       "        List_Year          Town  Sale_Amount  Property_Type\n",
       "0            2019       Ansonia     284000.0  Single Family\n",
       "1            2019          Avon     173800.0          Condo\n",
       "2            2019          Avon     317500.0  Single Family\n",
       "3            2019  Beacon Falls     229900.0  Single Family\n",
       "4            2019       Bethany     560000.0  Single Family\n",
       "...           ...           ...          ...            ...\n",
       "930515       2018        Putnam     885000.0    Vacant Land\n",
       "930518       2018     Waterbury     370000.0     Commercial\n",
       "930561       2018      Simsbury     325000.0     Commercial\n",
       "930613       2018      Stamford     900000.0     Commercial\n",
       "930618       2018      Stafford      37000.0     Commercial\n",
       "\n",
       "[388176 rows x 4 columns]"
      ]
     },
     "execution_count": 13,
     "metadata": {},
     "output_type": "execute_result"
    }
   ],
   "source": [
    "dn"
   ]
  },
  {
   "cell_type": "code",
   "execution_count": 14,
   "id": "e6b952b2",
   "metadata": {},
   "outputs": [
    {
     "data": {
      "text/html": [
       "<div>\n",
       "<style scoped>\n",
       "    .dataframe tbody tr th:only-of-type {\n",
       "        vertical-align: middle;\n",
       "    }\n",
       "\n",
       "    .dataframe tbody tr th {\n",
       "        vertical-align: top;\n",
       "    }\n",
       "\n",
       "    .dataframe thead th {\n",
       "        text-align: right;\n",
       "    }\n",
       "</style>\n",
       "<table border=\"1\" class=\"dataframe\">\n",
       "  <thead>\n",
       "    <tr style=\"text-align: right;\">\n",
       "      <th></th>\n",
       "      <th>index</th>\n",
       "      <th>List_Year</th>\n",
       "      <th>Town</th>\n",
       "      <th>Sale_Amount</th>\n",
       "      <th>Property_Type</th>\n",
       "    </tr>\n",
       "  </thead>\n",
       "  <tbody>\n",
       "    <tr>\n",
       "      <th>0</th>\n",
       "      <td>0</td>\n",
       "      <td>2019</td>\n",
       "      <td>Ansonia</td>\n",
       "      <td>284000.0</td>\n",
       "      <td>Single Family</td>\n",
       "    </tr>\n",
       "    <tr>\n",
       "      <th>1</th>\n",
       "      <td>1</td>\n",
       "      <td>2019</td>\n",
       "      <td>Avon</td>\n",
       "      <td>173800.0</td>\n",
       "      <td>Condo</td>\n",
       "    </tr>\n",
       "    <tr>\n",
       "      <th>2</th>\n",
       "      <td>2</td>\n",
       "      <td>2019</td>\n",
       "      <td>Avon</td>\n",
       "      <td>317500.0</td>\n",
       "      <td>Single Family</td>\n",
       "    </tr>\n",
       "    <tr>\n",
       "      <th>3</th>\n",
       "      <td>3</td>\n",
       "      <td>2019</td>\n",
       "      <td>Beacon Falls</td>\n",
       "      <td>229900.0</td>\n",
       "      <td>Single Family</td>\n",
       "    </tr>\n",
       "    <tr>\n",
       "      <th>4</th>\n",
       "      <td>4</td>\n",
       "      <td>2019</td>\n",
       "      <td>Bethany</td>\n",
       "      <td>560000.0</td>\n",
       "      <td>Single Family</td>\n",
       "    </tr>\n",
       "    <tr>\n",
       "      <th>...</th>\n",
       "      <td>...</td>\n",
       "      <td>...</td>\n",
       "      <td>...</td>\n",
       "      <td>...</td>\n",
       "      <td>...</td>\n",
       "    </tr>\n",
       "    <tr>\n",
       "      <th>388171</th>\n",
       "      <td>930515</td>\n",
       "      <td>2018</td>\n",
       "      <td>Putnam</td>\n",
       "      <td>885000.0</td>\n",
       "      <td>Vacant Land</td>\n",
       "    </tr>\n",
       "    <tr>\n",
       "      <th>388172</th>\n",
       "      <td>930518</td>\n",
       "      <td>2018</td>\n",
       "      <td>Waterbury</td>\n",
       "      <td>370000.0</td>\n",
       "      <td>Commercial</td>\n",
       "    </tr>\n",
       "    <tr>\n",
       "      <th>388173</th>\n",
       "      <td>930561</td>\n",
       "      <td>2018</td>\n",
       "      <td>Simsbury</td>\n",
       "      <td>325000.0</td>\n",
       "      <td>Commercial</td>\n",
       "    </tr>\n",
       "    <tr>\n",
       "      <th>388174</th>\n",
       "      <td>930613</td>\n",
       "      <td>2018</td>\n",
       "      <td>Stamford</td>\n",
       "      <td>900000.0</td>\n",
       "      <td>Commercial</td>\n",
       "    </tr>\n",
       "    <tr>\n",
       "      <th>388175</th>\n",
       "      <td>930618</td>\n",
       "      <td>2018</td>\n",
       "      <td>Stafford</td>\n",
       "      <td>37000.0</td>\n",
       "      <td>Commercial</td>\n",
       "    </tr>\n",
       "  </tbody>\n",
       "</table>\n",
       "<p>388176 rows × 5 columns</p>\n",
       "</div>"
      ],
      "text/plain": [
       "         index  List_Year          Town  Sale_Amount  Property_Type\n",
       "0            0       2019       Ansonia     284000.0  Single Family\n",
       "1            1       2019          Avon     173800.0          Condo\n",
       "2            2       2019          Avon     317500.0  Single Family\n",
       "3            3       2019  Beacon Falls     229900.0  Single Family\n",
       "4            4       2019       Bethany     560000.0  Single Family\n",
       "...        ...        ...           ...          ...            ...\n",
       "388171  930515       2018        Putnam     885000.0    Vacant Land\n",
       "388172  930518       2018     Waterbury     370000.0     Commercial\n",
       "388173  930561       2018      Simsbury     325000.0     Commercial\n",
       "388174  930613       2018      Stamford     900000.0     Commercial\n",
       "388175  930618       2018      Stafford      37000.0     Commercial\n",
       "\n",
       "[388176 rows x 5 columns]"
      ]
     },
     "execution_count": 14,
     "metadata": {},
     "output_type": "execute_result"
    }
   ],
   "source": [
    "dn = dn.reset_index()\n",
    "dn"
   ]
  },
  {
   "cell_type": "code",
   "execution_count": 15,
   "id": "b8994a57",
   "metadata": {},
   "outputs": [],
   "source": [
    "le3 = preprocessing.LabelEncoder()"
   ]
  },
  {
   "cell_type": "code",
   "execution_count": null,
   "id": "342635ce",
   "metadata": {},
   "outputs": [],
   "source": []
  },
  {
   "cell_type": "code",
   "execution_count": 16,
   "id": "daa46aa9",
   "metadata": {},
   "outputs": [],
   "source": [
    "Rv=(dn.Property_Type=='R').sum()\n",
    "Vv=(dn.Property_Type=='Vacant Land').sum()\n",
    "SFv=(dn.Property_Type=='Single Family').sum()\n",
    "TFv=(dn.Property_Type=='Two Family').sum()\n",
    "Cv=(dn.Property_Type=='Condo').sum()\n",
    "COv=(dn.Property_Type=='Commercial').sum()\n",
    "Av=(dn.Property_Type=='A').sum()\n",
    "\n",
    "TOTALv=388176"
   ]
  },
  {
   "cell_type": "code",
   "execution_count": 17,
   "id": "d8b9fe02",
   "metadata": {},
   "outputs": [
    {
     "data": {
      "image/png": "[encoded data removed]",
      "text/plain": [
       "<Figure size 432x288 with 1 Axes>"
      ]
     },
     "metadata": {},
     "output_type": "display_data"
    }
   ],
   "source": [
    "# Pie chart-for the diffrent property types\n",
    "labels = ['Single Family', 'Condo', 'Vacant Land','Two Family', 'R','A','Commercial']\n",
    "sizes = [SFv/TOTALv, Cv/TOTALv,Vv/TOTALv, TFv/TOTALv,Rv/TOTALv,Av/TOTALv,COv/TOTALv]\n",
    "\n",
    "colors = ['#ff9999','#66b3ff','#99ff99','#ffcc99','#f70505','#f7cb05','#f705f3']\n",
    "\n",
    "explode = (0.05,0.05,0.05,0.00,0.05,0.00,0.05)\n",
    " \n",
    "plt.pie(sizes, colors = colors, labels=labels, autopct='%1.1f%%', startangle=90, pctdistance=0.85, explode = explode)\n",
    "\n",
    "centre_circle = plt.Circle((0,0),0.70,fc='white')\n",
    "fig = plt.gcf()\n",
    "fig.gca().add_artist(centre_circle)\n",
    "\n",
    "  \n",
    "plt.tight_layout()\n",
    "plt.show()"
   ]
  },
  {
   "cell_type": "code",
   "execution_count": 18,
   "id": "185c6dbd",
   "metadata": {},
   "outputs": [
    {
     "data": {
      "text/html": [
       "<div>\n",
       "<style scoped>\n",
       "    .dataframe tbody tr th:only-of-type {\n",
       "        vertical-align: middle;\n",
       "    }\n",
       "\n",
       "    .dataframe tbody tr th {\n",
       "        vertical-align: top;\n",
       "    }\n",
       "\n",
       "    .dataframe thead th {\n",
       "        text-align: right;\n",
       "    }\n",
       "</style>\n",
       "<table border=\"1\" class=\"dataframe\">\n",
       "  <thead>\n",
       "    <tr style=\"text-align: right;\">\n",
       "      <th></th>\n",
       "      <th>index</th>\n",
       "      <th>List_Year</th>\n",
       "      <th>Town</th>\n",
       "      <th>Sale_Amount</th>\n",
       "      <th>Property_Type</th>\n",
       "    </tr>\n",
       "  </thead>\n",
       "  <tbody>\n",
       "    <tr>\n",
       "      <th>0</th>\n",
       "      <td>0</td>\n",
       "      <td>2019</td>\n",
       "      <td>1</td>\n",
       "      <td>284000.0</td>\n",
       "      <td>4</td>\n",
       "    </tr>\n",
       "    <tr>\n",
       "      <th>1</th>\n",
       "      <td>1</td>\n",
       "      <td>2019</td>\n",
       "      <td>3</td>\n",
       "      <td>173800.0</td>\n",
       "      <td>2</td>\n",
       "    </tr>\n",
       "    <tr>\n",
       "      <th>2</th>\n",
       "      <td>2</td>\n",
       "      <td>2019</td>\n",
       "      <td>3</td>\n",
       "      <td>317500.0</td>\n",
       "      <td>4</td>\n",
       "    </tr>\n",
       "    <tr>\n",
       "      <th>3</th>\n",
       "      <td>3</td>\n",
       "      <td>2019</td>\n",
       "      <td>5</td>\n",
       "      <td>229900.0</td>\n",
       "      <td>4</td>\n",
       "    </tr>\n",
       "    <tr>\n",
       "      <th>4</th>\n",
       "      <td>4</td>\n",
       "      <td>2019</td>\n",
       "      <td>7</td>\n",
       "      <td>560000.0</td>\n",
       "      <td>4</td>\n",
       "    </tr>\n",
       "    <tr>\n",
       "      <th>...</th>\n",
       "      <td>...</td>\n",
       "      <td>...</td>\n",
       "      <td>...</td>\n",
       "      <td>...</td>\n",
       "      <td>...</td>\n",
       "    </tr>\n",
       "    <tr>\n",
       "      <th>388171</th>\n",
       "      <td>930515</td>\n",
       "      <td>2018</td>\n",
       "      <td>115</td>\n",
       "      <td>885000.0</td>\n",
       "      <td>6</td>\n",
       "    </tr>\n",
       "    <tr>\n",
       "      <th>388172</th>\n",
       "      <td>930518</td>\n",
       "      <td>2018</td>\n",
       "      <td>150</td>\n",
       "      <td>370000.0</td>\n",
       "      <td>1</td>\n",
       "    </tr>\n",
       "    <tr>\n",
       "      <th>388173</th>\n",
       "      <td>930561</td>\n",
       "      <td>2018</td>\n",
       "      <td>127</td>\n",
       "      <td>325000.0</td>\n",
       "      <td>1</td>\n",
       "    </tr>\n",
       "    <tr>\n",
       "      <th>388174</th>\n",
       "      <td>930613</td>\n",
       "      <td>2018</td>\n",
       "      <td>134</td>\n",
       "      <td>900000.0</td>\n",
       "      <td>1</td>\n",
       "    </tr>\n",
       "    <tr>\n",
       "      <th>388175</th>\n",
       "      <td>930618</td>\n",
       "      <td>2018</td>\n",
       "      <td>133</td>\n",
       "      <td>37000.0</td>\n",
       "      <td>1</td>\n",
       "    </tr>\n",
       "  </tbody>\n",
       "</table>\n",
       "<p>388176 rows × 5 columns</p>\n",
       "</div>"
      ],
      "text/plain": [
       "         index  List_Year  Town  Sale_Amount  Property_Type\n",
       "0            0       2019     1     284000.0              4\n",
       "1            1       2019     3     173800.0              2\n",
       "2            2       2019     3     317500.0              4\n",
       "3            3       2019     5     229900.0              4\n",
       "4            4       2019     7     560000.0              4\n",
       "...        ...        ...   ...          ...            ...\n",
       "388171  930515       2018   115     885000.0              6\n",
       "388172  930518       2018   150     370000.0              1\n",
       "388173  930561       2018   127     325000.0              1\n",
       "388174  930613       2018   134     900000.0              1\n",
       "388175  930618       2018   133      37000.0              1\n",
       "\n",
       "[388176 rows x 5 columns]"
      ]
     },
     "execution_count": 18,
     "metadata": {},
     "output_type": "execute_result"
    }
   ],
   "source": [
    "# label encoding\n",
    "for Property_Type in dn:\n",
    "    if dn[Property_Type].dtype == object:\n",
    "        dn[Property_Type] = le3.fit_transform(dn[Property_Type])\n",
    "else:\n",
    "    pass\n",
    "dn"
   ]
  },
  {
   "cell_type": "code",
   "execution_count": 19,
   "id": "69ea13bc",
   "metadata": {},
   "outputs": [
    {
     "data": {
      "text/html": [
       "<div>\n",
       "<style scoped>\n",
       "    .dataframe tbody tr th:only-of-type {\n",
       "        vertical-align: middle;\n",
       "    }\n",
       "\n",
       "    .dataframe tbody tr th {\n",
       "        vertical-align: top;\n",
       "    }\n",
       "\n",
       "    .dataframe thead th {\n",
       "        text-align: right;\n",
       "    }\n",
       "</style>\n",
       "<table border=\"1\" class=\"dataframe\">\n",
       "  <thead>\n",
       "    <tr style=\"text-align: right;\">\n",
       "      <th></th>\n",
       "      <th>List_Year</th>\n",
       "      <th>Town</th>\n",
       "      <th>Sale_Amount</th>\n",
       "    </tr>\n",
       "  </thead>\n",
       "  <tbody>\n",
       "    <tr>\n",
       "      <th>0</th>\n",
       "      <td>2019</td>\n",
       "      <td>1</td>\n",
       "      <td>284000.0</td>\n",
       "    </tr>\n",
       "    <tr>\n",
       "      <th>1</th>\n",
       "      <td>2019</td>\n",
       "      <td>3</td>\n",
       "      <td>173800.0</td>\n",
       "    </tr>\n",
       "    <tr>\n",
       "      <th>2</th>\n",
       "      <td>2019</td>\n",
       "      <td>3</td>\n",
       "      <td>317500.0</td>\n",
       "    </tr>\n",
       "    <tr>\n",
       "      <th>3</th>\n",
       "      <td>2019</td>\n",
       "      <td>5</td>\n",
       "      <td>229900.0</td>\n",
       "    </tr>\n",
       "    <tr>\n",
       "      <th>4</th>\n",
       "      <td>2019</td>\n",
       "      <td>7</td>\n",
       "      <td>560000.0</td>\n",
       "    </tr>\n",
       "    <tr>\n",
       "      <th>...</th>\n",
       "      <td>...</td>\n",
       "      <td>...</td>\n",
       "      <td>...</td>\n",
       "    </tr>\n",
       "    <tr>\n",
       "      <th>388171</th>\n",
       "      <td>2018</td>\n",
       "      <td>115</td>\n",
       "      <td>885000.0</td>\n",
       "    </tr>\n",
       "    <tr>\n",
       "      <th>388172</th>\n",
       "      <td>2018</td>\n",
       "      <td>150</td>\n",
       "      <td>370000.0</td>\n",
       "    </tr>\n",
       "    <tr>\n",
       "      <th>388173</th>\n",
       "      <td>2018</td>\n",
       "      <td>127</td>\n",
       "      <td>325000.0</td>\n",
       "    </tr>\n",
       "    <tr>\n",
       "      <th>388174</th>\n",
       "      <td>2018</td>\n",
       "      <td>134</td>\n",
       "      <td>900000.0</td>\n",
       "    </tr>\n",
       "    <tr>\n",
       "      <th>388175</th>\n",
       "      <td>2018</td>\n",
       "      <td>133</td>\n",
       "      <td>37000.0</td>\n",
       "    </tr>\n",
       "  </tbody>\n",
       "</table>\n",
       "<p>388176 rows × 3 columns</p>\n",
       "</div>"
      ],
      "text/plain": [
       "        List_Year  Town  Sale_Amount\n",
       "0            2019     1     284000.0\n",
       "1            2019     3     173800.0\n",
       "2            2019     3     317500.0\n",
       "3            2019     5     229900.0\n",
       "4            2019     7     560000.0\n",
       "...           ...   ...          ...\n",
       "388171       2018   115     885000.0\n",
       "388172       2018   150     370000.0\n",
       "388173       2018   127     325000.0\n",
       "388174       2018   134     900000.0\n",
       "388175       2018   133      37000.0\n",
       "\n",
       "[388176 rows x 3 columns]"
      ]
     },
     "execution_count": 19,
     "metadata": {},
     "output_type": "execute_result"
    }
   ],
   "source": [
    "y=dn.drop(['Property_Type'],axis=1)\n",
    "x=y.drop(['index'],axis=1)\n",
    "x"
   ]
  },
  {
   "cell_type": "code",
   "execution_count": 20,
   "id": "681a1c0a",
   "metadata": {},
   "outputs": [
    {
     "name": "stdout",
     "output_type": "stream",
     "text": [
      "defining y as our target\n"
     ]
    },
    {
     "data": {
      "text/plain": [
       "0         4\n",
       "1         2\n",
       "2         4\n",
       "3         4\n",
       "4         4\n",
       "         ..\n",
       "388171    6\n",
       "388172    1\n",
       "388173    1\n",
       "388174    1\n",
       "388175    1\n",
       "Name: Property_Type, Length: 388176, dtype: int32"
      ]
     },
     "execution_count": 20,
     "metadata": {},
     "output_type": "execute_result"
    }
   ],
   "source": [
    "print('defining y as our target')\n",
    "y=dn['Property_Type']\n",
    "y"
   ]
  },
  {
   "cell_type": "code",
   "execution_count": 21,
   "id": "b658bc9c",
   "metadata": {},
   "outputs": [
    {
     "data": {
      "text/plain": [
       "3    290287\n",
       "4     40518\n",
       "6     23414\n",
       "1     19404\n",
       "2      9932\n",
       "5      2411\n",
       "0      2210\n",
       "Name: Property_Type, dtype: int64"
      ]
     },
     "execution_count": 21,
     "metadata": {},
     "output_type": "execute_result"
    }
   ],
   "source": [
    "y.value_counts()"
   ]
  },
  {
   "cell_type": "code",
   "execution_count": 22,
   "id": "5669b4fd",
   "metadata": {},
   "outputs": [
    {
     "name": "stdout",
     "output_type": "stream",
     "text": [
      "type 0=two family\n",
      "type 1=commercial\n",
      "type 2=condo\n",
      "type 3=R\n",
      "type 4=single family\n",
      "type 5=A \n",
      "type 6=Vacant land\n"
     ]
    },
    {
     "data": {
      "text/plain": [
       "<AxesSubplot:ylabel='Property_Type'>"
      ]
     },
     "execution_count": 22,
     "metadata": {},
     "output_type": "execute_result"
    },
    {
     "data": {
      "image/png": "[encoded data removed]",
      "text/plain": [
       "<Figure size 432x288 with 1 Axes>"
      ]
     },
     "metadata": {},
     "output_type": "display_data"
    }
   ],
   "source": [
    "print('type 0=two family')\n",
    "print('type 1=commercial') \n",
    "print('type 2=condo')\n",
    "print('type 3=R')\n",
    "print('type 4=single family')\n",
    "print('type 5=A ')\n",
    "print('type 6=Vacant land')\n",
    "      \n",
    "       \n",
    "      \n",
    "     \n",
    "y.value_counts().plot.pie(autopct='%.2f')\n"
   ]
  },
  {
   "cell_type": "code",
   "execution_count": 23,
   "id": "7bbd28b7",
   "metadata": {},
   "outputs": [
    {
     "name": "stdout",
     "output_type": "stream",
     "text": [
      "Property Type=4, n=40518 (10.438%)\n",
      "Property Type=2, n=9932 (2.559%)\n",
      "Property Type=3, n=290287 (74.782%)\n",
      "Property Type=5, n=2411 (0.621%)\n",
      "Property Type=0, n=2210 (0.569%)\n",
      "Property Type=6, n=23414 (6.032%)\n",
      "Property Type=1, n=19404 (4.999%)\n"
     ]
    },
    {
     "data": {
      "image/png": "[encoded data removed]",
      "text/plain": [
       "<Figure size 432x288 with 1 Axes>"
      ]
     },
     "metadata": {
      "needs_background": "light"
     },
     "output_type": "display_data"
    }
   ],
   "source": [
    "counter=Counter(y)\n",
    "for k,v in counter.items():\n",
    "    per = v / len(y) * 100\n",
    "    print('Property Type=%s, n=%d (%.3f%%)' % (k, v, per))\n",
    "# plot the distribution\n",
    "plt.bar(counter.keys(), counter.values())\n",
    "plt.show()"
   ]
  },
  {
   "cell_type": "code",
   "execution_count": 24,
   "id": "2c51519a",
   "metadata": {},
   "outputs": [
    {
     "data": {
      "image/png": "[encoded data removed]",
      "text/plain": [
       "<Figure size 432x288 with 1 Axes>"
      ]
     },
     "metadata": {},
     "output_type": "display_data"
    }
   ],
   "source": [
    "from imblearn.under_sampling import RandomUnderSampler\n",
    "\n",
    "# using under sampler to balance the dataframe\n",
    "rus = RandomUnderSampler(sampling_strategy='not minority') # Numerical value\n",
    "\n",
    "x_res, y_res = rus.fit_resample(x, y)\n",
    "\n",
    "\n",
    "ax = y_res.value_counts().plot.pie(autopct='%.2f')\n",
    "_ = ax.set_title(\"Under-sampling\")"
   ]
  },
  {
   "cell_type": "code",
   "execution_count": 25,
   "id": "5ec644df",
   "metadata": {},
   "outputs": [
    {
     "data": {
      "text/html": [
       "<div>\n",
       "<style scoped>\n",
       "    .dataframe tbody tr th:only-of-type {\n",
       "        vertical-align: middle;\n",
       "    }\n",
       "\n",
       "    .dataframe tbody tr th {\n",
       "        vertical-align: top;\n",
       "    }\n",
       "\n",
       "    .dataframe thead th {\n",
       "        text-align: right;\n",
       "    }\n",
       "</style>\n",
       "<table border=\"1\" class=\"dataframe\">\n",
       "  <thead>\n",
       "    <tr style=\"text-align: right;\">\n",
       "      <th></th>\n",
       "      <th>List_Year</th>\n",
       "      <th>Town</th>\n",
       "      <th>Sale_Amount</th>\n",
       "    </tr>\n",
       "  </thead>\n",
       "  <tbody>\n",
       "    <tr>\n",
       "      <th>0</th>\n",
       "      <td>2001</td>\n",
       "      <td>88</td>\n",
       "      <td>142500.0</td>\n",
       "    </tr>\n",
       "    <tr>\n",
       "      <th>1</th>\n",
       "      <td>2002</td>\n",
       "      <td>24</td>\n",
       "      <td>119000.0</td>\n",
       "    </tr>\n",
       "    <tr>\n",
       "      <th>2</th>\n",
       "      <td>2002</td>\n",
       "      <td>63</td>\n",
       "      <td>470000.0</td>\n",
       "    </tr>\n",
       "    <tr>\n",
       "      <th>3</th>\n",
       "      <td>2003</td>\n",
       "      <td>134</td>\n",
       "      <td>228000.0</td>\n",
       "    </tr>\n",
       "    <tr>\n",
       "      <th>4</th>\n",
       "      <td>2003</td>\n",
       "      <td>134</td>\n",
       "      <td>170000.0</td>\n",
       "    </tr>\n",
       "    <tr>\n",
       "      <th>...</th>\n",
       "      <td>...</td>\n",
       "      <td>...</td>\n",
       "      <td>...</td>\n",
       "    </tr>\n",
       "    <tr>\n",
       "      <th>15465</th>\n",
       "      <td>2008</td>\n",
       "      <td>75</td>\n",
       "      <td>275000.0</td>\n",
       "    </tr>\n",
       "    <tr>\n",
       "      <th>15466</th>\n",
       "      <td>2015</td>\n",
       "      <td>116</td>\n",
       "      <td>170000.0</td>\n",
       "    </tr>\n",
       "    <tr>\n",
       "      <th>15467</th>\n",
       "      <td>2013</td>\n",
       "      <td>21</td>\n",
       "      <td>34000.0</td>\n",
       "    </tr>\n",
       "    <tr>\n",
       "      <th>15468</th>\n",
       "      <td>2013</td>\n",
       "      <td>104</td>\n",
       "      <td>125000.0</td>\n",
       "    </tr>\n",
       "    <tr>\n",
       "      <th>15469</th>\n",
       "      <td>2007</td>\n",
       "      <td>14</td>\n",
       "      <td>5000.0</td>\n",
       "    </tr>\n",
       "  </tbody>\n",
       "</table>\n",
       "<p>15470 rows × 3 columns</p>\n",
       "</div>"
      ],
      "text/plain": [
       "       List_Year  Town  Sale_Amount\n",
       "0           2001    88     142500.0\n",
       "1           2002    24     119000.0\n",
       "2           2002    63     470000.0\n",
       "3           2003   134     228000.0\n",
       "4           2003   134     170000.0\n",
       "...          ...   ...          ...\n",
       "15465       2008    75     275000.0\n",
       "15466       2015   116     170000.0\n",
       "15467       2013    21      34000.0\n",
       "15468       2013   104     125000.0\n",
       "15469       2007    14       5000.0\n",
       "\n",
       "[15470 rows x 3 columns]"
      ]
     },
     "execution_count": 25,
     "metadata": {},
     "output_type": "execute_result"
    }
   ],
   "source": [
    "x_res"
   ]
  },
  {
   "cell_type": "code",
   "execution_count": 26,
   "id": "287b5e04",
   "metadata": {},
   "outputs": [
    {
     "data": {
      "text/plain": [
       "0        0\n",
       "1        0\n",
       "2        0\n",
       "3        0\n",
       "4        0\n",
       "        ..\n",
       "15465    6\n",
       "15466    6\n",
       "15467    6\n",
       "15468    6\n",
       "15469    6\n",
       "Name: Property_Type, Length: 15470, dtype: int32"
      ]
     },
     "execution_count": 26,
     "metadata": {},
     "output_type": "execute_result"
    }
   ],
   "source": [
    "y_res"
   ]
  },
  {
   "cell_type": "code",
   "execution_count": 27,
   "id": "4462152c",
   "metadata": {},
   "outputs": [],
   "source": [
    "# creating a test and train datas\n",
    "x_train,x_test,y_train,y_test=train_test_split(x_res,y_res,test_size=0.2,random_state=42)"
   ]
  },
  {
   "cell_type": "code",
   "execution_count": 28,
   "id": "d49d6002",
   "metadata": {},
   "outputs": [
    {
     "data": {
      "text/plain": [
       "((12376, 3), (12376,), (3094, 3), (3094,))"
      ]
     },
     "execution_count": 28,
     "metadata": {},
     "output_type": "execute_result"
    }
   ],
   "source": [
    "x_train.shape,y_train.shape,x_test.shape,y_test.shape"
   ]
  },
  {
   "cell_type": "code",
   "execution_count": 29,
   "id": "559b10b3",
   "metadata": {},
   "outputs": [],
   "source": [
    "x_train_sca=x_train.drop(['Town'],axis=1)"
   ]
  },
  {
   "cell_type": "code",
   "execution_count": 30,
   "id": "ae2ca1b0",
   "metadata": {},
   "outputs": [],
   "source": [
    "scaler = StandardScaler()\n",
    "\n",
    "x_train_sca=scaler.fit_transform(x_train_sca)"
   ]
  },
  {
   "cell_type": "code",
   "execution_count": 31,
   "id": "e2aee6e0",
   "metadata": {},
   "outputs": [
    {
     "data": {
      "text/plain": [
       "array([[ 0.36997522, -0.12103846],\n",
       "       [-0.49999786, -0.09117452],\n",
       "       [ 0.94995727,  0.07110499],\n",
       "       ...,\n",
       "       [ 0.94995727, -0.1010916 ],\n",
       "       [-1.36997094, -0.11033252],\n",
       "       [-1.51496646, -0.11170739]])"
      ]
     },
     "execution_count": 31,
     "metadata": {},
     "output_type": "execute_result"
    }
   ],
   "source": [
    "x_train_sca"
   ]
  },
  {
   "cell_type": "code",
   "execution_count": 32,
   "id": "0b687df9",
   "metadata": {},
   "outputs": [],
   "source": [
    "x_test_sca=x_test.drop(['Town'],axis=1)"
   ]
  },
  {
   "cell_type": "code",
   "execution_count": 33,
   "id": "d14d61ab",
   "metadata": {},
   "outputs": [],
   "source": [
    "x_test_sca=scaler.transform(x_test_sca)"
   ]
  },
  {
   "cell_type": "code",
   "execution_count": 34,
   "id": "051a052c",
   "metadata": {},
   "outputs": [
    {
     "data": {
      "text/plain": [
       "array([[ 0.36997522, -0.08170822],\n",
       "       [ 0.94995727, -0.12250348],\n",
       "       [ 0.94995727, -0.08508904],\n",
       "       ...,\n",
       "       [ 0.94995727, -0.01807301],\n",
       "       [-0.78998889,  0.07786663],\n",
       "       [ 0.22497971,  0.03932525]])"
      ]
     },
     "execution_count": 34,
     "metadata": {},
     "output_type": "execute_result"
    }
   ],
   "source": [
    "x_test_sca"
   ]
  },
  {
   "cell_type": "code",
   "execution_count": 35,
   "id": "a7c94231",
   "metadata": {},
   "outputs": [],
   "source": [
    "x_train_scaled = pd.DataFrame(x_train_sca,  columns=['List_Year','Sale_Amount'])"
   ]
  },
  {
   "cell_type": "code",
   "execution_count": 36,
   "id": "1ea227e4",
   "metadata": {},
   "outputs": [
    {
     "data": {
      "text/html": [
       "<div>\n",
       "<style scoped>\n",
       "    .dataframe tbody tr th:only-of-type {\n",
       "        vertical-align: middle;\n",
       "    }\n",
       "\n",
       "    .dataframe tbody tr th {\n",
       "        vertical-align: top;\n",
       "    }\n",
       "\n",
       "    .dataframe thead th {\n",
       "        text-align: right;\n",
       "    }\n",
       "</style>\n",
       "<table border=\"1\" class=\"dataframe\">\n",
       "  <thead>\n",
       "    <tr style=\"text-align: right;\">\n",
       "      <th></th>\n",
       "      <th>List_Year</th>\n",
       "      <th>Sale_Amount</th>\n",
       "    </tr>\n",
       "  </thead>\n",
       "  <tbody>\n",
       "    <tr>\n",
       "      <th>0</th>\n",
       "      <td>0.369975</td>\n",
       "      <td>-0.121038</td>\n",
       "    </tr>\n",
       "    <tr>\n",
       "      <th>1</th>\n",
       "      <td>-0.499998</td>\n",
       "      <td>-0.091175</td>\n",
       "    </tr>\n",
       "    <tr>\n",
       "      <th>2</th>\n",
       "      <td>0.949957</td>\n",
       "      <td>0.071105</td>\n",
       "    </tr>\n",
       "    <tr>\n",
       "      <th>3</th>\n",
       "      <td>-0.499998</td>\n",
       "      <td>-0.083286</td>\n",
       "    </tr>\n",
       "    <tr>\n",
       "      <th>4</th>\n",
       "      <td>0.079984</td>\n",
       "      <td>0.307086</td>\n",
       "    </tr>\n",
       "    <tr>\n",
       "      <th>...</th>\n",
       "      <td>...</td>\n",
       "      <td>...</td>\n",
       "    </tr>\n",
       "    <tr>\n",
       "      <th>12371</th>\n",
       "      <td>0.949957</td>\n",
       "      <td>-0.090048</td>\n",
       "    </tr>\n",
       "    <tr>\n",
       "      <th>12372</th>\n",
       "      <td>0.369975</td>\n",
       "      <td>-0.091175</td>\n",
       "    </tr>\n",
       "    <tr>\n",
       "      <th>12373</th>\n",
       "      <td>0.949957</td>\n",
       "      <td>-0.101092</td>\n",
       "    </tr>\n",
       "    <tr>\n",
       "      <th>12374</th>\n",
       "      <td>-1.369971</td>\n",
       "      <td>-0.110333</td>\n",
       "    </tr>\n",
       "    <tr>\n",
       "      <th>12375</th>\n",
       "      <td>-1.514966</td>\n",
       "      <td>-0.111707</td>\n",
       "    </tr>\n",
       "  </tbody>\n",
       "</table>\n",
       "<p>12376 rows × 2 columns</p>\n",
       "</div>"
      ],
      "text/plain": [
       "       List_Year  Sale_Amount\n",
       "0       0.369975    -0.121038\n",
       "1      -0.499998    -0.091175\n",
       "2       0.949957     0.071105\n",
       "3      -0.499998    -0.083286\n",
       "4       0.079984     0.307086\n",
       "...          ...          ...\n",
       "12371   0.949957    -0.090048\n",
       "12372   0.369975    -0.091175\n",
       "12373   0.949957    -0.101092\n",
       "12374  -1.369971    -0.110333\n",
       "12375  -1.514966    -0.111707\n",
       "\n",
       "[12376 rows x 2 columns]"
      ]
     },
     "execution_count": 36,
     "metadata": {},
     "output_type": "execute_result"
    }
   ],
   "source": [
    "x_train_scaled"
   ]
  },
  {
   "cell_type": "code",
   "execution_count": 37,
   "id": "94586de0",
   "metadata": {},
   "outputs": [
    {
     "data": {
      "text/html": [
       "<div>\n",
       "<style scoped>\n",
       "    .dataframe tbody tr th:only-of-type {\n",
       "        vertical-align: middle;\n",
       "    }\n",
       "\n",
       "    .dataframe tbody tr th {\n",
       "        vertical-align: top;\n",
       "    }\n",
       "\n",
       "    .dataframe thead th {\n",
       "        text-align: right;\n",
       "    }\n",
       "</style>\n",
       "<table border=\"1\" class=\"dataframe\">\n",
       "  <thead>\n",
       "    <tr style=\"text-align: right;\">\n",
       "      <th></th>\n",
       "      <th>List_Year</th>\n",
       "      <th>Town</th>\n",
       "      <th>Sale_Amount</th>\n",
       "    </tr>\n",
       "  </thead>\n",
       "  <tbody>\n",
       "    <tr>\n",
       "      <th>0</th>\n",
       "      <td>0.369975</td>\n",
       "      <td>82</td>\n",
       "      <td>-0.121038</td>\n",
       "    </tr>\n",
       "    <tr>\n",
       "      <th>1</th>\n",
       "      <td>-0.499998</td>\n",
       "      <td>136</td>\n",
       "      <td>-0.091175</td>\n",
       "    </tr>\n",
       "    <tr>\n",
       "      <th>2</th>\n",
       "      <td>0.949957</td>\n",
       "      <td>17</td>\n",
       "      <td>0.071105</td>\n",
       "    </tr>\n",
       "    <tr>\n",
       "      <th>3</th>\n",
       "      <td>-0.499998</td>\n",
       "      <td>41</td>\n",
       "      <td>-0.083286</td>\n",
       "    </tr>\n",
       "    <tr>\n",
       "      <th>4</th>\n",
       "      <td>0.079984</td>\n",
       "      <td>14</td>\n",
       "      <td>0.307086</td>\n",
       "    </tr>\n",
       "    <tr>\n",
       "      <th>...</th>\n",
       "      <td>...</td>\n",
       "      <td>...</td>\n",
       "      <td>...</td>\n",
       "    </tr>\n",
       "    <tr>\n",
       "      <th>12371</th>\n",
       "      <td>0.949957</td>\n",
       "      <td>92</td>\n",
       "      <td>-0.090048</td>\n",
       "    </tr>\n",
       "    <tr>\n",
       "      <th>12372</th>\n",
       "      <td>0.369975</td>\n",
       "      <td>45</td>\n",
       "      <td>-0.091175</td>\n",
       "    </tr>\n",
       "    <tr>\n",
       "      <th>12373</th>\n",
       "      <td>0.949957</td>\n",
       "      <td>83</td>\n",
       "      <td>-0.101092</td>\n",
       "    </tr>\n",
       "    <tr>\n",
       "      <th>12374</th>\n",
       "      <td>-1.369971</td>\n",
       "      <td>134</td>\n",
       "      <td>-0.110333</td>\n",
       "    </tr>\n",
       "    <tr>\n",
       "      <th>12375</th>\n",
       "      <td>-1.514966</td>\n",
       "      <td>79</td>\n",
       "      <td>-0.111707</td>\n",
       "    </tr>\n",
       "  </tbody>\n",
       "</table>\n",
       "<p>12376 rows × 3 columns</p>\n",
       "</div>"
      ],
      "text/plain": [
       "       List_Year  Town  Sale_Amount\n",
       "0       0.369975    82    -0.121038\n",
       "1      -0.499998   136    -0.091175\n",
       "2       0.949957    17     0.071105\n",
       "3      -0.499998    41    -0.083286\n",
       "4       0.079984    14     0.307086\n",
       "...          ...   ...          ...\n",
       "12371   0.949957    92    -0.090048\n",
       "12372   0.369975    45    -0.091175\n",
       "12373   0.949957    83    -0.101092\n",
       "12374  -1.369971   134    -0.110333\n",
       "12375  -1.514966    79    -0.111707\n",
       "\n",
       "[12376 rows x 3 columns]"
      ]
     },
     "execution_count": 37,
     "metadata": {},
     "output_type": "execute_result"
    }
   ],
   "source": [
    "x_train = x_train.reset_index()\n",
    "x_train=x_train.drop(['index'],axis=1)\n",
    "\n",
    "\n",
    "x_train_scaled.insert(loc=1, column=\"Town\",value=x_train[\"Town\"])\n",
    "\n",
    "x_train_scaled\n",
    "\n",
    "\n",
    "\n"
   ]
  },
  {
   "cell_type": "code",
   "execution_count": 38,
   "id": "4386b08a",
   "metadata": {},
   "outputs": [
    {
     "data": {
      "text/plain": [
       "List_Year      0\n",
       "Town           0\n",
       "Sale_Amount    0\n",
       "dtype: int64"
      ]
     },
     "execution_count": 38,
     "metadata": {},
     "output_type": "execute_result"
    }
   ],
   "source": [
    "x_train_scaled.isna().sum()"
   ]
  },
  {
   "cell_type": "code",
   "execution_count": 39,
   "id": "2d884229",
   "metadata": {},
   "outputs": [
    {
     "data": {
      "text/html": [
       "<div>\n",
       "<style scoped>\n",
       "    .dataframe tbody tr th:only-of-type {\n",
       "        vertical-align: middle;\n",
       "    }\n",
       "\n",
       "    .dataframe tbody tr th {\n",
       "        vertical-align: top;\n",
       "    }\n",
       "\n",
       "    .dataframe thead th {\n",
       "        text-align: right;\n",
       "    }\n",
       "</style>\n",
       "<table border=\"1\" class=\"dataframe\">\n",
       "  <thead>\n",
       "    <tr style=\"text-align: right;\">\n",
       "      <th></th>\n",
       "      <th>List_Year</th>\n",
       "      <th>Sale_Amount</th>\n",
       "    </tr>\n",
       "  </thead>\n",
       "  <tbody>\n",
       "    <tr>\n",
       "      <th>0</th>\n",
       "      <td>0.369975</td>\n",
       "      <td>-0.081708</td>\n",
       "    </tr>\n",
       "    <tr>\n",
       "      <th>1</th>\n",
       "      <td>0.949957</td>\n",
       "      <td>-0.122503</td>\n",
       "    </tr>\n",
       "    <tr>\n",
       "      <th>2</th>\n",
       "      <td>0.949957</td>\n",
       "      <td>-0.085089</td>\n",
       "    </tr>\n",
       "    <tr>\n",
       "      <th>3</th>\n",
       "      <td>-1.514966</td>\n",
       "      <td>-0.021530</td>\n",
       "    </tr>\n",
       "    <tr>\n",
       "      <th>4</th>\n",
       "      <td>0.659966</td>\n",
       "      <td>-0.124081</td>\n",
       "    </tr>\n",
       "    <tr>\n",
       "      <th>...</th>\n",
       "      <td>...</td>\n",
       "      <td>...</td>\n",
       "    </tr>\n",
       "    <tr>\n",
       "      <th>3089</th>\n",
       "      <td>0.369975</td>\n",
       "      <td>-0.114840</td>\n",
       "    </tr>\n",
       "    <tr>\n",
       "      <th>3090</th>\n",
       "      <td>0.949957</td>\n",
       "      <td>-0.070484</td>\n",
       "    </tr>\n",
       "    <tr>\n",
       "      <th>3091</th>\n",
       "      <td>0.949957</td>\n",
       "      <td>-0.018073</td>\n",
       "    </tr>\n",
       "    <tr>\n",
       "      <th>3092</th>\n",
       "      <td>-0.789989</td>\n",
       "      <td>0.077867</td>\n",
       "    </tr>\n",
       "    <tr>\n",
       "      <th>3093</th>\n",
       "      <td>0.224980</td>\n",
       "      <td>0.039325</td>\n",
       "    </tr>\n",
       "  </tbody>\n",
       "</table>\n",
       "<p>3094 rows × 2 columns</p>\n",
       "</div>"
      ],
      "text/plain": [
       "      List_Year  Sale_Amount\n",
       "0      0.369975    -0.081708\n",
       "1      0.949957    -0.122503\n",
       "2      0.949957    -0.085089\n",
       "3     -1.514966    -0.021530\n",
       "4      0.659966    -0.124081\n",
       "...         ...          ...\n",
       "3089   0.369975    -0.114840\n",
       "3090   0.949957    -0.070484\n",
       "3091   0.949957    -0.018073\n",
       "3092  -0.789989     0.077867\n",
       "3093   0.224980     0.039325\n",
       "\n",
       "[3094 rows x 2 columns]"
      ]
     },
     "execution_count": 39,
     "metadata": {},
     "output_type": "execute_result"
    }
   ],
   "source": [
    "x_test_scaled= pd.DataFrame(x_test_sca,  columns=['List_Year','Sale_Amount'])\n",
    "x_test_scaled"
   ]
  },
  {
   "cell_type": "code",
   "execution_count": 40,
   "id": "e6e9a1aa",
   "metadata": {},
   "outputs": [
    {
     "data": {
      "text/html": [
       "<div>\n",
       "<style scoped>\n",
       "    .dataframe tbody tr th:only-of-type {\n",
       "        vertical-align: middle;\n",
       "    }\n",
       "\n",
       "    .dataframe tbody tr th {\n",
       "        vertical-align: top;\n",
       "    }\n",
       "\n",
       "    .dataframe thead th {\n",
       "        text-align: right;\n",
       "    }\n",
       "</style>\n",
       "<table border=\"1\" class=\"dataframe\">\n",
       "  <thead>\n",
       "    <tr style=\"text-align: right;\">\n",
       "      <th></th>\n",
       "      <th>List_Year</th>\n",
       "      <th>Town</th>\n",
       "      <th>Sale_Amount</th>\n",
       "    </tr>\n",
       "  </thead>\n",
       "  <tbody>\n",
       "    <tr>\n",
       "      <th>0</th>\n",
       "      <td>0.369975</td>\n",
       "      <td>48</td>\n",
       "      <td>-0.081708</td>\n",
       "    </tr>\n",
       "    <tr>\n",
       "      <th>1</th>\n",
       "      <td>0.949957</td>\n",
       "      <td>102</td>\n",
       "      <td>-0.122503</td>\n",
       "    </tr>\n",
       "    <tr>\n",
       "      <th>2</th>\n",
       "      <td>0.949957</td>\n",
       "      <td>83</td>\n",
       "      <td>-0.085089</td>\n",
       "    </tr>\n",
       "    <tr>\n",
       "      <th>3</th>\n",
       "      <td>-1.514966</td>\n",
       "      <td>143</td>\n",
       "      <td>-0.021530</td>\n",
       "    </tr>\n",
       "    <tr>\n",
       "      <th>4</th>\n",
       "      <td>0.659966</td>\n",
       "      <td>93</td>\n",
       "      <td>-0.124081</td>\n",
       "    </tr>\n",
       "    <tr>\n",
       "      <th>...</th>\n",
       "      <td>...</td>\n",
       "      <td>...</td>\n",
       "      <td>...</td>\n",
       "    </tr>\n",
       "    <tr>\n",
       "      <th>3089</th>\n",
       "      <td>0.369975</td>\n",
       "      <td>62</td>\n",
       "      <td>-0.114840</td>\n",
       "    </tr>\n",
       "    <tr>\n",
       "      <th>3090</th>\n",
       "      <td>0.949957</td>\n",
       "      <td>88</td>\n",
       "      <td>-0.070484</td>\n",
       "    </tr>\n",
       "    <tr>\n",
       "      <th>3091</th>\n",
       "      <td>0.949957</td>\n",
       "      <td>107</td>\n",
       "      <td>-0.018073</td>\n",
       "    </tr>\n",
       "    <tr>\n",
       "      <th>3092</th>\n",
       "      <td>-0.789989</td>\n",
       "      <td>14</td>\n",
       "      <td>0.077867</td>\n",
       "    </tr>\n",
       "    <tr>\n",
       "      <th>3093</th>\n",
       "      <td>0.224980</td>\n",
       "      <td>149</td>\n",
       "      <td>0.039325</td>\n",
       "    </tr>\n",
       "  </tbody>\n",
       "</table>\n",
       "<p>3094 rows × 3 columns</p>\n",
       "</div>"
      ],
      "text/plain": [
       "      List_Year  Town  Sale_Amount\n",
       "0      0.369975    48    -0.081708\n",
       "1      0.949957   102    -0.122503\n",
       "2      0.949957    83    -0.085089\n",
       "3     -1.514966   143    -0.021530\n",
       "4      0.659966    93    -0.124081\n",
       "...         ...   ...          ...\n",
       "3089   0.369975    62    -0.114840\n",
       "3090   0.949957    88    -0.070484\n",
       "3091   0.949957   107    -0.018073\n",
       "3092  -0.789989    14     0.077867\n",
       "3093   0.224980   149     0.039325\n",
       "\n",
       "[3094 rows x 3 columns]"
      ]
     },
     "execution_count": 40,
     "metadata": {},
     "output_type": "execute_result"
    }
   ],
   "source": [
    "x_test = x_test.reset_index()\n",
    "x_test=x_test.drop(['index'],axis=1)\n",
    "\n",
    "\n",
    "x_test_scaled.insert(loc=1, column=\"Town\",value=x_test[\"Town\"])\n",
    "\n",
    "x_test_scaled\n"
   ]
  },
  {
   "cell_type": "code",
   "execution_count": 41,
   "id": "35664bb0",
   "metadata": {},
   "outputs": [
    {
     "data": {
      "text/plain": [
       "List_Year      0\n",
       "Town           0\n",
       "Sale_Amount    0\n",
       "dtype: int64"
      ]
     },
     "execution_count": 41,
     "metadata": {},
     "output_type": "execute_result"
    }
   ],
   "source": [
    "x_test_scaled.isna().sum()"
   ]
  },
  {
   "cell_type": "code",
   "execution_count": 42,
   "id": "5d9ca4eb",
   "metadata": {},
   "outputs": [],
   "source": [
    "# x_test_scaled,x_train_scaled- test and train sets both balanced and scaled."
   ]
  },
  {
   "cell_type": "code",
   "execution_count": null,
   "id": "01478c55",
   "metadata": {},
   "outputs": [],
   "source": []
  },
  {
   "cell_type": "code",
   "execution_count": 43,
   "id": "58a181a0",
   "metadata": {},
   "outputs": [],
   "source": [
    "# label encoding on the town column\n",
    "le = preprocessing.LabelEncoder()\n",
    "le2 = preprocessing.LabelEncoder()\n",
    "\n",
    "\n",
    "for Town in x_train_scaled.columns:\n",
    "    if x_train_scaled[Town].dtype == object:\n",
    "        x_train_scaled[Town] = le.fit_transform(x_train_scaled[Town])\n",
    "else:\n",
    "    pass\n",
    "\n",
    "for Town in x_test_scaled.columns:\n",
    "    if x_test_scaled[Town].dtype == object:\n",
    "        x_test_scaled[Town] = le2.fit_transform(x_test_scaled[Town])\n",
    "else:\n",
    "    pass\n",
    "\n"
   ]
  },
  {
   "cell_type": "code",
   "execution_count": 44,
   "id": "e57537e1",
   "metadata": {},
   "outputs": [],
   "source": [
    "#RandomForest model\n",
    "clf = RandomForestClassifier()"
   ]
  },
  {
   "cell_type": "code",
   "execution_count": 45,
   "id": "48e2fe3f",
   "metadata": {},
   "outputs": [
    {
     "data": {
      "text/plain": [
       "array([0.66558966, 0.66962843, 0.6631664 , 0.66478191, 0.67447496,\n",
       "       0.67366721, 0.69361358, 0.65642684, 0.66774454, 0.67906225])"
      ]
     },
     "execution_count": 45,
     "metadata": {},
     "output_type": "execute_result"
    }
   ],
   "source": [
    "clf.fit(x_train_scaled,y_train)\n",
    "scores1=cross_val_score(clf,x_train_scaled,y_train,cv=10)\n",
    "scores1"
   ]
  },
  {
   "cell_type": "code",
   "execution_count": 46,
   "id": "d26697b9",
   "metadata": {},
   "outputs": [
    {
     "data": {
      "text/plain": [
       "0.6708155773191433"
      ]
     },
     "execution_count": 46,
     "metadata": {},
     "output_type": "execute_result"
    }
   ],
   "source": [
    "#clf averge score on the train using crossvalidation\n",
    "scores1.mean()"
   ]
  },
  {
   "cell_type": "code",
   "execution_count": 47,
   "id": "f754b312",
   "metadata": {},
   "outputs": [],
   "source": [
    "# linearRegression model\n",
    "model = linear_model.LinearRegression()"
   ]
  },
  {
   "cell_type": "code",
   "execution_count": 48,
   "id": "d71c6535",
   "metadata": {},
   "outputs": [
    {
     "data": {
      "text/plain": [
       "LinearRegression()"
      ]
     },
     "execution_count": 48,
     "metadata": {},
     "output_type": "execute_result"
    }
   ],
   "source": [
    "model.fit(x_train_scaled,y_train)"
   ]
  },
  {
   "cell_type": "code",
   "execution_count": 49,
   "id": "b2f39d9b",
   "metadata": {},
   "outputs": [
    {
     "data": {
      "text/plain": [
       "array([0.03212684, 0.15680264, 0.17048675, 0.16821654, 0.15887149,\n",
       "       0.19193945, 0.15722521, 0.15020838, 0.18800928, 0.1562222 ])"
      ]
     },
     "execution_count": 49,
     "metadata": {},
     "output_type": "execute_result"
    }
   ],
   "source": [
    "scores2=cross_val_score(model,x_train_scaled,y_train,cv=10)\n",
    "scores2"
   ]
  },
  {
   "cell_type": "code",
   "execution_count": 50,
   "id": "d9def67d",
   "metadata": {},
   "outputs": [
    {
     "data": {
      "text/plain": [
       "0.1530108779002544"
      ]
     },
     "execution_count": 50,
     "metadata": {},
     "output_type": "execute_result"
    }
   ],
   "source": [
    "#model averge score on the train using crossvalidation\n",
    "scores2.mean()"
   ]
  },
  {
   "cell_type": "code",
   "execution_count": 51,
   "id": "05c8d921",
   "metadata": {},
   "outputs": [],
   "source": [
    "# DecisionTree model\n",
    "tree=DecisionTreeClassifier()"
   ]
  },
  {
   "cell_type": "code",
   "execution_count": 52,
   "id": "882cb2b5",
   "metadata": {},
   "outputs": [
    {
     "data": {
      "text/plain": [
       "DecisionTreeClassifier()"
      ]
     },
     "execution_count": 52,
     "metadata": {},
     "output_type": "execute_result"
    }
   ],
   "source": [
    "tree.fit(x_train_scaled,y_train)"
   ]
  },
  {
   "cell_type": "code",
   "execution_count": 53,
   "id": "faa05660",
   "metadata": {},
   "outputs": [
    {
     "data": {
      "text/plain": [
       "array([0.63247173, 0.63974152, 0.63812601, 0.63489499, 0.6276252 ,\n",
       "       0.63570275, 0.64753436, 0.6305578 , 0.62732417, 0.64268391])"
      ]
     },
     "execution_count": 53,
     "metadata": {},
     "output_type": "execute_result"
    }
   ],
   "source": [
    "scores3=cross_val_score(tree,x_train_scaled,y_train,cv=10)\n",
    "scores3"
   ]
  },
  {
   "cell_type": "code",
   "execution_count": 54,
   "id": "2905f498",
   "metadata": {},
   "outputs": [
    {
     "data": {
      "text/plain": [
       "0.6356662439614315"
      ]
     },
     "execution_count": 54,
     "metadata": {},
     "output_type": "execute_result"
    }
   ],
   "source": [
    "#tree averge score on the train using crossvalidation\n",
    "scores3.mean()"
   ]
  },
  {
   "cell_type": "code",
   "execution_count": 55,
   "id": "3ec60b0b",
   "metadata": {},
   "outputs": [
    {
     "name": "stdout",
     "output_type": "stream",
     "text": [
      "the model that preformed the best is: clf\n"
     ]
    }
   ],
   "source": [
    "print('the model that preformed the best is: clf')"
   ]
  },
  {
   "cell_type": "code",
   "execution_count": 56,
   "id": "25d315a2",
   "metadata": {},
   "outputs": [
    {
     "name": "stdout",
     "output_type": "stream",
     "text": [
      "optimizing randomforest\n"
     ]
    }
   ],
   "source": [
    "print('optimizing randomforest')"
   ]
  },
  {
   "cell_type": "code",
   "execution_count": 57,
   "id": "88eeaec1",
   "metadata": {},
   "outputs": [],
   "source": [
    "n_estimators = [int(x) for x in np.linspace(start = 10, stop = 100, num = 10)]\n",
    "max_features = ['auto', 'sqrt']\n",
    "max_depth = [3,5,7,9,10]\n",
    "min_samples_split = [2,4,6]\n",
    "min_samples_leaf = [1, 2]\n",
    "bootstrap = [True, False]"
   ]
  },
  {
   "cell_type": "code",
   "execution_count": 58,
   "id": "9940b246",
   "metadata": {},
   "outputs": [],
   "source": [
    "param_grid = {'n_estimators': n_estimators,\n",
    "               'max_features': max_features,\n",
    "               'max_depth': max_depth,\n",
    "               'min_samples_split': min_samples_split,\n",
    "               'min_samples_leaf': min_samples_leaf,\n",
    "               'bootstrap': bootstrap}"
   ]
  },
  {
   "cell_type": "code",
   "execution_count": 59,
   "id": "71f2cc37",
   "metadata": {},
   "outputs": [],
   "source": [
    "rf_Model = RandomForestClassifier()"
   ]
  },
  {
   "cell_type": "code",
   "execution_count": 60,
   "id": "ef65d84d",
   "metadata": {},
   "outputs": [],
   "source": [
    "rf_Grid = GridSearchCV(estimator = rf_Model, param_grid = param_grid, cv = 2, verbose=2, n_jobs = 4)"
   ]
  },
  {
   "cell_type": "code",
   "execution_count": 61,
   "id": "aa3009d6",
   "metadata": {},
   "outputs": [
    {
     "name": "stdout",
     "output_type": "stream",
     "text": [
      "Fitting 2 folds for each of 1200 candidates, totalling 2400 fits\n"
     ]
    }
   ],
   "source": [
    "rf_Grid_model=rf_Grid.fit(x_train_scaled,y_train)"
   ]
  },
  {
   "cell_type": "code",
   "execution_count": 62,
   "id": "5517ad23",
   "metadata": {},
   "outputs": [
    {
     "data": {
      "text/plain": [
       "{'bootstrap': True,\n",
       " 'max_depth': 10,\n",
       " 'max_features': 'auto',\n",
       " 'min_samples_leaf': 2,\n",
       " 'min_samples_split': 2,\n",
       " 'n_estimators': 40}"
      ]
     },
     "execution_count": 62,
     "metadata": {},
     "output_type": "execute_result"
    }
   ],
   "source": [
    "rf_Grid_model.best_params_"
   ]
  },
  {
   "cell_type": "code",
   "execution_count": 63,
   "id": "b2c372eb",
   "metadata": {},
   "outputs": [
    {
     "data": {
      "text/plain": [
       "0.7218002585649644"
      ]
     },
     "execution_count": 63,
     "metadata": {},
     "output_type": "execute_result"
    }
   ],
   "source": [
    "rf_Grid.score(x_train_scaled,y_train)"
   ]
  },
  {
   "cell_type": "code",
   "execution_count": 64,
   "id": "25149f69",
   "metadata": {},
   "outputs": [
    {
     "data": {
      "text/plain": [
       "0.6900452488687783"
      ]
     },
     "execution_count": 64,
     "metadata": {},
     "output_type": "execute_result"
    }
   ],
   "source": [
    "# rf_Grid score on the test\n",
    "rf_Grid.score(x_test_scaled,y_test)"
   ]
  },
  {
   "cell_type": "code",
   "execution_count": 65,
   "id": "d9672755",
   "metadata": {},
   "outputs": [],
   "source": [
    "y_pred=rf_Grid.predict(x_test_scaled)"
   ]
  },
  {
   "cell_type": "code",
   "execution_count": null,
   "id": "9c9d691a",
   "metadata": {},
   "outputs": [],
   "source": []
  },
  {
   "cell_type": "code",
   "execution_count": 66,
   "id": "9fe742cd",
   "metadata": {},
   "outputs": [
    {
     "data": {
      "text/plain": [
       "array([[317,   0,   0, 113,   0,   0,   0],\n",
       "       [  0, 330,   0,   0,   0,   0, 134],\n",
       "       [  0,   0, 273,   0,  97,  74,   0],\n",
       "       [ 82,   0,   0, 352,   0,   0,   0],\n",
       "       [  0,   0,  98,   0, 290,  83,   0],\n",
       "       [  0,   0,  76,   0, 108, 248,   0],\n",
       "       [  0,  94,   0,   0,   0,   0, 325]], dtype=int64)"
      ]
     },
     "execution_count": 66,
     "metadata": {},
     "output_type": "execute_result"
    }
   ],
   "source": [
    "# confusion matrix\n",
    "confusion_matrix(y_test,y_pred)"
   ]
  },
  {
   "cell_type": "code",
   "execution_count": 67,
   "id": "2cc7d3dc",
   "metadata": {},
   "outputs": [
    {
     "data": {
      "image/png": "[encoded data removed]",
      "text/plain": [
       "<Figure size 432x288 with 2 Axes>"
      ]
     },
     "metadata": {
      "needs_background": "light"
     },
     "output_type": "display_data"
    }
   ],
   "source": [
    "# visualizing the confusion matrix\n",
    "import matplotlib.pyplot as plt\n",
    "from sklearn.datasets import make_classification\n",
    "from sklearn.metrics import confusion_matrix, ConfusionMatrixDisplay\n",
    "\n",
    "from sklearn.svm import SVC\n",
    "\n",
    "\n",
    "\n",
    "\n",
    "SVC(random_state=0)\n",
    "predictions = rf_Grid.predict(x_test_scaled)\n",
    "cm = confusion_matrix(y_test, predictions, labels=rf_Grid.classes_)\n",
    "disp = ConfusionMatrixDisplay(confusion_matrix=cm,\n",
    "                               display_labels=rf_Grid.classes_)\n",
    "disp.plot()\n",
    "\n",
    "plt.show()"
   ]
  },
  {
   "cell_type": "code",
   "execution_count": 68,
   "id": "1b0b38e1",
   "metadata": {},
   "outputs": [
    {
     "name": "stdout",
     "output_type": "stream",
     "text": [
      "type 0=two family\n",
      "type 1=commercial\n",
      "type 2=condo\n",
      "type 3=R\n",
      "type 4=single family\n",
      "type 5=A \n",
      "type 6=Vacant land\n"
     ]
    }
   ],
   "source": [
    "print('type 0=two family')\n",
    "print('type 1=commercial') \n",
    "print('type 2=condo')\n",
    "print('type 3=R')\n",
    "print('type 4=single family')\n",
    "print('type 5=A ')\n",
    "print('type 6=Vacant land')"
   ]
  },
  {
   "cell_type": "code",
   "execution_count": 69,
   "id": "ad50a074",
   "metadata": {},
   "outputs": [],
   "source": [
    "# creating dummy model-uniform\n",
    "uniform_clf=DummyClassifier(strategy='uniform').fit(x_train_scaled,y_train)"
   ]
  },
  {
   "cell_type": "code",
   "execution_count": 70,
   "id": "15860927",
   "metadata": {},
   "outputs": [
    {
     "data": {
      "text/plain": [
       "array([0.14054927, 0.1453958 , 0.13812601, 0.14216478, 0.14297254,\n",
       "       0.15508885, 0.13177041, 0.15117219, 0.15278901, 0.12691997])"
      ]
     },
     "execution_count": 70,
     "metadata": {},
     "output_type": "execute_result"
    }
   ],
   "source": [
    "scores5=cross_val_score(uniform_clf,x_train_scaled,y_train,cv=10)\n",
    "scores5"
   ]
  },
  {
   "cell_type": "code",
   "execution_count": 71,
   "id": "19ae1d6f",
   "metadata": {},
   "outputs": [
    {
     "data": {
      "text/plain": [
       "0.14269488300293978"
      ]
     },
     "execution_count": 71,
     "metadata": {},
     "output_type": "execute_result"
    }
   ],
   "source": [
    "scores5.mean()"
   ]
  },
  {
   "cell_type": "code",
   "execution_count": 72,
   "id": "2e23d8ab",
   "metadata": {},
   "outputs": [
    {
     "data": {
      "text/plain": [
       "0.143180349062702"
      ]
     },
     "execution_count": 72,
     "metadata": {},
     "output_type": "execute_result"
    }
   ],
   "source": [
    "# uniform score on the test\n",
    "uniform_clf.score(x_test_scaled,y_test)"
   ]
  },
  {
   "cell_type": "code",
   "execution_count": 73,
   "id": "d83d6578",
   "metadata": {},
   "outputs": [],
   "source": [
    "# creating dummy model-stratified\n",
    "stratified_clf=DummyClassifier(strategy='stratified').fit(x_train_scaled,y_train)"
   ]
  },
  {
   "cell_type": "code",
   "execution_count": 74,
   "id": "40998999",
   "metadata": {},
   "outputs": [
    {
     "data": {
      "text/plain": [
       "array([0.14701131, 0.16235864, 0.14135703, 0.14458805, 0.14378029,\n",
       "       0.15993538, 0.15521423, 0.13823767, 0.13257882, 0.13985449])"
      ]
     },
     "execution_count": 74,
     "metadata": {},
     "output_type": "execute_result"
    }
   ],
   "source": [
    "scores6=cross_val_score(uniform_clf,x_train_scaled,y_train,cv=10)\n",
    "scores6"
   ]
  },
  {
   "cell_type": "code",
   "execution_count": 75,
   "id": "413c2383",
   "metadata": {},
   "outputs": [
    {
     "data": {
      "text/plain": [
       "0.14649159008127172"
      ]
     },
     "execution_count": 75,
     "metadata": {},
     "output_type": "execute_result"
    }
   ],
   "source": [
    "scores6.mean()"
   ]
  },
  {
   "cell_type": "code",
   "execution_count": 76,
   "id": "cfab4220",
   "metadata": {},
   "outputs": [
    {
     "data": {
      "text/plain": [
       "0.14641241111829348"
      ]
     },
     "execution_count": 76,
     "metadata": {},
     "output_type": "execute_result"
    }
   ],
   "source": [
    "# stratified score on the test\n",
    "stratified_clf.score(x_test_scaled,y_test)"
   ]
  },
  {
   "cell_type": "code",
   "execution_count": 77,
   "id": "02d7c50b",
   "metadata": {},
   "outputs": [],
   "source": [
    "x=rf_Grid.score(x_test_scaled,y_test)\n",
    "y=uniform_clf.score(x_test_scaled,y_test)\n",
    "z=stratified_clf.score(x_test_scaled,y_test)\n",
    "r=clf.score(x_test_scaled,y_test)\n",
    "k=x-r"
   ]
  },
  {
   "cell_type": "code",
   "execution_count": 78,
   "id": "9505d7ed",
   "metadata": {},
   "outputs": [
    {
     "name": "stdout",
     "output_type": "stream",
     "text": [
      "our model result is:\n",
      "0.6900452488687783\n",
      "the un optimized random forest classifier result is:\n",
      "0.6764705882352942\n",
      "the uniform model result is:\n",
      "0.14382676147382029\n",
      "the stratified model result is:\n",
      "0.1457659987071752\n"
     ]
    }
   ],
   "source": [
    "print('our model result is:')\n",
    "print(x)\n",
    "print('the un optimized random forest classifier result is:')\n",
    "print(r)\n",
    "print('the uniform model result is:')\n",
    "print(y)\n",
    "print('the stratified model result is:')\n",
    "print(z)\n"
   ]
  },
  {
   "cell_type": "code",
   "execution_count": 79,
   "id": "1ab53218",
   "metadata": {},
   "outputs": [
    {
     "name": "stdout",
     "output_type": "stream",
     "text": [
      "our model was optimized\n",
      "the model had an improvment of\n",
      "0.013574660633484115\n",
      "our model preformed better than the dummy models\n"
     ]
    }
   ],
   "source": [
    "if x>r :\n",
    "    print('our model was optimized')\n",
    "    print('the model had an improvment of')\n",
    "    print(k)\n",
    "print('our model preformed better than the dummy models')\n",
    "\n",
    "        "
   ]
  },
  {
   "cell_type": "code",
   "execution_count": null,
   "id": "73ff62a0",
   "metadata": {},
   "outputs": [],
   "source": []
  },
  {
   "cell_type": "code",
   "execution_count": null,
   "id": "7f7953d0",
   "metadata": {},
   "outputs": [],
   "source": []
  },
  {
   "cell_type": "code",
   "execution_count": null,
   "id": "7def9af0",
   "metadata": {},
   "outputs": [],
   "source": []
  },
  {
   "cell_type": "code",
   "execution_count": null,
   "id": "b908f114",
   "metadata": {},
   "outputs": [],
   "source": []
  }
 ],
 "metadata": {
  "kernelspec": {
   "display_name": "Python 3 (ipykernel)",
   "language": "python",
   "name": "python3"
  },
  "language_info": {
   "codemirror_mode": {
    "name": "ipython",
    "version": 3
   },
   "file_extension": ".py",
   "mimetype": "text/x-python",
   "name": "python",
   "nbconvert_exporter": "python",
   "pygments_lexer": "ipython3",
   "version": "3.9.7"
  }
 },
 "nbformat": 4,
 "nbformat_minor": 5
}
