{
 "cells": [
  {
   "cell_type": "code",
   "execution_count": 1,
   "id": "7aa38c81",
   "metadata": {},
   "outputs": [],
   "source": [
    "import pandas as pd\n",
    "import numpy as np\n",
    "import matplotlib.pyplot as plt\n",
    "import seaborn as sns\n",
    "from sklearn.metrics import accuracy_score\n",
    "from sklearn.model_selection import train_test_split\n",
    "from sklearn.preprocessing import StandardScaler"
   ]
  },
  {
   "cell_type": "code",
   "execution_count": 2,
   "id": "b3ff98fe",
   "metadata": {},
   "outputs": [
    {
     "name": "stderr",
     "output_type": "stream",
     "text": [
      "C:\\Users\\user\\anaconda3\\lib\\site-packages\\IPython\\core\\interactiveshell.py:3444: DtypeWarning: Columns (9,10,11,12) have mixed types.Specify dtype option on import or set low_memory=False.\n",
      "  exec(code_obj, self.user_global_ns, self.user_ns)\n"
     ]
    },
    {
     "name": "stdout",
     "output_type": "stream",
     "text": [
      "<class 'pandas.core.frame.DataFrame'>\n",
      "RangeIndex: 930621 entries, 0 to 930620\n",
      "Data columns (total 14 columns):\n",
      " #   Column            Non-Null Count   Dtype  \n",
      "---  ------            --------------   -----  \n",
      " 0   Serial Number     930621 non-null  int64  \n",
      " 1   List Year         930621 non-null  int64  \n",
      " 2   Date Recorded     930619 non-null  object \n",
      " 3   Town              930621 non-null  object \n",
      " 4   Address           930570 non-null  object \n",
      " 5   Assessed Value    930621 non-null  float64\n",
      " 6   Sale Amount       930621 non-null  float64\n",
      " 7   Sales Ratio       930621 non-null  float64\n",
      " 8   Property Type     925733 non-null  object \n",
      " 9   Residential Type  548176 non-null  object \n",
      " 10  Non Use Code      275231 non-null  object \n",
      " 11  Assessor Remarks  135512 non-null  object \n",
      " 12  OPM remarks       7946 non-null    object \n",
      " 13  Location          680517 non-null  object \n",
      "dtypes: float64(3), int64(2), object(9)\n",
      "memory usage: 484.7 MB\n"
     ]
    }
   ],
   "source": [
    "d =pd.read_csv(\"Real.csv\")\n",
    "d.info(memory_usage='deep')"
   ]
  },
  {
   "cell_type": "code",
   "execution_count": 3,
   "id": "145b70c0",
   "metadata": {},
   "outputs": [
    {
     "name": "stdout",
     "output_type": "stream",
     "text": [
      "this dataset represents Maryland's total residential sales from 2002 to 2018.\n",
      "\n",
      "our model purpose is - given the year the real estate was sold,the city it was sold in and the price it sold for,the model will predict the proprety type varying between:Condo,V,R,Single Family and Two Family.\n"
     ]
    }
   ],
   "source": [
    "print (\"this dataset represents Maryland's total residential sales from 2002 to 2018.\")\n",
    "print(\"\")\n",
    "print (\"our model purpose is - given the year the real estate was sold,the city it was sold in and the price it sold for,the model will predict the proprety type varying between:Condo,V,R,Single Family and Two Family.\")\n",
    "\n"
   ]
  },
  {
   "cell_type": "code",
   "execution_count": 4,
   "id": "081ff9d5",
   "metadata": {},
   "outputs": [
    {
     "name": "stdout",
     "output_type": "stream",
     "text": [
      "we decided to ignore all the colums besides: Town, List Year,Sale Amount and Property Typem.\n",
      "because we belive they are irelevent for our model.\n"
     ]
    }
   ],
   "source": [
    "print(\"we decided to ignore all the colums besides: Town, List Year,Sale Amount and Property Typem.\")\n",
    "print (\"because we belive they are irelevent for our model.\")\n"
   ]
  },
  {
   "cell_type": "code",
   "execution_count": 5,
   "id": "bb8c5e92",
   "metadata": {},
   "outputs": [],
   "source": [
    "cols=['List Year','Town','Sale Amount','Property Type']\n",
    "df=pd.read_csv(\"Real.csv\",usecols=cols)"
   ]
  },
  {
   "cell_type": "code",
   "execution_count": 6,
   "id": "0876b325",
   "metadata": {},
   "outputs": [
    {
     "data": {
      "text/plain": [
       "List Year           0\n",
       "Town                0\n",
       "Sale Amount         0\n",
       "Property Type    4888\n",
       "dtype: int64"
      ]
     },
     "execution_count": 6,
     "metadata": {},
     "output_type": "execute_result"
    }
   ],
   "source": [
    "df.isna().sum()"
   ]
  },
  {
   "cell_type": "code",
   "execution_count": 7,
   "id": "4bf84294",
   "metadata": {},
   "outputs": [
    {
     "name": "stdout",
     "output_type": "stream",
     "text": [
      "because our dataframe is so big and the NaN value are so small compared to it we can drop all the nan values and make our model on the smaller dataframe.\n"
     ]
    }
   ],
   "source": [
    "print(\"because our dataframe is so big and the NaN value are so small compared to it we can drop all the nan values and make our model on the smaller dataframe.\")\n",
    "n=df.dropna()"
   ]
  },
  {
   "cell_type": "code",
   "execution_count": 8,
   "id": "1d136b80",
   "metadata": {
    "scrolled": true
   },
   "outputs": [
    {
     "data": {
      "text/plain": [
       "List Year        0\n",
       "Town             0\n",
       "Sale Amount      0\n",
       "Property Type    0\n",
       "dtype: int64"
      ]
     },
     "execution_count": 8,
     "metadata": {},
     "output_type": "execute_result"
    }
   ],
   "source": [
    "n.isna().sum()"
   ]
  },
  {
   "cell_type": "code",
   "execution_count": 9,
   "id": "b9bd5c0c",
   "metadata": {},
   "outputs": [
    {
     "data": {
      "text/html": [
       "<div>\n",
       "<style scoped>\n",
       "    .dataframe tbody tr th:only-of-type {\n",
       "        vertical-align: middle;\n",
       "    }\n",
       "\n",
       "    .dataframe tbody tr th {\n",
       "        vertical-align: top;\n",
       "    }\n",
       "\n",
       "    .dataframe thead th {\n",
       "        text-align: right;\n",
       "    }\n",
       "</style>\n",
       "<table border=\"1\" class=\"dataframe\">\n",
       "  <thead>\n",
       "    <tr style=\"text-align: right;\">\n",
       "      <th></th>\n",
       "      <th>List Year</th>\n",
       "      <th>Town</th>\n",
       "      <th>Sale Amount</th>\n",
       "      <th>Property Type</th>\n",
       "    </tr>\n",
       "  </thead>\n",
       "  <tbody>\n",
       "    <tr>\n",
       "      <th>0</th>\n",
       "      <td>2019</td>\n",
       "      <td>Ansonia</td>\n",
       "      <td>284000.0</td>\n",
       "      <td>Single Family</td>\n",
       "    </tr>\n",
       "    <tr>\n",
       "      <th>1</th>\n",
       "      <td>2019</td>\n",
       "      <td>Avon</td>\n",
       "      <td>173800.0</td>\n",
       "      <td>Condo</td>\n",
       "    </tr>\n",
       "    <tr>\n",
       "      <th>2</th>\n",
       "      <td>2019</td>\n",
       "      <td>Avon</td>\n",
       "      <td>317500.0</td>\n",
       "      <td>Single Family</td>\n",
       "    </tr>\n",
       "    <tr>\n",
       "      <th>3</th>\n",
       "      <td>2019</td>\n",
       "      <td>Beacon Falls</td>\n",
       "      <td>229900.0</td>\n",
       "      <td>Single Family</td>\n",
       "    </tr>\n",
       "    <tr>\n",
       "      <th>4</th>\n",
       "      <td>2019</td>\n",
       "      <td>Bethany</td>\n",
       "      <td>560000.0</td>\n",
       "      <td>Single Family</td>\n",
       "    </tr>\n",
       "    <tr>\n",
       "      <th>...</th>\n",
       "      <td>...</td>\n",
       "      <td>...</td>\n",
       "      <td>...</td>\n",
       "      <td>...</td>\n",
       "    </tr>\n",
       "    <tr>\n",
       "      <th>930616</th>\n",
       "      <td>2018</td>\n",
       "      <td>Stamford</td>\n",
       "      <td>214350.0</td>\n",
       "      <td>Residential</td>\n",
       "    </tr>\n",
       "    <tr>\n",
       "      <th>930617</th>\n",
       "      <td>2018</td>\n",
       "      <td>West Hartford</td>\n",
       "      <td>176000.0</td>\n",
       "      <td>Residential</td>\n",
       "    </tr>\n",
       "    <tr>\n",
       "      <th>930618</th>\n",
       "      <td>2018</td>\n",
       "      <td>Stafford</td>\n",
       "      <td>37000.0</td>\n",
       "      <td>Commercial</td>\n",
       "    </tr>\n",
       "    <tr>\n",
       "      <th>930619</th>\n",
       "      <td>2018</td>\n",
       "      <td>Ridgefield</td>\n",
       "      <td>725000.0</td>\n",
       "      <td>Residential</td>\n",
       "    </tr>\n",
       "    <tr>\n",
       "      <th>930620</th>\n",
       "      <td>2018</td>\n",
       "      <td>Southbury</td>\n",
       "      <td>90000.0</td>\n",
       "      <td>Residential</td>\n",
       "    </tr>\n",
       "  </tbody>\n",
       "</table>\n",
       "<p>925733 rows × 4 columns</p>\n",
       "</div>"
      ],
      "text/plain": [
       "        List Year           Town  Sale Amount  Property Type\n",
       "0            2019        Ansonia     284000.0  Single Family\n",
       "1            2019           Avon     173800.0          Condo\n",
       "2            2019           Avon     317500.0  Single Family\n",
       "3            2019   Beacon Falls     229900.0  Single Family\n",
       "4            2019        Bethany     560000.0  Single Family\n",
       "...           ...            ...          ...            ...\n",
       "930616       2018       Stamford     214350.0    Residential\n",
       "930617       2018  West Hartford     176000.0    Residential\n",
       "930618       2018       Stafford      37000.0     Commercial\n",
       "930619       2018     Ridgefield     725000.0    Residential\n",
       "930620       2018      Southbury      90000.0    Residential\n",
       "\n",
       "[925733 rows x 4 columns]"
      ]
     },
     "execution_count": 9,
     "metadata": {},
     "output_type": "execute_result"
    }
   ],
   "source": [
    "n"
   ]
  },
  {
   "cell_type": "code",
   "execution_count": 10,
   "id": "793abe94",
   "metadata": {},
   "outputs": [
    {
     "data": {
      "text/html": [
       "<div>\n",
       "<style scoped>\n",
       "    .dataframe tbody tr th:only-of-type {\n",
       "        vertical-align: middle;\n",
       "    }\n",
       "\n",
       "    .dataframe tbody tr th {\n",
       "        vertical-align: top;\n",
       "    }\n",
       "\n",
       "    .dataframe thead th {\n",
       "        text-align: right;\n",
       "    }\n",
       "</style>\n",
       "<table border=\"1\" class=\"dataframe\">\n",
       "  <thead>\n",
       "    <tr style=\"text-align: right;\">\n",
       "      <th></th>\n",
       "      <th>List_Year</th>\n",
       "      <th>Town</th>\n",
       "      <th>Sale_Amount</th>\n",
       "      <th>Property_Type</th>\n",
       "    </tr>\n",
       "  </thead>\n",
       "  <tbody>\n",
       "    <tr>\n",
       "      <th>208</th>\n",
       "      <td>2001</td>\n",
       "      <td>New Britain</td>\n",
       "      <td>142500.0</td>\n",
       "      <td>A</td>\n",
       "    </tr>\n",
       "    <tr>\n",
       "      <th>458</th>\n",
       "      <td>2002</td>\n",
       "      <td>Cheshire</td>\n",
       "      <td>119000.0</td>\n",
       "      <td>A</td>\n",
       "    </tr>\n",
       "    <tr>\n",
       "      <th>9447</th>\n",
       "      <td>2002</td>\n",
       "      <td>Hartford</td>\n",
       "      <td>470000.0</td>\n",
       "      <td>A</td>\n",
       "    </tr>\n",
       "    <tr>\n",
       "      <th>59366</th>\n",
       "      <td>2003</td>\n",
       "      <td>Stamford</td>\n",
       "      <td>228000.0</td>\n",
       "      <td>A</td>\n",
       "    </tr>\n",
       "    <tr>\n",
       "      <th>59368</th>\n",
       "      <td>2003</td>\n",
       "      <td>Stamford</td>\n",
       "      <td>170000.0</td>\n",
       "      <td>A</td>\n",
       "    </tr>\n",
       "    <tr>\n",
       "      <th>...</th>\n",
       "      <td>...</td>\n",
       "      <td>...</td>\n",
       "      <td>...</td>\n",
       "      <td>...</td>\n",
       "    </tr>\n",
       "    <tr>\n",
       "      <th>390148</th>\n",
       "      <td>2005</td>\n",
       "      <td>Stamford</td>\n",
       "      <td>815000.0</td>\n",
       "      <td>A</td>\n",
       "    </tr>\n",
       "    <tr>\n",
       "      <th>390330</th>\n",
       "      <td>2005</td>\n",
       "      <td>Waterbury</td>\n",
       "      <td>240000.0</td>\n",
       "      <td>A</td>\n",
       "    </tr>\n",
       "    <tr>\n",
       "      <th>390496</th>\n",
       "      <td>2005</td>\n",
       "      <td>Putnam</td>\n",
       "      <td>250000.0</td>\n",
       "      <td>A</td>\n",
       "    </tr>\n",
       "    <tr>\n",
       "      <th>390504</th>\n",
       "      <td>2005</td>\n",
       "      <td>Stamford</td>\n",
       "      <td>115000.0</td>\n",
       "      <td>A</td>\n",
       "    </tr>\n",
       "    <tr>\n",
       "      <th>390638</th>\n",
       "      <td>2005</td>\n",
       "      <td>Stamford</td>\n",
       "      <td>300000.0</td>\n",
       "      <td>A</td>\n",
       "    </tr>\n",
       "  </tbody>\n",
       "</table>\n",
       "<p>2210 rows × 4 columns</p>\n",
       "</div>"
      ],
      "text/plain": [
       "        List_Year         Town  Sale_Amount Property_Type\n",
       "208          2001  New Britain     142500.0             A\n",
       "458          2002     Cheshire     119000.0             A\n",
       "9447         2002     Hartford     470000.0             A\n",
       "59366        2003     Stamford     228000.0             A\n",
       "59368        2003     Stamford     170000.0             A\n",
       "...           ...          ...          ...           ...\n",
       "390148       2005     Stamford     815000.0             A\n",
       "390330       2005    Waterbury     240000.0             A\n",
       "390496       2005       Putnam     250000.0             A\n",
       "390504       2005     Stamford     115000.0             A\n",
       "390638       2005     Stamford     300000.0             A\n",
       "\n",
       "[2210 rows x 4 columns]"
      ]
     },
     "execution_count": 10,
     "metadata": {},
     "output_type": "execute_result"
    }
   ],
   "source": [
    "n=n.rename({'List Year':'List_Year','Sale Amount':'Sale_Amount','Property Type':'Property_Type'},axis='columns')\n",
    "n.drop_duplicates()\n",
    "dnf=n[(n.Property_Type== 'A')]\n",
    "dnf"
   ]
  },
  {
   "cell_type": "code",
   "execution_count": 11,
   "id": "0b773fcf",
   "metadata": {},
   "outputs": [
    {
     "data": {
      "text/html": [
       "<div>\n",
       "<style scoped>\n",
       "    .dataframe tbody tr th:only-of-type {\n",
       "        vertical-align: middle;\n",
       "    }\n",
       "\n",
       "    .dataframe tbody tr th {\n",
       "        vertical-align: top;\n",
       "    }\n",
       "\n",
       "    .dataframe thead th {\n",
       "        text-align: right;\n",
       "    }\n",
       "</style>\n",
       "<table border=\"1\" class=\"dataframe\">\n",
       "  <thead>\n",
       "    <tr style=\"text-align: right;\">\n",
       "      <th></th>\n",
       "      <th>List_Year</th>\n",
       "      <th>Town</th>\n",
       "      <th>Sale_Amount</th>\n",
       "      <th>Property_Type</th>\n",
       "    </tr>\n",
       "  </thead>\n",
       "  <tbody>\n",
       "    <tr>\n",
       "      <th>0</th>\n",
       "      <td>2019</td>\n",
       "      <td>Ansonia</td>\n",
       "      <td>284000.0</td>\n",
       "      <td>Single Family</td>\n",
       "    </tr>\n",
       "    <tr>\n",
       "      <th>1</th>\n",
       "      <td>2019</td>\n",
       "      <td>Avon</td>\n",
       "      <td>173800.0</td>\n",
       "      <td>Condo</td>\n",
       "    </tr>\n",
       "    <tr>\n",
       "      <th>2</th>\n",
       "      <td>2019</td>\n",
       "      <td>Avon</td>\n",
       "      <td>317500.0</td>\n",
       "      <td>Single Family</td>\n",
       "    </tr>\n",
       "    <tr>\n",
       "      <th>3</th>\n",
       "      <td>2019</td>\n",
       "      <td>Beacon Falls</td>\n",
       "      <td>229900.0</td>\n",
       "      <td>Single Family</td>\n",
       "    </tr>\n",
       "    <tr>\n",
       "      <th>4</th>\n",
       "      <td>2019</td>\n",
       "      <td>Bethany</td>\n",
       "      <td>560000.0</td>\n",
       "      <td>Single Family</td>\n",
       "    </tr>\n",
       "    <tr>\n",
       "      <th>...</th>\n",
       "      <td>...</td>\n",
       "      <td>...</td>\n",
       "      <td>...</td>\n",
       "      <td>...</td>\n",
       "    </tr>\n",
       "    <tr>\n",
       "      <th>930515</th>\n",
       "      <td>2018</td>\n",
       "      <td>Putnam</td>\n",
       "      <td>885000.0</td>\n",
       "      <td>Vacant Land</td>\n",
       "    </tr>\n",
       "    <tr>\n",
       "      <th>930518</th>\n",
       "      <td>2018</td>\n",
       "      <td>Waterbury</td>\n",
       "      <td>370000.0</td>\n",
       "      <td>Commercial</td>\n",
       "    </tr>\n",
       "    <tr>\n",
       "      <th>930561</th>\n",
       "      <td>2018</td>\n",
       "      <td>Simsbury</td>\n",
       "      <td>325000.0</td>\n",
       "      <td>Commercial</td>\n",
       "    </tr>\n",
       "    <tr>\n",
       "      <th>930613</th>\n",
       "      <td>2018</td>\n",
       "      <td>Stamford</td>\n",
       "      <td>900000.0</td>\n",
       "      <td>Commercial</td>\n",
       "    </tr>\n",
       "    <tr>\n",
       "      <th>930618</th>\n",
       "      <td>2018</td>\n",
       "      <td>Stafford</td>\n",
       "      <td>37000.0</td>\n",
       "      <td>Commercial</td>\n",
       "    </tr>\n",
       "  </tbody>\n",
       "</table>\n",
       "<p>388176 rows × 4 columns</p>\n",
       "</div>"
      ],
      "text/plain": [
       "        List_Year          Town  Sale_Amount  Property_Type\n",
       "0            2019       Ansonia     284000.0  Single Family\n",
       "1            2019          Avon     173800.0          Condo\n",
       "2            2019          Avon     317500.0  Single Family\n",
       "3            2019  Beacon Falls     229900.0  Single Family\n",
       "4            2019       Bethany     560000.0  Single Family\n",
       "...           ...           ...          ...            ...\n",
       "930515       2018        Putnam     885000.0    Vacant Land\n",
       "930518       2018     Waterbury     370000.0     Commercial\n",
       "930561       2018      Simsbury     325000.0     Commercial\n",
       "930613       2018      Stamford     900000.0     Commercial\n",
       "930618       2018      Stafford      37000.0     Commercial\n",
       "\n",
       "[388176 rows x 4 columns]"
      ]
     },
     "execution_count": 11,
     "metadata": {},
     "output_type": "execute_result"
    }
   ],
   "source": [
    "dn=n[(n.Property_Type== 'Single Family')|(n.Property_Type== 'A')|(n.Property_Type== 'Vacant Land')|(n.Property_Type== 'Commercial')|(n.Property_Type== 'Two Family')|(n.Property_Type== 'R')|(n.Property_Type== 'Condo')]\n",
    "dn"
   ]
  },
  {
   "cell_type": "code",
   "execution_count": 12,
   "id": "5866accf",
   "metadata": {},
   "outputs": [
    {
     "name": "stdout",
     "output_type": "stream",
     "text": [
      "we sorted the dataframe to the new dataframe dn,this data only have the wanted property types,this data also have no NaN           values.\n"
     ]
    }
   ],
   "source": [
    "print(\"we sorted the dataframe to the new dataframe dn,this data only have the wanted property types,this data also have no NaN           values.\")"
   ]
  },
  {
   "cell_type": "code",
   "execution_count": 13,
   "id": "1ec381f9",
   "metadata": {},
   "outputs": [
    {
     "name": "stdout",
     "output_type": "stream",
     "text": [
      "<class 'pandas.core.frame.DataFrame'>\n",
      "Int64Index: 388176 entries, 0 to 930618\n",
      "Data columns (total 4 columns):\n",
      " #   Column         Non-Null Count   Dtype  \n",
      "---  ------         --------------   -----  \n",
      " 0   List_Year      388176 non-null  int64  \n",
      " 1   Town           388176 non-null  object \n",
      " 2   Sale_Amount    388176 non-null  float64\n",
      " 3   Property_Type  388176 non-null  object \n",
      "dtypes: float64(1), int64(1), object(2)\n",
      "memory usage: 55.6 MB\n"
     ]
    }
   ],
   "source": [
    "dn.info(memory_usage='deep')"
   ]
  },
  {
   "cell_type": "code",
   "execution_count": 14,
   "id": "62d504dc",
   "metadata": {},
   "outputs": [
    {
     "data": {
      "text/html": [
       "<div>\n",
       "<style scoped>\n",
       "    .dataframe tbody tr th:only-of-type {\n",
       "        vertical-align: middle;\n",
       "    }\n",
       "\n",
       "    .dataframe tbody tr th {\n",
       "        vertical-align: top;\n",
       "    }\n",
       "\n",
       "    .dataframe thead th {\n",
       "        text-align: right;\n",
       "    }\n",
       "</style>\n",
       "<table border=\"1\" class=\"dataframe\">\n",
       "  <thead>\n",
       "    <tr style=\"text-align: right;\">\n",
       "      <th></th>\n",
       "      <th>List_Year</th>\n",
       "      <th>Town</th>\n",
       "      <th>Sale_Amount</th>\n",
       "      <th>Property_Type</th>\n",
       "    </tr>\n",
       "  </thead>\n",
       "  <tbody>\n",
       "    <tr>\n",
       "      <th>0</th>\n",
       "      <td>2019</td>\n",
       "      <td>Ansonia</td>\n",
       "      <td>284000.0</td>\n",
       "      <td>Single Family</td>\n",
       "    </tr>\n",
       "    <tr>\n",
       "      <th>1</th>\n",
       "      <td>2019</td>\n",
       "      <td>Avon</td>\n",
       "      <td>173800.0</td>\n",
       "      <td>Condo</td>\n",
       "    </tr>\n",
       "    <tr>\n",
       "      <th>2</th>\n",
       "      <td>2019</td>\n",
       "      <td>Avon</td>\n",
       "      <td>317500.0</td>\n",
       "      <td>Single Family</td>\n",
       "    </tr>\n",
       "    <tr>\n",
       "      <th>3</th>\n",
       "      <td>2019</td>\n",
       "      <td>Beacon Falls</td>\n",
       "      <td>229900.0</td>\n",
       "      <td>Single Family</td>\n",
       "    </tr>\n",
       "    <tr>\n",
       "      <th>4</th>\n",
       "      <td>2019</td>\n",
       "      <td>Bethany</td>\n",
       "      <td>560000.0</td>\n",
       "      <td>Single Family</td>\n",
       "    </tr>\n",
       "    <tr>\n",
       "      <th>...</th>\n",
       "      <td>...</td>\n",
       "      <td>...</td>\n",
       "      <td>...</td>\n",
       "      <td>...</td>\n",
       "    </tr>\n",
       "    <tr>\n",
       "      <th>930515</th>\n",
       "      <td>2018</td>\n",
       "      <td>Putnam</td>\n",
       "      <td>885000.0</td>\n",
       "      <td>Vacant Land</td>\n",
       "    </tr>\n",
       "    <tr>\n",
       "      <th>930518</th>\n",
       "      <td>2018</td>\n",
       "      <td>Waterbury</td>\n",
       "      <td>370000.0</td>\n",
       "      <td>Commercial</td>\n",
       "    </tr>\n",
       "    <tr>\n",
       "      <th>930561</th>\n",
       "      <td>2018</td>\n",
       "      <td>Simsbury</td>\n",
       "      <td>325000.0</td>\n",
       "      <td>Commercial</td>\n",
       "    </tr>\n",
       "    <tr>\n",
       "      <th>930613</th>\n",
       "      <td>2018</td>\n",
       "      <td>Stamford</td>\n",
       "      <td>900000.0</td>\n",
       "      <td>Commercial</td>\n",
       "    </tr>\n",
       "    <tr>\n",
       "      <th>930618</th>\n",
       "      <td>2018</td>\n",
       "      <td>Stafford</td>\n",
       "      <td>37000.0</td>\n",
       "      <td>Commercial</td>\n",
       "    </tr>\n",
       "  </tbody>\n",
       "</table>\n",
       "<p>388176 rows × 4 columns</p>\n",
       "</div>"
      ],
      "text/plain": [
       "        List_Year          Town  Sale_Amount  Property_Type\n",
       "0            2019       Ansonia     284000.0  Single Family\n",
       "1            2019          Avon     173800.0          Condo\n",
       "2            2019          Avon     317500.0  Single Family\n",
       "3            2019  Beacon Falls     229900.0  Single Family\n",
       "4            2019       Bethany     560000.0  Single Family\n",
       "...           ...           ...          ...            ...\n",
       "930515       2018        Putnam     885000.0    Vacant Land\n",
       "930518       2018     Waterbury     370000.0     Commercial\n",
       "930561       2018      Simsbury     325000.0     Commercial\n",
       "930613       2018      Stamford     900000.0     Commercial\n",
       "930618       2018      Stafford      37000.0     Commercial\n",
       "\n",
       "[388176 rows x 4 columns]"
      ]
     },
     "execution_count": 14,
     "metadata": {},
     "output_type": "execute_result"
    }
   ],
   "source": [
    "dn"
   ]
  },
  {
   "cell_type": "code",
   "execution_count": 15,
   "id": "e6b952b2",
   "metadata": {},
   "outputs": [
    {
     "data": {
      "text/html": [
       "<div>\n",
       "<style scoped>\n",
       "    .dataframe tbody tr th:only-of-type {\n",
       "        vertical-align: middle;\n",
       "    }\n",
       "\n",
       "    .dataframe tbody tr th {\n",
       "        vertical-align: top;\n",
       "    }\n",
       "\n",
       "    .dataframe thead th {\n",
       "        text-align: right;\n",
       "    }\n",
       "</style>\n",
       "<table border=\"1\" class=\"dataframe\">\n",
       "  <thead>\n",
       "    <tr style=\"text-align: right;\">\n",
       "      <th></th>\n",
       "      <th>index</th>\n",
       "      <th>List_Year</th>\n",
       "      <th>Town</th>\n",
       "      <th>Sale_Amount</th>\n",
       "      <th>Property_Type</th>\n",
       "    </tr>\n",
       "  </thead>\n",
       "  <tbody>\n",
       "    <tr>\n",
       "      <th>0</th>\n",
       "      <td>0</td>\n",
       "      <td>2019</td>\n",
       "      <td>Ansonia</td>\n",
       "      <td>284000.0</td>\n",
       "      <td>Single Family</td>\n",
       "    </tr>\n",
       "    <tr>\n",
       "      <th>1</th>\n",
       "      <td>1</td>\n",
       "      <td>2019</td>\n",
       "      <td>Avon</td>\n",
       "      <td>173800.0</td>\n",
       "      <td>Condo</td>\n",
       "    </tr>\n",
       "    <tr>\n",
       "      <th>2</th>\n",
       "      <td>2</td>\n",
       "      <td>2019</td>\n",
       "      <td>Avon</td>\n",
       "      <td>317500.0</td>\n",
       "      <td>Single Family</td>\n",
       "    </tr>\n",
       "    <tr>\n",
       "      <th>3</th>\n",
       "      <td>3</td>\n",
       "      <td>2019</td>\n",
       "      <td>Beacon Falls</td>\n",
       "      <td>229900.0</td>\n",
       "      <td>Single Family</td>\n",
       "    </tr>\n",
       "    <tr>\n",
       "      <th>4</th>\n",
       "      <td>4</td>\n",
       "      <td>2019</td>\n",
       "      <td>Bethany</td>\n",
       "      <td>560000.0</td>\n",
       "      <td>Single Family</td>\n",
       "    </tr>\n",
       "    <tr>\n",
       "      <th>...</th>\n",
       "      <td>...</td>\n",
       "      <td>...</td>\n",
       "      <td>...</td>\n",
       "      <td>...</td>\n",
       "      <td>...</td>\n",
       "    </tr>\n",
       "    <tr>\n",
       "      <th>388171</th>\n",
       "      <td>930515</td>\n",
       "      <td>2018</td>\n",
       "      <td>Putnam</td>\n",
       "      <td>885000.0</td>\n",
       "      <td>Vacant Land</td>\n",
       "    </tr>\n",
       "    <tr>\n",
       "      <th>388172</th>\n",
       "      <td>930518</td>\n",
       "      <td>2018</td>\n",
       "      <td>Waterbury</td>\n",
       "      <td>370000.0</td>\n",
       "      <td>Commercial</td>\n",
       "    </tr>\n",
       "    <tr>\n",
       "      <th>388173</th>\n",
       "      <td>930561</td>\n",
       "      <td>2018</td>\n",
       "      <td>Simsbury</td>\n",
       "      <td>325000.0</td>\n",
       "      <td>Commercial</td>\n",
       "    </tr>\n",
       "    <tr>\n",
       "      <th>388174</th>\n",
       "      <td>930613</td>\n",
       "      <td>2018</td>\n",
       "      <td>Stamford</td>\n",
       "      <td>900000.0</td>\n",
       "      <td>Commercial</td>\n",
       "    </tr>\n",
       "    <tr>\n",
       "      <th>388175</th>\n",
       "      <td>930618</td>\n",
       "      <td>2018</td>\n",
       "      <td>Stafford</td>\n",
       "      <td>37000.0</td>\n",
       "      <td>Commercial</td>\n",
       "    </tr>\n",
       "  </tbody>\n",
       "</table>\n",
       "<p>388176 rows × 5 columns</p>\n",
       "</div>"
      ],
      "text/plain": [
       "         index  List_Year          Town  Sale_Amount  Property_Type\n",
       "0            0       2019       Ansonia     284000.0  Single Family\n",
       "1            1       2019          Avon     173800.0          Condo\n",
       "2            2       2019          Avon     317500.0  Single Family\n",
       "3            3       2019  Beacon Falls     229900.0  Single Family\n",
       "4            4       2019       Bethany     560000.0  Single Family\n",
       "...        ...        ...           ...          ...            ...\n",
       "388171  930515       2018        Putnam     885000.0    Vacant Land\n",
       "388172  930518       2018     Waterbury     370000.0     Commercial\n",
       "388173  930561       2018      Simsbury     325000.0     Commercial\n",
       "388174  930613       2018      Stamford     900000.0     Commercial\n",
       "388175  930618       2018      Stafford      37000.0     Commercial\n",
       "\n",
       "[388176 rows x 5 columns]"
      ]
     },
     "execution_count": 15,
     "metadata": {},
     "output_type": "execute_result"
    }
   ],
   "source": [
    "dn = dn.reset_index()\n",
    "dn"
   ]
  },
  {
   "cell_type": "code",
   "execution_count": 16,
   "id": "daa46aa9",
   "metadata": {},
   "outputs": [],
   "source": [
    "Rv=(dn.Property_Type=='R').sum()\n",
    "Vv=(dn.Property_Type=='Vacant Land').sum()\n",
    "SFv=(dn.Property_Type=='Single Family').sum()\n",
    "TFv=(dn.Property_Type=='Two Family').sum()\n",
    "Cv=(dn.Property_Type=='Condo').sum()\n",
    "COv=(dn.Property_Type=='Commercial').sum()\n",
    "Av=(dn.Property_Type=='A').sum()\n",
    "\n",
    "TOTALv=388176"
   ]
  },
  {
   "cell_type": "code",
   "execution_count": 17,
   "id": "d8b9fe02",
   "metadata": {},
   "outputs": [
    {
     "data": {
      "image/png": "[encoded data removed]",
      "text/plain": [
       "<Figure size 432x288 with 1 Axes>"
      ]
     },
     "metadata": {},
     "output_type": "display_data"
    }
   ],
   "source": [
    "# Pie chart-for the diffrent property types\n",
    "labels = ['Single Family', 'Condo', 'Vacant Land','Two Family', 'R','A','Commercial']\n",
    "sizes = [SFv/TOTALv, Cv/TOTALv,Vv/TOTALv, TFv/TOTALv,Rv/TOTALv,Av/TOTALv,COv/TOTALv]\n",
    "\n",
    "colors = ['#ff9999','#66b3ff','#99ff99','#ffcc99','#f70505','#f7cb05','#f705f3']\n",
    "\n",
    "explode = (0.05,0.05,0.05,0.00,0.05,0.00,0.05)\n",
    " \n",
    "plt.pie(sizes, colors = colors, labels=labels, autopct='%1.1f%%', startangle=90, pctdistance=0.85, explode = explode)\n",
    "\n",
    "centre_circle = plt.Circle((0,0),0.70,fc='white')\n",
    "fig = plt.gcf()\n",
    "fig.gca().add_artist(centre_circle)\n",
    "\n",
    "  \n",
    "plt.tight_layout()\n",
    "plt.show()"
   ]
  },
  {
   "cell_type": "code",
   "execution_count": 18,
   "id": "69ea13bc",
   "metadata": {},
   "outputs": [
    {
     "data": {
      "text/html": [
       "<div>\n",
       "<style scoped>\n",
       "    .dataframe tbody tr th:only-of-type {\n",
       "        vertical-align: middle;\n",
       "    }\n",
       "\n",
       "    .dataframe tbody tr th {\n",
       "        vertical-align: top;\n",
       "    }\n",
       "\n",
       "    .dataframe thead th {\n",
       "        text-align: right;\n",
       "    }\n",
       "</style>\n",
       "<table border=\"1\" class=\"dataframe\">\n",
       "  <thead>\n",
       "    <tr style=\"text-align: right;\">\n",
       "      <th></th>\n",
       "      <th>List_Year</th>\n",
       "      <th>Town</th>\n",
       "      <th>Sale_Amount</th>\n",
       "    </tr>\n",
       "  </thead>\n",
       "  <tbody>\n",
       "    <tr>\n",
       "      <th>0</th>\n",
       "      <td>2019</td>\n",
       "      <td>Ansonia</td>\n",
       "      <td>284000.0</td>\n",
       "    </tr>\n",
       "    <tr>\n",
       "      <th>1</th>\n",
       "      <td>2019</td>\n",
       "      <td>Avon</td>\n",
       "      <td>173800.0</td>\n",
       "    </tr>\n",
       "    <tr>\n",
       "      <th>2</th>\n",
       "      <td>2019</td>\n",
       "      <td>Avon</td>\n",
       "      <td>317500.0</td>\n",
       "    </tr>\n",
       "    <tr>\n",
       "      <th>3</th>\n",
       "      <td>2019</td>\n",
       "      <td>Beacon Falls</td>\n",
       "      <td>229900.0</td>\n",
       "    </tr>\n",
       "    <tr>\n",
       "      <th>4</th>\n",
       "      <td>2019</td>\n",
       "      <td>Bethany</td>\n",
       "      <td>560000.0</td>\n",
       "    </tr>\n",
       "    <tr>\n",
       "      <th>...</th>\n",
       "      <td>...</td>\n",
       "      <td>...</td>\n",
       "      <td>...</td>\n",
       "    </tr>\n",
       "    <tr>\n",
       "      <th>388171</th>\n",
       "      <td>2018</td>\n",
       "      <td>Putnam</td>\n",
       "      <td>885000.0</td>\n",
       "    </tr>\n",
       "    <tr>\n",
       "      <th>388172</th>\n",
       "      <td>2018</td>\n",
       "      <td>Waterbury</td>\n",
       "      <td>370000.0</td>\n",
       "    </tr>\n",
       "    <tr>\n",
       "      <th>388173</th>\n",
       "      <td>2018</td>\n",
       "      <td>Simsbury</td>\n",
       "      <td>325000.0</td>\n",
       "    </tr>\n",
       "    <tr>\n",
       "      <th>388174</th>\n",
       "      <td>2018</td>\n",
       "      <td>Stamford</td>\n",
       "      <td>900000.0</td>\n",
       "    </tr>\n",
       "    <tr>\n",
       "      <th>388175</th>\n",
       "      <td>2018</td>\n",
       "      <td>Stafford</td>\n",
       "      <td>37000.0</td>\n",
       "    </tr>\n",
       "  </tbody>\n",
       "</table>\n",
       "<p>388176 rows × 3 columns</p>\n",
       "</div>"
      ],
      "text/plain": [
       "        List_Year          Town  Sale_Amount\n",
       "0            2019       Ansonia     284000.0\n",
       "1            2019          Avon     173800.0\n",
       "2            2019          Avon     317500.0\n",
       "3            2019  Beacon Falls     229900.0\n",
       "4            2019       Bethany     560000.0\n",
       "...           ...           ...          ...\n",
       "388171       2018        Putnam     885000.0\n",
       "388172       2018     Waterbury     370000.0\n",
       "388173       2018      Simsbury     325000.0\n",
       "388174       2018      Stamford     900000.0\n",
       "388175       2018      Stafford      37000.0\n",
       "\n",
       "[388176 rows x 3 columns]"
      ]
     },
     "execution_count": 18,
     "metadata": {},
     "output_type": "execute_result"
    }
   ],
   "source": [
    "y=dn.drop(['Property_Type'],axis=1)\n",
    "x=y.drop(['index'],axis=1)\n",
    "x"
   ]
  },
  {
   "cell_type": "code",
   "execution_count": 19,
   "id": "681a1c0a",
   "metadata": {},
   "outputs": [
    {
     "name": "stdout",
     "output_type": "stream",
     "text": [
      "defining y as our target\n"
     ]
    },
    {
     "data": {
      "text/plain": [
       "0         Single Family\n",
       "1                 Condo\n",
       "2         Single Family\n",
       "3         Single Family\n",
       "4         Single Family\n",
       "              ...      \n",
       "388171      Vacant Land\n",
       "388172       Commercial\n",
       "388173       Commercial\n",
       "388174       Commercial\n",
       "388175       Commercial\n",
       "Name: Property_Type, Length: 388176, dtype: object"
      ]
     },
     "execution_count": 19,
     "metadata": {},
     "output_type": "execute_result"
    }
   ],
   "source": [
    "print('defining y as our target')\n",
    "y=dn['Property_Type']\n",
    "y"
   ]
  },
  {
   "cell_type": "code",
   "execution_count": 20,
   "id": "b658bc9c",
   "metadata": {},
   "outputs": [
    {
     "data": {
      "text/plain": [
       "R                290287\n",
       "Single Family     40518\n",
       "Vacant Land       23414\n",
       "Commercial        19404\n",
       "Condo              9932\n",
       "Two Family         2411\n",
       "A                  2210\n",
       "Name: Property_Type, dtype: int64"
      ]
     },
     "execution_count": 20,
     "metadata": {},
     "output_type": "execute_result"
    }
   ],
   "source": [
    "y.value_counts()"
   ]
  },
  {
   "cell_type": "code",
   "execution_count": 21,
   "id": "4462152c",
   "metadata": {},
   "outputs": [
    {
     "name": "stdout",
     "output_type": "stream",
     "text": [
      "creating a test and train datas\n"
     ]
    }
   ],
   "source": [
    "print('creating a test and train datas')\n",
    "x_train,x_test,y_train,y_test=train_test_split(x,y,test_size=0.2,random_state=42)"
   ]
  },
  {
   "cell_type": "code",
   "execution_count": 22,
   "id": "d49d6002",
   "metadata": {},
   "outputs": [
    {
     "data": {
      "text/plain": [
       "((310540, 3), (310540,), (77636, 3), (77636,))"
      ]
     },
     "execution_count": 22,
     "metadata": {},
     "output_type": "execute_result"
    }
   ],
   "source": [
    "x_train.shape,y_train.shape,x_test.shape,y_test.shape"
   ]
  },
  {
   "cell_type": "code",
   "execution_count": 23,
   "id": "559b10b3",
   "metadata": {},
   "outputs": [],
   "source": [
    "x_train_sca=x_train.drop(['Town'],axis=1)"
   ]
  },
  {
   "cell_type": "code",
   "execution_count": 24,
   "id": "ae2ca1b0",
   "metadata": {},
   "outputs": [],
   "source": [
    "scaler = StandardScaler()\n",
    "\n",
    "x_train_sca=scaler.fit_transform(x_train_sca)"
   ]
  },
  {
   "cell_type": "code",
   "execution_count": 25,
   "id": "e2aee6e0",
   "metadata": {},
   "outputs": [
    {
     "data": {
      "text/plain": [
       "array([[-0.87061844, -0.15134997],\n",
       "       [ 2.1148883 ,  0.21649378],\n",
       "       [-0.37303399, -0.0507677 ],\n",
       "       ...,\n",
       "       [-0.70475696, -0.07381541],\n",
       "       [-0.70475696, -0.01340857],\n",
       "       [-0.70475696, -0.11399084]])"
      ]
     },
     "execution_count": 25,
     "metadata": {},
     "output_type": "execute_result"
    }
   ],
   "source": [
    "x_train_sca"
   ]
  },
  {
   "cell_type": "code",
   "execution_count": 26,
   "id": "0b687df9",
   "metadata": {},
   "outputs": [],
   "source": [
    "x_test_sca=x_test.drop(['Town'],axis=1)"
   ]
  },
  {
   "cell_type": "code",
   "execution_count": 27,
   "id": "d14d61ab",
   "metadata": {},
   "outputs": [],
   "source": [
    "x_test_sca=scaler.transform(x_test_sca)"
   ]
  },
  {
   "cell_type": "code",
   "execution_count": 28,
   "id": "051a052c",
   "metadata": {},
   "outputs": [
    {
     "data": {
      "text/plain": [
       "array([[-0.37303399, -0.05249197],\n",
       "       [-0.37303399, -0.19733044],\n",
       "       [-0.70475696,  0.21649378],\n",
       "       ...,\n",
       "       [-0.87061844, -0.10824328],\n",
       "       [-0.70475696, -0.15249948],\n",
       "       [-0.37303399, -0.02490368]])"
      ]
     },
     "execution_count": 28,
     "metadata": {},
     "output_type": "execute_result"
    }
   ],
   "source": [
    "x_test_sca"
   ]
  },
  {
   "cell_type": "code",
   "execution_count": 29,
   "id": "a7c94231",
   "metadata": {},
   "outputs": [],
   "source": [
    "x_train_scaled = pd.DataFrame(x_train_sca,  columns=['List_Year','Sale_Amount'])"
   ]
  },
  {
   "cell_type": "code",
   "execution_count": 30,
   "id": "1ea227e4",
   "metadata": {},
   "outputs": [
    {
     "data": {
      "text/html": [
       "<div>\n",
       "<style scoped>\n",
       "    .dataframe tbody tr th:only-of-type {\n",
       "        vertical-align: middle;\n",
       "    }\n",
       "\n",
       "    .dataframe tbody tr th {\n",
       "        vertical-align: top;\n",
       "    }\n",
       "\n",
       "    .dataframe thead th {\n",
       "        text-align: right;\n",
       "    }\n",
       "</style>\n",
       "<table border=\"1\" class=\"dataframe\">\n",
       "  <thead>\n",
       "    <tr style=\"text-align: right;\">\n",
       "      <th></th>\n",
       "      <th>List_Year</th>\n",
       "      <th>Sale_Amount</th>\n",
       "    </tr>\n",
       "  </thead>\n",
       "  <tbody>\n",
       "    <tr>\n",
       "      <th>0</th>\n",
       "      <td>-0.870618</td>\n",
       "      <td>-0.151350</td>\n",
       "    </tr>\n",
       "    <tr>\n",
       "      <th>1</th>\n",
       "      <td>2.114888</td>\n",
       "      <td>0.216494</td>\n",
       "    </tr>\n",
       "    <tr>\n",
       "      <th>2</th>\n",
       "      <td>-0.373034</td>\n",
       "      <td>-0.050768</td>\n",
       "    </tr>\n",
       "    <tr>\n",
       "      <th>3</th>\n",
       "      <td>-0.373034</td>\n",
       "      <td>0.002685</td>\n",
       "    </tr>\n",
       "    <tr>\n",
       "      <th>4</th>\n",
       "      <td>-0.538895</td>\n",
       "      <td>-0.103358</td>\n",
       "    </tr>\n",
       "    <tr>\n",
       "      <th>...</th>\n",
       "      <td>...</td>\n",
       "      <td>...</td>\n",
       "    </tr>\n",
       "    <tr>\n",
       "      <th>310535</th>\n",
       "      <td>-0.373034</td>\n",
       "      <td>-0.122612</td>\n",
       "    </tr>\n",
       "    <tr>\n",
       "      <th>310536</th>\n",
       "      <td>0.953858</td>\n",
       "      <td>-0.144166</td>\n",
       "    </tr>\n",
       "    <tr>\n",
       "      <th>310537</th>\n",
       "      <td>-0.704757</td>\n",
       "      <td>-0.073815</td>\n",
       "    </tr>\n",
       "    <tr>\n",
       "      <th>310538</th>\n",
       "      <td>-0.704757</td>\n",
       "      <td>-0.013409</td>\n",
       "    </tr>\n",
       "    <tr>\n",
       "      <th>310539</th>\n",
       "      <td>-0.704757</td>\n",
       "      <td>-0.113991</td>\n",
       "    </tr>\n",
       "  </tbody>\n",
       "</table>\n",
       "<p>310540 rows × 2 columns</p>\n",
       "</div>"
      ],
      "text/plain": [
       "        List_Year  Sale_Amount\n",
       "0       -0.870618    -0.151350\n",
       "1        2.114888     0.216494\n",
       "2       -0.373034    -0.050768\n",
       "3       -0.373034     0.002685\n",
       "4       -0.538895    -0.103358\n",
       "...           ...          ...\n",
       "310535  -0.373034    -0.122612\n",
       "310536   0.953858    -0.144166\n",
       "310537  -0.704757    -0.073815\n",
       "310538  -0.704757    -0.013409\n",
       "310539  -0.704757    -0.113991\n",
       "\n",
       "[310540 rows x 2 columns]"
      ]
     },
     "execution_count": 30,
     "metadata": {},
     "output_type": "execute_result"
    }
   ],
   "source": [
    "x_train_scaled"
   ]
  },
  {
   "cell_type": "code",
   "execution_count": 31,
   "id": "94586de0",
   "metadata": {},
   "outputs": [
    {
     "data": {
      "text/html": [
       "<div>\n",
       "<style scoped>\n",
       "    .dataframe tbody tr th:only-of-type {\n",
       "        vertical-align: middle;\n",
       "    }\n",
       "\n",
       "    .dataframe tbody tr th {\n",
       "        vertical-align: top;\n",
       "    }\n",
       "\n",
       "    .dataframe thead th {\n",
       "        text-align: right;\n",
       "    }\n",
       "</style>\n",
       "<table border=\"1\" class=\"dataframe\">\n",
       "  <thead>\n",
       "    <tr style=\"text-align: right;\">\n",
       "      <th></th>\n",
       "      <th>List_Year</th>\n",
       "      <th>Town</th>\n",
       "      <th>Sale_Amount</th>\n",
       "    </tr>\n",
       "  </thead>\n",
       "  <tbody>\n",
       "    <tr>\n",
       "      <th>0</th>\n",
       "      <td>-0.870618</td>\n",
       "      <td>Naugatuck</td>\n",
       "      <td>-0.151350</td>\n",
       "    </tr>\n",
       "    <tr>\n",
       "      <th>1</th>\n",
       "      <td>2.114888</td>\n",
       "      <td>Guilford</td>\n",
       "      <td>0.216494</td>\n",
       "    </tr>\n",
       "    <tr>\n",
       "      <th>2</th>\n",
       "      <td>-0.373034</td>\n",
       "      <td>Naugatuck</td>\n",
       "      <td>-0.050768</td>\n",
       "    </tr>\n",
       "    <tr>\n",
       "      <th>3</th>\n",
       "      <td>-0.373034</td>\n",
       "      <td>Glastonbury</td>\n",
       "      <td>0.002685</td>\n",
       "    </tr>\n",
       "    <tr>\n",
       "      <th>4</th>\n",
       "      <td>-0.538895</td>\n",
       "      <td>Brookfield</td>\n",
       "      <td>-0.103358</td>\n",
       "    </tr>\n",
       "    <tr>\n",
       "      <th>...</th>\n",
       "      <td>...</td>\n",
       "      <td>...</td>\n",
       "      <td>...</td>\n",
       "    </tr>\n",
       "    <tr>\n",
       "      <th>310535</th>\n",
       "      <td>-0.373034</td>\n",
       "      <td>Simsbury</td>\n",
       "      <td>-0.122612</td>\n",
       "    </tr>\n",
       "    <tr>\n",
       "      <th>310536</th>\n",
       "      <td>0.953858</td>\n",
       "      <td>Franklin</td>\n",
       "      <td>-0.144166</td>\n",
       "    </tr>\n",
       "    <tr>\n",
       "      <th>310537</th>\n",
       "      <td>-0.704757</td>\n",
       "      <td>Milford</td>\n",
       "      <td>-0.073815</td>\n",
       "    </tr>\n",
       "    <tr>\n",
       "      <th>310538</th>\n",
       "      <td>-0.704757</td>\n",
       "      <td>Milford</td>\n",
       "      <td>-0.013409</td>\n",
       "    </tr>\n",
       "    <tr>\n",
       "      <th>310539</th>\n",
       "      <td>-0.704757</td>\n",
       "      <td>Hamden</td>\n",
       "      <td>-0.113991</td>\n",
       "    </tr>\n",
       "  </tbody>\n",
       "</table>\n",
       "<p>310540 rows × 3 columns</p>\n",
       "</div>"
      ],
      "text/plain": [
       "        List_Year         Town  Sale_Amount\n",
       "0       -0.870618    Naugatuck    -0.151350\n",
       "1        2.114888     Guilford     0.216494\n",
       "2       -0.373034    Naugatuck    -0.050768\n",
       "3       -0.373034  Glastonbury     0.002685\n",
       "4       -0.538895   Brookfield    -0.103358\n",
       "...           ...          ...          ...\n",
       "310535  -0.373034     Simsbury    -0.122612\n",
       "310536   0.953858     Franklin    -0.144166\n",
       "310537  -0.704757      Milford    -0.073815\n",
       "310538  -0.704757      Milford    -0.013409\n",
       "310539  -0.704757       Hamden    -0.113991\n",
       "\n",
       "[310540 rows x 3 columns]"
      ]
     },
     "execution_count": 31,
     "metadata": {},
     "output_type": "execute_result"
    }
   ],
   "source": [
    "x_train = x_train.reset_index()\n",
    "x_train=x_train.drop(['index'],axis=1)\n",
    "\n",
    "\n",
    "x_train_scaled.insert(loc=1, column=\"Town\",value=x_train[\"Town\"])\n",
    "\n",
    "x_train_scaled\n"
   ]
  },
  {
   "cell_type": "code",
   "execution_count": null,
   "id": "42f255f0",
   "metadata": {},
   "outputs": [],
   "source": []
  },
  {
   "cell_type": "code",
   "execution_count": null,
   "id": "f6798a4b",
   "metadata": {},
   "outputs": [],
   "source": []
  },
  {
   "cell_type": "code",
   "execution_count": 32,
   "id": "4386b08a",
   "metadata": {},
   "outputs": [
    {
     "data": {
      "text/plain": [
       "List_Year      0\n",
       "Town           0\n",
       "Sale_Amount    0\n",
       "dtype: int64"
      ]
     },
     "execution_count": 32,
     "metadata": {},
     "output_type": "execute_result"
    }
   ],
   "source": [
    "x_train_scaled.isna().sum()"
   ]
  },
  {
   "cell_type": "code",
   "execution_count": 33,
   "id": "6bdf4b54",
   "metadata": {},
   "outputs": [
    {
     "data": {
      "text/plain": [
       "List_Year      0\n",
       "Town           0\n",
       "Sale_Amount    0\n",
       "dtype: int64"
      ]
     },
     "execution_count": 33,
     "metadata": {},
     "output_type": "execute_result"
    }
   ],
   "source": [
    "x_train_scaled.isna().sum()"
   ]
  },
  {
   "cell_type": "code",
   "execution_count": 40,
   "id": "2d884229",
   "metadata": {},
   "outputs": [
    {
     "data": {
      "text/html": [
       "<div>\n",
       "<style scoped>\n",
       "    .dataframe tbody tr th:only-of-type {\n",
       "        vertical-align: middle;\n",
       "    }\n",
       "\n",
       "    .dataframe tbody tr th {\n",
       "        vertical-align: top;\n",
       "    }\n",
       "\n",
       "    .dataframe thead th {\n",
       "        text-align: right;\n",
       "    }\n",
       "</style>\n",
       "<table border=\"1\" class=\"dataframe\">\n",
       "  <thead>\n",
       "    <tr style=\"text-align: right;\">\n",
       "      <th></th>\n",
       "      <th>List_Year</th>\n",
       "      <th>Sale_Amount</th>\n",
       "    </tr>\n",
       "  </thead>\n",
       "  <tbody>\n",
       "    <tr>\n",
       "      <th>0</th>\n",
       "      <td>-0.373034</td>\n",
       "      <td>-0.052492</td>\n",
       "    </tr>\n",
       "    <tr>\n",
       "      <th>1</th>\n",
       "      <td>-0.373034</td>\n",
       "      <td>-0.197330</td>\n",
       "    </tr>\n",
       "    <tr>\n",
       "      <th>2</th>\n",
       "      <td>-0.704757</td>\n",
       "      <td>0.216494</td>\n",
       "    </tr>\n",
       "    <tr>\n",
       "      <th>3</th>\n",
       "      <td>-0.704757</td>\n",
       "      <td>-0.124911</td>\n",
       "    </tr>\n",
       "    <tr>\n",
       "      <th>4</th>\n",
       "      <td>-0.041311</td>\n",
       "      <td>-0.159971</td>\n",
       "    </tr>\n",
       "    <tr>\n",
       "      <th>...</th>\n",
       "      <td>...</td>\n",
       "      <td>...</td>\n",
       "    </tr>\n",
       "    <tr>\n",
       "      <th>77631</th>\n",
       "      <td>1.451442</td>\n",
       "      <td>-0.210837</td>\n",
       "    </tr>\n",
       "    <tr>\n",
       "      <th>77632</th>\n",
       "      <td>-0.373034</td>\n",
       "      <td>0.791250</td>\n",
       "    </tr>\n",
       "    <tr>\n",
       "      <th>77633</th>\n",
       "      <td>-0.870618</td>\n",
       "      <td>-0.108243</td>\n",
       "    </tr>\n",
       "    <tr>\n",
       "      <th>77634</th>\n",
       "      <td>-0.704757</td>\n",
       "      <td>-0.152499</td>\n",
       "    </tr>\n",
       "    <tr>\n",
       "      <th>77635</th>\n",
       "      <td>-0.373034</td>\n",
       "      <td>-0.024904</td>\n",
       "    </tr>\n",
       "  </tbody>\n",
       "</table>\n",
       "<p>77636 rows × 2 columns</p>\n",
       "</div>"
      ],
      "text/plain": [
       "       List_Year  Sale_Amount\n",
       "0      -0.373034    -0.052492\n",
       "1      -0.373034    -0.197330\n",
       "2      -0.704757     0.216494\n",
       "3      -0.704757    -0.124911\n",
       "4      -0.041311    -0.159971\n",
       "...          ...          ...\n",
       "77631   1.451442    -0.210837\n",
       "77632  -0.373034     0.791250\n",
       "77633  -0.870618    -0.108243\n",
       "77634  -0.704757    -0.152499\n",
       "77635  -0.373034    -0.024904\n",
       "\n",
       "[77636 rows x 2 columns]"
      ]
     },
     "execution_count": 40,
     "metadata": {},
     "output_type": "execute_result"
    }
   ],
   "source": [
    "x_test_scaled= pd.DataFrame(x_test_sca,  columns=['List_Year','Sale_Amount'])\n",
    "x_test_scaled"
   ]
  },
  {
   "cell_type": "code",
   "execution_count": 41,
   "id": "e6e9a1aa",
   "metadata": {},
   "outputs": [
    {
     "data": {
      "text/html": [
       "<div>\n",
       "<style scoped>\n",
       "    .dataframe tbody tr th:only-of-type {\n",
       "        vertical-align: middle;\n",
       "    }\n",
       "\n",
       "    .dataframe tbody tr th {\n",
       "        vertical-align: top;\n",
       "    }\n",
       "\n",
       "    .dataframe thead th {\n",
       "        text-align: right;\n",
       "    }\n",
       "</style>\n",
       "<table border=\"1\" class=\"dataframe\">\n",
       "  <thead>\n",
       "    <tr style=\"text-align: right;\">\n",
       "      <th></th>\n",
       "      <th>List_Year</th>\n",
       "      <th>Town</th>\n",
       "      <th>Sale_Amount</th>\n",
       "    </tr>\n",
       "  </thead>\n",
       "  <tbody>\n",
       "    <tr>\n",
       "      <th>0</th>\n",
       "      <td>-0.373034</td>\n",
       "      <td>Danbury</td>\n",
       "      <td>-0.052492</td>\n",
       "    </tr>\n",
       "    <tr>\n",
       "      <th>1</th>\n",
       "      <td>-0.373034</td>\n",
       "      <td>New Hartford</td>\n",
       "      <td>-0.197330</td>\n",
       "    </tr>\n",
       "    <tr>\n",
       "      <th>2</th>\n",
       "      <td>-0.704757</td>\n",
       "      <td>Old Saybrook</td>\n",
       "      <td>0.216494</td>\n",
       "    </tr>\n",
       "    <tr>\n",
       "      <th>3</th>\n",
       "      <td>-0.704757</td>\n",
       "      <td>West Hartford</td>\n",
       "      <td>-0.124911</td>\n",
       "    </tr>\n",
       "    <tr>\n",
       "      <th>4</th>\n",
       "      <td>-0.041311</td>\n",
       "      <td>Goshen</td>\n",
       "      <td>-0.159971</td>\n",
       "    </tr>\n",
       "    <tr>\n",
       "      <th>...</th>\n",
       "      <td>...</td>\n",
       "      <td>...</td>\n",
       "      <td>...</td>\n",
       "    </tr>\n",
       "    <tr>\n",
       "      <th>77631</th>\n",
       "      <td>1.451442</td>\n",
       "      <td>East Haddam</td>\n",
       "      <td>-0.210837</td>\n",
       "    </tr>\n",
       "    <tr>\n",
       "      <th>77632</th>\n",
       "      <td>-0.373034</td>\n",
       "      <td>Stamford</td>\n",
       "      <td>0.791250</td>\n",
       "    </tr>\n",
       "    <tr>\n",
       "      <th>77633</th>\n",
       "      <td>-0.870618</td>\n",
       "      <td>West Hartford</td>\n",
       "      <td>-0.108243</td>\n",
       "    </tr>\n",
       "    <tr>\n",
       "      <th>77634</th>\n",
       "      <td>-0.704757</td>\n",
       "      <td>East Hartford</td>\n",
       "      <td>-0.152499</td>\n",
       "    </tr>\n",
       "    <tr>\n",
       "      <th>77635</th>\n",
       "      <td>-0.373034</td>\n",
       "      <td>Wallingford</td>\n",
       "      <td>-0.024904</td>\n",
       "    </tr>\n",
       "  </tbody>\n",
       "</table>\n",
       "<p>77636 rows × 3 columns</p>\n",
       "</div>"
      ],
      "text/plain": [
       "       List_Year           Town  Sale_Amount\n",
       "0      -0.373034        Danbury    -0.052492\n",
       "1      -0.373034   New Hartford    -0.197330\n",
       "2      -0.704757   Old Saybrook     0.216494\n",
       "3      -0.704757  West Hartford    -0.124911\n",
       "4      -0.041311         Goshen    -0.159971\n",
       "...          ...            ...          ...\n",
       "77631   1.451442    East Haddam    -0.210837\n",
       "77632  -0.373034       Stamford     0.791250\n",
       "77633  -0.870618  West Hartford    -0.108243\n",
       "77634  -0.704757  East Hartford    -0.152499\n",
       "77635  -0.373034    Wallingford    -0.024904\n",
       "\n",
       "[77636 rows x 3 columns]"
      ]
     },
     "execution_count": 41,
     "metadata": {},
     "output_type": "execute_result"
    }
   ],
   "source": [
    "x_test = x_test.reset_index()\n",
    "x_test=x_test.drop(['index'],axis=1)\n",
    "\n",
    "\n",
    "x_test_scaled.insert(loc=1, column=\"Town\",value=x_test[\"Town\"])\n",
    "\n",
    "x_test_scaled\n"
   ]
  },
  {
   "cell_type": "code",
   "execution_count": 42,
   "id": "35664bb0",
   "metadata": {},
   "outputs": [
    {
     "data": {
      "text/plain": [
       "List_Year      0\n",
       "Town           0\n",
       "Sale_Amount    0\n",
       "dtype: int64"
      ]
     },
     "execution_count": 42,
     "metadata": {},
     "output_type": "execute_result"
    }
   ],
   "source": [
    "x_test_scaled.isna().sum()"
   ]
  },
  {
   "cell_type": "code",
   "execution_count": 44,
   "id": "5d9ca4eb",
   "metadata": {},
   "outputs": [],
   "source": [
    "# x_test_scaled,x_train_scaled-done"
   ]
  },
  {
   "cell_type": "code",
   "execution_count": null,
   "id": "01478c55",
   "metadata": {},
   "outputs": [],
   "source": []
  },
  {
   "cell_type": "code",
   "execution_count": null,
   "id": "3ec60b0b",
   "metadata": {},
   "outputs": [],
   "source": []
  },
  {
   "cell_type": "code",
   "execution_count": null,
   "id": "9940b246",
   "metadata": {},
   "outputs": [],
   "source": []
  },
  {
   "cell_type": "code",
   "execution_count": null,
   "id": "ef65d84d",
   "metadata": {},
   "outputs": [],
   "source": []
  },
  {
   "cell_type": "code",
   "execution_count": null,
   "id": "aa3009d6",
   "metadata": {},
   "outputs": [],
   "source": []
  },
  {
   "cell_type": "code",
   "execution_count": null,
   "id": "5517ad23",
   "metadata": {},
   "outputs": [],
   "source": []
  },
  {
   "cell_type": "code",
   "execution_count": null,
   "id": "51131bdd",
   "metadata": {},
   "outputs": [],
   "source": []
  },
  {
   "cell_type": "code",
   "execution_count": null,
   "id": "45d5039a",
   "metadata": {},
   "outputs": [],
   "source": []
  },
  {
   "cell_type": "code",
   "execution_count": null,
   "id": "b2c372eb",
   "metadata": {},
   "outputs": [],
   "source": []
  },
  {
   "cell_type": "code",
   "execution_count": null,
   "id": "ad50a074",
   "metadata": {},
   "outputs": [],
   "source": []
  },
  {
   "cell_type": "code",
   "execution_count": null,
   "id": "973a0004",
   "metadata": {},
   "outputs": [],
   "source": []
  },
  {
   "cell_type": "code",
   "execution_count": null,
   "id": "15860927",
   "metadata": {},
   "outputs": [],
   "source": []
  },
  {
   "cell_type": "code",
   "execution_count": null,
   "id": "19ae1d6f",
   "metadata": {},
   "outputs": [],
   "source": []
  },
  {
   "cell_type": "code",
   "execution_count": null,
   "id": "1ff45676",
   "metadata": {},
   "outputs": [],
   "source": []
  },
  {
   "cell_type": "code",
   "execution_count": null,
   "id": "62047e0d",
   "metadata": {},
   "outputs": [],
   "source": []
  },
  {
   "cell_type": "code",
   "execution_count": null,
   "id": "d83d6578",
   "metadata": {},
   "outputs": [],
   "source": []
  },
  {
   "cell_type": "code",
   "execution_count": null,
   "id": "40998999",
   "metadata": {},
   "outputs": [],
   "source": []
  },
  {
   "cell_type": "code",
   "execution_count": null,
   "id": "413c2383",
   "metadata": {},
   "outputs": [],
   "source": []
  },
  {
   "cell_type": "code",
   "execution_count": null,
   "id": "cfab4220",
   "metadata": {},
   "outputs": [],
   "source": []
  },
  {
   "cell_type": "code",
   "execution_count": null,
   "id": "25149f69",
   "metadata": {},
   "outputs": [],
   "source": []
  },
  {
   "cell_type": "code",
   "execution_count": null,
   "id": "02d7c50b",
   "metadata": {},
   "outputs": [],
   "source": []
  },
  {
   "cell_type": "code",
   "execution_count": null,
   "id": "9505d7ed",
   "metadata": {},
   "outputs": [],
   "source": []
  },
  {
   "cell_type": "code",
   "execution_count": null,
   "id": "1ab53218",
   "metadata": {},
   "outputs": [],
   "source": []
  },
  {
   "cell_type": "code",
   "execution_count": null,
   "id": "73ff62a0",
   "metadata": {},
   "outputs": [],
   "source": []
  },
  {
   "cell_type": "code",
   "execution_count": null,
   "id": "7f7953d0",
   "metadata": {},
   "outputs": [],
   "source": []
  },
  {
   "cell_type": "code",
   "execution_count": null,
   "id": "7def9af0",
   "metadata": {},
   "outputs": [],
   "source": [
    "#to do list:\n",
    "    #choose matrix for ranking the model-accuracy scoring\n",
    "    # regression somthing idk- \n",
    "                                                                                # split the data to train and test parts-done\n",
    "                                                                                # scale the data of the train and the test separatly\n",
    "    # analayze the data-coorolation between diffrent variabls-lil summ of cunclusion\n",
    "    #smote the data\n",
    "    #choose dummy model that best fit your dataframe\n",
    "    # choose diffrent models and try them on the project-try to imporve as much as possible\n",
    "    # choose the model that preformed the best at the given task and let him try the test."
   ]
  }
 ],
 "metadata": {
  "kernelspec": {
   "display_name": "Python 3 (ipykernel)",
   "language": "python",
   "name": "python3"
  },
  "language_info": {
   "codemirror_mode": {
    "name": "ipython",
    "version": 3
   },
   "file_extension": ".py",
   "mimetype": "text/x-python",
   "name": "python",
   "nbconvert_exporter": "python",
   "pygments_lexer": "ipython3",
   "version": "3.9.7"
  }
 },
 "nbformat": 4,
 "nbformat_minor": 5
}
