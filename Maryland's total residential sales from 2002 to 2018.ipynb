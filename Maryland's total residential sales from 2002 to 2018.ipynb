{
 "cells": [
  {
   "cell_type": "code",
   "execution_count": 2,
   "id": "7aa38c81",
   "metadata": {},
   "outputs": [],
   "source": [
    "import pandas as pd\n",
    "import numpy as np\n",
    "import matplotlib.pyplot as plt\n",
    "import seaborn as sns\n",
    "from sklearn.metrics import accuracy_score"
   ]
  },
  {
   "cell_type": "code",
   "execution_count": 3,
   "id": "b3ff98fe",
   "metadata": {},
   "outputs": [
    {
     "name": "stderr",
     "output_type": "stream",
     "text": [
      "C:\\Users\\user\\anaconda3\\lib\\site-packages\\IPython\\core\\interactiveshell.py:3444: DtypeWarning: Columns (9,10,11,12) have mixed types.Specify dtype option on import or set low_memory=False.\n",
      "  exec(code_obj, self.user_global_ns, self.user_ns)\n"
     ]
    },
    {
     "name": "stdout",
     "output_type": "stream",
     "text": [
      "<class 'pandas.core.frame.DataFrame'>\n",
      "RangeIndex: 930621 entries, 0 to 930620\n",
      "Data columns (total 14 columns):\n",
      " #   Column            Non-Null Count   Dtype  \n",
      "---  ------            --------------   -----  \n",
      " 0   Serial Number     930621 non-null  int64  \n",
      " 1   List Year         930621 non-null  int64  \n",
      " 2   Date Recorded     930619 non-null  object \n",
      " 3   Town              930621 non-null  object \n",
      " 4   Address           930570 non-null  object \n",
      " 5   Assessed Value    930621 non-null  float64\n",
      " 6   Sale Amount       930621 non-null  float64\n",
      " 7   Sales Ratio       930621 non-null  float64\n",
      " 8   Property Type     925733 non-null  object \n",
      " 9   Residential Type  548176 non-null  object \n",
      " 10  Non Use Code      275231 non-null  object \n",
      " 11  Assessor Remarks  135512 non-null  object \n",
      " 12  OPM remarks       7946 non-null    object \n",
      " 13  Location          680517 non-null  object \n",
      "dtypes: float64(3), int64(2), object(9)\n",
      "memory usage: 484.7 MB\n"
     ]
    }
   ],
   "source": [
    "d =pd.read_csv(\"Real.csv\")\n",
    "d.info(memory_usage='deep')"
   ]
  },
  {
   "cell_type": "code",
   "execution_count": 4,
   "id": "145b70c0",
   "metadata": {},
   "outputs": [
    {
     "name": "stdout",
     "output_type": "stream",
     "text": [
      "this dataset represents Maryland's total residential sales from 2002 to 2018.\n",
      "\n",
      "our model purpose is - given the year the real estate was sold,the city it was sold in and the price it sold for,the model will predict the proprety type varying between:Condo,V,R,Single Family and Two Family.\n"
     ]
    }
   ],
   "source": [
    "print (\"this dataset represents Maryland's total residential sales from 2002 to 2018.\")\n",
    "print(\"\")\n",
    "print (\"our model purpose is - given the year the real estate was sold,the city it was sold in and the price it sold for,the model will predict the proprety type varying between:Condo,V,R,Single Family and Two Family.\")\n",
    "\n"
   ]
  },
  {
   "cell_type": "code",
   "execution_count": 5,
   "id": "081ff9d5",
   "metadata": {},
   "outputs": [
    {
     "name": "stdout",
     "output_type": "stream",
     "text": [
      "we decided to ignore all the colums besides: Town, List Year,Sale Amount and Property Typem.\n",
      "because we belive they are irelevent for our model and our data frame was too big.\n"
     ]
    }
   ],
   "source": [
    "print(\"we decided to ignore all the colums besides: Town, List Year,Sale Amount and Property Typem.\")\n",
    "print (\"because we belive they are irelevent for our model and our data frame was too big.\")\n"
   ]
  },
  {
   "cell_type": "code",
   "execution_count": 6,
   "id": "bb8c5e92",
   "metadata": {},
   "outputs": [],
   "source": [
    "cols=['List Year','Town','Sale Amount','Property Type']\n",
    "df=pd.read_csv(\"Real.csv\",usecols=cols)"
   ]
  },
  {
   "cell_type": "code",
   "execution_count": 7,
   "id": "0876b325",
   "metadata": {},
   "outputs": [
    {
     "data": {
      "text/plain": [
       "List Year           0\n",
       "Town                0\n",
       "Sale Amount         0\n",
       "Property Type    4888\n",
       "dtype: int64"
      ]
     },
     "execution_count": 7,
     "metadata": {},
     "output_type": "execute_result"
    }
   ],
   "source": [
    "df.isna().sum()"
   ]
  },
  {
   "cell_type": "code",
   "execution_count": 8,
   "id": "4bf84294",
   "metadata": {},
   "outputs": [
    {
     "name": "stdout",
     "output_type": "stream",
     "text": [
      "because our dataframe is so big and the NaN value are so small compared to it we can drop all the nan values and make our model on the smaller dataframe.\n"
     ]
    }
   ],
   "source": [
    "print(\"because our dataframe is so big and the NaN value are so small compared to it we can drop all the nan values and make our model on the smaller dataframe.\")\n",
    "n=df.dropna()"
   ]
  },
  {
   "cell_type": "code",
   "execution_count": 9,
   "id": "1d136b80",
   "metadata": {
    "scrolled": true
   },
   "outputs": [
    {
     "data": {
      "text/plain": [
       "List Year        0\n",
       "Town             0\n",
       "Sale Amount      0\n",
       "Property Type    0\n",
       "dtype: int64"
      ]
     },
     "execution_count": 9,
     "metadata": {},
     "output_type": "execute_result"
    }
   ],
   "source": [
    "n.isna().sum()"
   ]
  },
  {
   "cell_type": "code",
   "execution_count": 10,
   "id": "b9bd5c0c",
   "metadata": {},
   "outputs": [
    {
     "data": {
      "text/html": [
       "<div>\n",
       "<style scoped>\n",
       "    .dataframe tbody tr th:only-of-type {\n",
       "        vertical-align: middle;\n",
       "    }\n",
       "\n",
       "    .dataframe tbody tr th {\n",
       "        vertical-align: top;\n",
       "    }\n",
       "\n",
       "    .dataframe thead th {\n",
       "        text-align: right;\n",
       "    }\n",
       "</style>\n",
       "<table border=\"1\" class=\"dataframe\">\n",
       "  <thead>\n",
       "    <tr style=\"text-align: right;\">\n",
       "      <th></th>\n",
       "      <th>List Year</th>\n",
       "      <th>Town</th>\n",
       "      <th>Sale Amount</th>\n",
       "      <th>Property Type</th>\n",
       "    </tr>\n",
       "  </thead>\n",
       "  <tbody>\n",
       "    <tr>\n",
       "      <th>0</th>\n",
       "      <td>2019</td>\n",
       "      <td>Ansonia</td>\n",
       "      <td>284000.0</td>\n",
       "      <td>Single Family</td>\n",
       "    </tr>\n",
       "    <tr>\n",
       "      <th>1</th>\n",
       "      <td>2019</td>\n",
       "      <td>Avon</td>\n",
       "      <td>173800.0</td>\n",
       "      <td>Condo</td>\n",
       "    </tr>\n",
       "    <tr>\n",
       "      <th>2</th>\n",
       "      <td>2019</td>\n",
       "      <td>Avon</td>\n",
       "      <td>317500.0</td>\n",
       "      <td>Single Family</td>\n",
       "    </tr>\n",
       "    <tr>\n",
       "      <th>3</th>\n",
       "      <td>2019</td>\n",
       "      <td>Beacon Falls</td>\n",
       "      <td>229900.0</td>\n",
       "      <td>Single Family</td>\n",
       "    </tr>\n",
       "    <tr>\n",
       "      <th>4</th>\n",
       "      <td>2019</td>\n",
       "      <td>Bethany</td>\n",
       "      <td>560000.0</td>\n",
       "      <td>Single Family</td>\n",
       "    </tr>\n",
       "    <tr>\n",
       "      <th>...</th>\n",
       "      <td>...</td>\n",
       "      <td>...</td>\n",
       "      <td>...</td>\n",
       "      <td>...</td>\n",
       "    </tr>\n",
       "    <tr>\n",
       "      <th>930616</th>\n",
       "      <td>2018</td>\n",
       "      <td>Stamford</td>\n",
       "      <td>214350.0</td>\n",
       "      <td>Residential</td>\n",
       "    </tr>\n",
       "    <tr>\n",
       "      <th>930617</th>\n",
       "      <td>2018</td>\n",
       "      <td>West Hartford</td>\n",
       "      <td>176000.0</td>\n",
       "      <td>Residential</td>\n",
       "    </tr>\n",
       "    <tr>\n",
       "      <th>930618</th>\n",
       "      <td>2018</td>\n",
       "      <td>Stafford</td>\n",
       "      <td>37000.0</td>\n",
       "      <td>Commercial</td>\n",
       "    </tr>\n",
       "    <tr>\n",
       "      <th>930619</th>\n",
       "      <td>2018</td>\n",
       "      <td>Ridgefield</td>\n",
       "      <td>725000.0</td>\n",
       "      <td>Residential</td>\n",
       "    </tr>\n",
       "    <tr>\n",
       "      <th>930620</th>\n",
       "      <td>2018</td>\n",
       "      <td>Southbury</td>\n",
       "      <td>90000.0</td>\n",
       "      <td>Residential</td>\n",
       "    </tr>\n",
       "  </tbody>\n",
       "</table>\n",
       "<p>925733 rows × 4 columns</p>\n",
       "</div>"
      ],
      "text/plain": [
       "        List Year           Town  Sale Amount  Property Type\n",
       "0            2019        Ansonia     284000.0  Single Family\n",
       "1            2019           Avon     173800.0          Condo\n",
       "2            2019           Avon     317500.0  Single Family\n",
       "3            2019   Beacon Falls     229900.0  Single Family\n",
       "4            2019        Bethany     560000.0  Single Family\n",
       "...           ...            ...          ...            ...\n",
       "930616       2018       Stamford     214350.0    Residential\n",
       "930617       2018  West Hartford     176000.0    Residential\n",
       "930618       2018       Stafford      37000.0     Commercial\n",
       "930619       2018     Ridgefield     725000.0    Residential\n",
       "930620       2018      Southbury      90000.0    Residential\n",
       "\n",
       "[925733 rows x 4 columns]"
      ]
     },
     "execution_count": 10,
     "metadata": {},
     "output_type": "execute_result"
    }
   ],
   "source": [
    "n"
   ]
  },
  {
   "cell_type": "code",
   "execution_count": 11,
   "id": "793abe94",
   "metadata": {},
   "outputs": [],
   "source": [
    "n=n.rename({'List Year':'List_Year','Sale Amount':'Sale_Amount','Property Type':'Property_Type'},axis='columns')"
   ]
  },
  {
   "cell_type": "code",
   "execution_count": 12,
   "id": "0b773fcf",
   "metadata": {},
   "outputs": [],
   "source": [
    "dn=n[(n.Property_Type== 'Single Family')|(n.Property_Type== 'Two Family')|(n.Property_Type== 'R')|(n.Property_Type== 'V')|(n.Property_Type== 'Condo')]"
   ]
  },
  {
   "cell_type": "code",
   "execution_count": 13,
   "id": "5866accf",
   "metadata": {},
   "outputs": [
    {
     "name": "stdout",
     "output_type": "stream",
     "text": [
      "we sorted the dataframe to the new dataframe dn,this data only have the wanted property types,this data also have no NaN           values.\n"
     ]
    }
   ],
   "source": [
    "print(\"we sorted the dataframe to the new dataframe dn,this data only have the wanted property types,this data also have no NaN           values.\")"
   ]
  },
  {
   "cell_type": "code",
   "execution_count": 14,
   "id": "1ec381f9",
   "metadata": {},
   "outputs": [
    {
     "name": "stdout",
     "output_type": "stream",
     "text": [
      "<class 'pandas.core.frame.DataFrame'>\n",
      "Int64Index: 367627 entries, 0 to 391012\n",
      "Data columns (total 4 columns):\n",
      " #   Column         Non-Null Count   Dtype  \n",
      "---  ------         --------------   -----  \n",
      " 0   List_Year      367627 non-null  int64  \n",
      " 1   Town           367627 non-null  object \n",
      " 2   Sale_Amount    367627 non-null  float64\n",
      " 3   Property_Type  367627 non-null  object \n",
      "dtypes: float64(1), int64(1), object(2)\n",
      "memory usage: 52.3 MB\n"
     ]
    }
   ],
   "source": [
    "dn.info(memory_usage='deep')"
   ]
  },
  {
   "cell_type": "code",
   "execution_count": 15,
   "id": "62d504dc",
   "metadata": {},
   "outputs": [
    {
     "data": {
      "text/html": [
       "<div>\n",
       "<style scoped>\n",
       "    .dataframe tbody tr th:only-of-type {\n",
       "        vertical-align: middle;\n",
       "    }\n",
       "\n",
       "    .dataframe tbody tr th {\n",
       "        vertical-align: top;\n",
       "    }\n",
       "\n",
       "    .dataframe thead th {\n",
       "        text-align: right;\n",
       "    }\n",
       "</style>\n",
       "<table border=\"1\" class=\"dataframe\">\n",
       "  <thead>\n",
       "    <tr style=\"text-align: right;\">\n",
       "      <th></th>\n",
       "      <th>List_Year</th>\n",
       "      <th>Town</th>\n",
       "      <th>Sale_Amount</th>\n",
       "      <th>Property_Type</th>\n",
       "    </tr>\n",
       "  </thead>\n",
       "  <tbody>\n",
       "    <tr>\n",
       "      <th>0</th>\n",
       "      <td>2019</td>\n",
       "      <td>Ansonia</td>\n",
       "      <td>284000.0</td>\n",
       "      <td>Single Family</td>\n",
       "    </tr>\n",
       "    <tr>\n",
       "      <th>1</th>\n",
       "      <td>2019</td>\n",
       "      <td>Avon</td>\n",
       "      <td>173800.0</td>\n",
       "      <td>Condo</td>\n",
       "    </tr>\n",
       "    <tr>\n",
       "      <th>2</th>\n",
       "      <td>2019</td>\n",
       "      <td>Avon</td>\n",
       "      <td>317500.0</td>\n",
       "      <td>Single Family</td>\n",
       "    </tr>\n",
       "    <tr>\n",
       "      <th>3</th>\n",
       "      <td>2019</td>\n",
       "      <td>Beacon Falls</td>\n",
       "      <td>229900.0</td>\n",
       "      <td>Single Family</td>\n",
       "    </tr>\n",
       "    <tr>\n",
       "      <th>4</th>\n",
       "      <td>2019</td>\n",
       "      <td>Bethany</td>\n",
       "      <td>560000.0</td>\n",
       "      <td>Single Family</td>\n",
       "    </tr>\n",
       "    <tr>\n",
       "      <th>...</th>\n",
       "      <td>...</td>\n",
       "      <td>...</td>\n",
       "      <td>...</td>\n",
       "      <td>...</td>\n",
       "    </tr>\n",
       "    <tr>\n",
       "      <th>391008</th>\n",
       "      <td>2005</td>\n",
       "      <td>Windsor Locks</td>\n",
       "      <td>222000.0</td>\n",
       "      <td>R</td>\n",
       "    </tr>\n",
       "    <tr>\n",
       "      <th>391009</th>\n",
       "      <td>2005</td>\n",
       "      <td>Norwich</td>\n",
       "      <td>182000.0</td>\n",
       "      <td>R</td>\n",
       "    </tr>\n",
       "    <tr>\n",
       "      <th>391010</th>\n",
       "      <td>2005</td>\n",
       "      <td>Waterford</td>\n",
       "      <td>220000.0</td>\n",
       "      <td>R</td>\n",
       "    </tr>\n",
       "    <tr>\n",
       "      <th>391011</th>\n",
       "      <td>2005</td>\n",
       "      <td>Woodbury</td>\n",
       "      <td>230000.0</td>\n",
       "      <td>R</td>\n",
       "    </tr>\n",
       "    <tr>\n",
       "      <th>391012</th>\n",
       "      <td>2005</td>\n",
       "      <td>Ridgefield</td>\n",
       "      <td>475000.0</td>\n",
       "      <td>R</td>\n",
       "    </tr>\n",
       "  </tbody>\n",
       "</table>\n",
       "<p>367627 rows × 4 columns</p>\n",
       "</div>"
      ],
      "text/plain": [
       "        List_Year           Town  Sale_Amount  Property_Type\n",
       "0            2019        Ansonia     284000.0  Single Family\n",
       "1            2019           Avon     173800.0          Condo\n",
       "2            2019           Avon     317500.0  Single Family\n",
       "3            2019   Beacon Falls     229900.0  Single Family\n",
       "4            2019        Bethany     560000.0  Single Family\n",
       "...           ...            ...          ...            ...\n",
       "391008       2005  Windsor Locks     222000.0              R\n",
       "391009       2005        Norwich     182000.0              R\n",
       "391010       2005      Waterford     220000.0              R\n",
       "391011       2005       Woodbury     230000.0              R\n",
       "391012       2005     Ridgefield     475000.0              R\n",
       "\n",
       "[367627 rows x 4 columns]"
      ]
     },
     "execution_count": 15,
     "metadata": {},
     "output_type": "execute_result"
    }
   ],
   "source": [
    "dn"
   ]
  },
  {
   "cell_type": "code",
   "execution_count": null,
   "id": "69ea13bc",
   "metadata": {},
   "outputs": [],
   "source": []
  },
  {
   "cell_type": "code",
   "execution_count": null,
   "id": "681a1c0a",
   "metadata": {},
   "outputs": [],
   "source": []
  },
  {
   "cell_type": "code",
   "execution_count": null,
   "id": "b658bc9c",
   "metadata": {},
   "outputs": [],
   "source": []
  },
  {
   "cell_type": "code",
   "execution_count": null,
   "id": "4462152c",
   "metadata": {},
   "outputs": [],
   "source": []
  },
  {
   "cell_type": "code",
   "execution_count": 16,
   "id": "45d5039a",
   "metadata": {},
   "outputs": [],
   "source": [
    "Rv=(dn.Property_Type=='R').sum()\n",
    "Vv=(dn.Property_Type=='V').sum()\n",
    "SFv=(dn.Property_Type=='Single Family').sum()\n",
    "TFv=(dn.Property_Type=='Two Family').sum()\n",
    "Cv=(dn.Property_Type=='Condo').sum()\n",
    "\n",
    "TOTALv=367627"
   ]
  },
  {
   "cell_type": "code",
   "execution_count": 17,
   "id": "b2c372eb",
   "metadata": {},
   "outputs": [
    {
     "data": {
      "image/png": "[encoded data removed]",
      "text/plain": [
       "<Figure size 432x288 with 1 Axes>"
      ]
     },
     "metadata": {},
     "output_type": "display_data"
    }
   ],
   "source": [
    "# Pie chart-for the diffrent property types\n",
    "labels = ['Single Family', 'Condo', 'V','Two Family', 'R']\n",
    "sizes = [SFv/TOTALv, Cv/TOTALv,Vv/TOTALv, TFv/TOTALv,Rv/TOTALv]\n",
    "\n",
    "colors = ['#ff9999','#66b3ff','#99ff99','#ffcc99','#f70505']\n",
    "\n",
    "explode = (0.05,0.05,0.05,0.05,0.05)\n",
    " \n",
    "plt.pie(sizes, colors = colors, labels=labels, autopct='%1.1f%%', startangle=90, pctdistance=0.85, explode = explode)\n",
    "\n",
    "centre_circle = plt.Circle((0,0),0.70,fc='white')\n",
    "fig = plt.gcf()\n",
    "fig.gca().add_artist(centre_circle)\n",
    "\n",
    "  \n",
    "plt.tight_layout()\n",
    "plt.show()\n"
   ]
  },
  {
   "cell_type": "code",
   "execution_count": 27,
   "id": "ad50a074",
   "metadata": {},
   "outputs": [],
   "source": [
    "\n"
   ]
  },
  {
   "cell_type": "code",
   "execution_count": null,
   "id": "973a0004",
   "metadata": {},
   "outputs": [],
   "source": []
  },
  {
   "cell_type": "code",
   "execution_count": null,
   "id": "15860927",
   "metadata": {},
   "outputs": [],
   "source": []
  },
  {
   "cell_type": "code",
   "execution_count": null,
   "id": "19ae1d6f",
   "metadata": {},
   "outputs": [],
   "source": []
  },
  {
   "cell_type": "code",
   "execution_count": null,
   "id": "1ff45676",
   "metadata": {},
   "outputs": [],
   "source": []
  },
  {
   "cell_type": "code",
   "execution_count": null,
   "id": "62047e0d",
   "metadata": {},
   "outputs": [],
   "source": []
  },
  {
   "cell_type": "code",
   "execution_count": null,
   "id": "d83d6578",
   "metadata": {},
   "outputs": [],
   "source": []
  },
  {
   "cell_type": "code",
   "execution_count": null,
   "id": "40998999",
   "metadata": {},
   "outputs": [],
   "source": []
  },
  {
   "cell_type": "code",
   "execution_count": null,
   "id": "413c2383",
   "metadata": {},
   "outputs": [],
   "source": []
  },
  {
   "cell_type": "code",
   "execution_count": null,
   "id": "cfab4220",
   "metadata": {},
   "outputs": [],
   "source": []
  },
  {
   "cell_type": "code",
   "execution_count": null,
   "id": "25149f69",
   "metadata": {},
   "outputs": [],
   "source": []
  },
  {
   "cell_type": "code",
   "execution_count": null,
   "id": "02d7c50b",
   "metadata": {},
   "outputs": [],
   "source": []
  },
  {
   "cell_type": "code",
   "execution_count": null,
   "id": "9505d7ed",
   "metadata": {},
   "outputs": [],
   "source": []
  },
  {
   "cell_type": "code",
   "execution_count": null,
   "id": "1ab53218",
   "metadata": {},
   "outputs": [],
   "source": []
  },
  {
   "cell_type": "code",
   "execution_count": null,
   "id": "73ff62a0",
   "metadata": {},
   "outputs": [],
   "source": []
  },
  {
   "cell_type": "code",
   "execution_count": null,
   "id": "7f7953d0",
   "metadata": {},
   "outputs": [],
   "source": []
  },
  {
   "cell_type": "code",
   "execution_count": 17,
   "id": "7def9af0",
   "metadata": {},
   "outputs": [],
   "source": [
    "#to do list:\n",
    "    #choose matrix for ranking the model-accuracy scoring\n",
    "    # regression somthing idk- \n",
    "    # split the data to train and test parts\n",
    "    # scale the dat of the train and the test separatly\n",
    "    # analayze the data-coorolation between diffrent variabls-lil summ of cunclusion\n",
    "    #smote the data\n",
    "    #choose dummy model that best fit your dataframe\n",
    "    # choose diffrent models and try them on the project-try to imporve as much as possible\n",
    "    # choose the model that preformed the best at the given task and let him try the test."
   ]
  }
 ],
 "metadata": {
  "kernelspec": {
   "display_name": "Python 3 (ipykernel)",
   "language": "python",
   "name": "python3"
  },
  "language_info": {
   "codemirror_mode": {
    "name": "ipython",
    "version": 3
   },
   "file_extension": ".py",
   "mimetype": "text/x-python",
   "name": "python",
   "nbconvert_exporter": "python",
   "pygments_lexer": "ipython3",
   "version": "3.9.7"
  }
 },
 "nbformat": 4,
 "nbformat_minor": 5
}
