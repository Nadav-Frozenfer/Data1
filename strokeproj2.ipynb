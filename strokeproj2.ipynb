{
 "cells": [
  {
   "cell_type": "code",
   "execution_count": 4,
   "id": "6503e464",
   "metadata": {},
   "outputs": [
    {
     "name": "stdout",
     "output_type": "stream",
     "text": [
      "Requirement already satisfied: xgboost in c:\\users\\hila\\anaconda3\\lib\\site-packages (1.5.2)\n",
      "Requirement already satisfied: scipy in c:\\users\\hila\\anaconda3\\lib\\site-packages (from xgboost) (1.6.2)\n",
      "Requirement already satisfied: numpy in c:\\users\\hila\\anaconda3\\lib\\site-packages (from xgboost) (1.20.1)\n",
      "Note: you may need to restart the kernel to use updated packages.\n"
     ]
    }
   ],
   "source": [
    "pip install xgboost"
   ]
  },
  {
   "cell_type": "code",
   "execution_count": 5,
   "id": "44f4ce70",
   "metadata": {},
   "outputs": [
    {
     "name": "stdout",
     "output_type": "stream",
     "text": [
      "Collecting package metadata (current_repodata.json): ...working... done\n",
      "Solving environment: ...working... done\n",
      "\n",
      "# All requested packages already installed.\n",
      "\n",
      "\n",
      "Note: you may need to restart the kernel to use updated packages.\n"
     ]
    }
   ],
   "source": [
    "conda install -c conda-forge imbalanced-learn"
   ]
  },
  {
   "cell_type": "code",
   "execution_count": 7,
   "id": "d20c1911",
   "metadata": {},
   "outputs": [],
   "source": [
    "import seaborn as sns\n",
    "import matplotlib.pyplot as plt\n",
    "import warnings\n",
    "import numpy as np \n",
    "import pandas as pd \n",
    "from sklearn.preprocessing import LabelEncoder\n",
    "from sklearn.preprocessing import StandardScaler\n",
    "from imblearn.over_sampling import SMOTE\n",
    "from sklearn.model_selection import train_test_split\n",
    "from sklearn.linear_model import LogisticRegression\n",
    "from sklearn.ensemble import RandomForestClassifier\n",
    "from sklearn.tree import DecisionTreeClassifier\n",
    "from sklearn.metrics import accuracy_score, f1_score\n",
    "from xgboost import XGBClassifier\n",
    "from sklearn.neighbors import KNeighborsClassifier\n",
    "from sklearn.tree import DecisionTreeClassifier\n",
    "from sklearn.svm import SVC\n",
    "sns.set_style('darkgrid')\n",
    "warnings.filterwarnings('ignore')"
   ]
  },
  {
   "cell_type": "code",
   "execution_count": 8,
   "id": "d1f7935f",
   "metadata": {},
   "outputs": [
    {
     "data": {
      "text/html": [
       "<div>\n",
       "<style scoped>\n",
       "    .dataframe tbody tr th:only-of-type {\n",
       "        vertical-align: middle;\n",
       "    }\n",
       "\n",
       "    .dataframe tbody tr th {\n",
       "        vertical-align: top;\n",
       "    }\n",
       "\n",
       "    .dataframe thead th {\n",
       "        text-align: right;\n",
       "    }\n",
       "</style>\n",
       "<table border=\"1\" class=\"dataframe\">\n",
       "  <thead>\n",
       "    <tr style=\"text-align: right;\">\n",
       "      <th></th>\n",
       "      <th>id</th>\n",
       "      <th>gender</th>\n",
       "      <th>age</th>\n",
       "      <th>hypertension</th>\n",
       "      <th>heart_disease</th>\n",
       "      <th>ever_married</th>\n",
       "      <th>work_type</th>\n",
       "      <th>Residence_type</th>\n",
       "      <th>avg_glucose_level</th>\n",
       "      <th>bmi</th>\n",
       "      <th>smoking_status</th>\n",
       "      <th>stroke</th>\n",
       "    </tr>\n",
       "  </thead>\n",
       "  <tbody>\n",
       "    <tr>\n",
       "      <th>0</th>\n",
       "      <td>9046</td>\n",
       "      <td>Male</td>\n",
       "      <td>67.0</td>\n",
       "      <td>0</td>\n",
       "      <td>1</td>\n",
       "      <td>Yes</td>\n",
       "      <td>Private</td>\n",
       "      <td>Urban</td>\n",
       "      <td>228.69</td>\n",
       "      <td>36.6</td>\n",
       "      <td>formerly smoked</td>\n",
       "      <td>1</td>\n",
       "    </tr>\n",
       "    <tr>\n",
       "      <th>1</th>\n",
       "      <td>51676</td>\n",
       "      <td>Female</td>\n",
       "      <td>61.0</td>\n",
       "      <td>0</td>\n",
       "      <td>0</td>\n",
       "      <td>Yes</td>\n",
       "      <td>Self-employed</td>\n",
       "      <td>Rural</td>\n",
       "      <td>202.21</td>\n",
       "      <td>NaN</td>\n",
       "      <td>never smoked</td>\n",
       "      <td>1</td>\n",
       "    </tr>\n",
       "    <tr>\n",
       "      <th>2</th>\n",
       "      <td>31112</td>\n",
       "      <td>Male</td>\n",
       "      <td>80.0</td>\n",
       "      <td>0</td>\n",
       "      <td>1</td>\n",
       "      <td>Yes</td>\n",
       "      <td>Private</td>\n",
       "      <td>Rural</td>\n",
       "      <td>105.92</td>\n",
       "      <td>32.5</td>\n",
       "      <td>never smoked</td>\n",
       "      <td>1</td>\n",
       "    </tr>\n",
       "    <tr>\n",
       "      <th>3</th>\n",
       "      <td>60182</td>\n",
       "      <td>Female</td>\n",
       "      <td>49.0</td>\n",
       "      <td>0</td>\n",
       "      <td>0</td>\n",
       "      <td>Yes</td>\n",
       "      <td>Private</td>\n",
       "      <td>Urban</td>\n",
       "      <td>171.23</td>\n",
       "      <td>34.4</td>\n",
       "      <td>smokes</td>\n",
       "      <td>1</td>\n",
       "    </tr>\n",
       "    <tr>\n",
       "      <th>4</th>\n",
       "      <td>1665</td>\n",
       "      <td>Female</td>\n",
       "      <td>79.0</td>\n",
       "      <td>1</td>\n",
       "      <td>0</td>\n",
       "      <td>Yes</td>\n",
       "      <td>Self-employed</td>\n",
       "      <td>Rural</td>\n",
       "      <td>174.12</td>\n",
       "      <td>24.0</td>\n",
       "      <td>never smoked</td>\n",
       "      <td>1</td>\n",
       "    </tr>\n",
       "  </tbody>\n",
       "</table>\n",
       "</div>"
      ],
      "text/plain": [
       "      id  gender   age  hypertension  heart_disease ever_married  \\\n",
       "0   9046    Male  67.0             0              1          Yes   \n",
       "1  51676  Female  61.0             0              0          Yes   \n",
       "2  31112    Male  80.0             0              1          Yes   \n",
       "3  60182  Female  49.0             0              0          Yes   \n",
       "4   1665  Female  79.0             1              0          Yes   \n",
       "\n",
       "       work_type Residence_type  avg_glucose_level   bmi   smoking_status  \\\n",
       "0        Private          Urban             228.69  36.6  formerly smoked   \n",
       "1  Self-employed          Rural             202.21   NaN     never smoked   \n",
       "2        Private          Rural             105.92  32.5     never smoked   \n",
       "3        Private          Urban             171.23  34.4           smokes   \n",
       "4  Self-employed          Rural             174.12  24.0     never smoked   \n",
       "\n",
       "   stroke  \n",
       "0       1  \n",
       "1       1  \n",
       "2       1  \n",
       "3       1  \n",
       "4       1  "
      ]
     },
     "execution_count": 8,
     "metadata": {},
     "output_type": "execute_result"
    }
   ],
   "source": [
    "stroke = pd.read_csv(\"healthcare-dataset-stroke-data.csv\")\n",
    "# for print first five rows in data\n",
    "stroke.head()"
   ]
  },
  {
   "cell_type": "code",
   "execution_count": 9,
   "id": "115e1b16",
   "metadata": {},
   "outputs": [
    {
     "data": {
      "text/plain": [
       "(5110, 12)"
      ]
     },
     "execution_count": 9,
     "metadata": {},
     "output_type": "execute_result"
    }
   ],
   "source": [
    "stroke.shape"
   ]
  },
  {
   "cell_type": "code",
   "execution_count": 10,
   "id": "88ff431e",
   "metadata": {},
   "outputs": [],
   "source": [
    "stroke.columns=stroke.columns.str.lower()\n",
    "stroke.isna().sum()\n",
    "stroke=stroke.fillna(np.mean(stroke['bmi']))\n",
    "stroke.isna().sum()\n",
    "stroke['smoking_status'].replace('Unknown', stroke['smoking_status'].mode()[0], inplace=True)\n",
    "stroke.drop('id', axis=1, inplace=True)\n",
    "stroke= stroke[stroke['gender'] != 'Other']"
   ]
  },
  {
   "cell_type": "code",
   "execution_count": 11,
   "id": "dc2d61ee",
   "metadata": {},
   "outputs": [
    {
     "name": "stdout",
     "output_type": "stream",
     "text": [
      "now i segregate the data into numerical and categorical values.Categorical data refers to a data type that can be stored and identified based on the names or labels given to them.\n",
      "\n",
      "Numerical data refers to the data that is in the form of numbers, and not in any language or descriptive form.This will help us analyze the data better.\n",
      "\n"
     ]
    }
   ],
   "source": [
    "print(\"now i segregate the data into numerical and categorical values.Categorical data refers to a data type that can be stored and identified based on the names or labels given to them.\\n\")\n",
    "\n",
    "print(\"Numerical data refers to the data that is in the form of numbers, and not in any language or descriptive form.This will help us analyze the data better.\\n\")"
   ]
  },
  {
   "cell_type": "code",
   "execution_count": 12,
   "id": "a70ffbc2",
   "metadata": {},
   "outputs": [],
   "source": [
    "numeric_data=stroke.loc[:,stroke.nunique() > 5]\n",
    "cols = [col for col in stroke.columns if col not in numeric_data]\n",
    "\n",
    "categorical_data=stroke[cols].drop('stroke',axis=1)\n",
    "numeric_data=pd.DataFrame(numeric_data)\n",
    "categorical_data=pd.DataFrame(categorical_data)"
   ]
  },
  {
   "cell_type": "code",
   "execution_count": 13,
   "id": "832c1623",
   "metadata": {},
   "outputs": [
    {
     "name": "stdout",
     "output_type": "stream",
     "text": [
      "People who formerly smoked and who smoke show signs of stroke way more than people who never smoked.\n"
     ]
    },
    {
     "data": {
      "image/png": "[encoded data removed]",
      "text/plain": [
       "<Figure size 720x432 with 1 Axes>"
      ]
     },
     "metadata": {},
     "output_type": "display_data"
    }
   ],
   "source": [
    "plt.figure(figsize=(10,6))\n",
    "ax=sns.countplot(x='smoking_status',data=stroke, palette='rainbow',hue='stroke')\n",
    "plt.title(\"Count of people in each Smoking Group\")\n",
    "for p in ax.patches:\n",
    "        ax.annotate('{}'.format(p.get_height()), (p.get_x()+0.15, p.get_height()+50))\n",
    "print(\"People who formerly smoked and who smoke show signs of stroke way more than people who never smoked.\")"
   ]
  },
  {
   "cell_type": "code",
   "execution_count": 14,
   "id": "96621986",
   "metadata": {},
   "outputs": [
    {
     "name": "stdout",
     "output_type": "stream",
     "text": [
      "SMOTE - Synthetic Minority Oversampling Technique is an oversampling technique where the synthetic samples are generated for the minority class. This algorithm helps to overcome the overfitting problem posed by random oversampling.\n"
     ]
    }
   ],
   "source": [
    "print(\"SMOTE - Synthetic Minority Oversampling Technique is an oversampling technique where the synthetic samples are generated for the minority class. This algorithm helps to overcome the overfitting problem posed by random oversampling.\")"
   ]
  },
  {
   "cell_type": "code",
   "execution_count": 15,
   "id": "01ab80bd",
   "metadata": {},
   "outputs": [
    {
     "name": "stdout",
     "output_type": "stream",
     "text": [
      "Imbalanced classification involves developing predictive models on classification datasets that have a severe class imbalance.\n",
      "\n",
      "The challenge of working with imbalanced datasets is that most machine learning techniques will ignore, and in turn have poor performance on, the minority class, although typically it is performance on the minority class that is most important\n",
      "\n",
      "One approach to addressing imbalanced datasets is to oversample the minority class.\n",
      "\n"
     ]
    }
   ],
   "source": [
    "print(\"Imbalanced classification involves developing predictive models on classification datasets that have a severe class imbalance.\\n\")\n",
    "\n",
    "print(\"The challenge of working with imbalanced datasets is that most machine learning techniques will ignore, and in turn have poor performance on, the minority class, although typically it is performance on the minority class that is most important\\n\")\n",
    "print(\"One approach to addressing imbalanced datasets is to oversample the minority class.\\n\")"
   ]
  },
  {
   "cell_type": "code",
   "execution_count": 16,
   "id": "b80fee57",
   "metadata": {},
   "outputs": [],
   "source": [
    "num_cols=numeric_data.columns.to_list()\n",
    "sc = StandardScaler()\n",
    "stroke[num_cols] = sc.fit_transform(stroke[num_cols])\n",
    "le = LabelEncoder()\n",
    "object_col = [col for col in stroke.columns if stroke[col].dtype == 'object']\n",
    "for col in object_col:\n",
    "    stroke[col] = le.fit_transform(stroke[col])"
   ]
  },
  {
   "cell_type": "code",
   "execution_count": 17,
   "id": "51cf5eaf",
   "metadata": {},
   "outputs": [],
   "source": [
    "training_data=stroke.copy()\n",
    "x= training_data.drop(['stroke'],axis=1)\n",
    "y= stroke['stroke']\n",
    "x_train,x_test,y_train,y_test = train_test_split(x,y,test_size=0.2,random_state=42)\n"
   ]
  },
  {
   "cell_type": "code",
   "execution_count": 18,
   "id": "c06ee640",
   "metadata": {},
   "outputs": [],
   "source": [
    "sm = SMOTE()\n",
    "x_train, y_train = sm.fit_resample(x_train,y_train)"
   ]
  },
  {
   "cell_type": "code",
   "execution_count": 19,
   "id": "d3542fd2",
   "metadata": {},
   "outputs": [
    {
     "data": {
      "text/plain": [
       "0.7544031311154599"
      ]
     },
     "execution_count": 19,
     "metadata": {},
     "output_type": "execute_result"
    }
   ],
   "source": [
    "lr= LogisticRegression()\n",
    "lr.fit(x_train, y_train)\n",
    "lr_pred = lr.predict(x_test)\n",
    "lr_acc = accuracy_score(lr_pred, y_test)\n",
    "lr_f1 = f1_score(lr_pred, y_test)\n",
    "lr_acc"
   ]
  },
  {
   "cell_type": "code",
   "execution_count": 20,
   "id": "eb3a6da8",
   "metadata": {},
   "outputs": [
    {
     "data": {
      "text/plain": [
       "0.8610567514677103"
      ]
     },
     "execution_count": 20,
     "metadata": {},
     "output_type": "execute_result"
    }
   ],
   "source": [
    "decision_tree = DecisionTreeClassifier()   \n",
    "decision_tree.fit(x_train,y_train)\n",
    "dt_pred = decision_tree.predict(x_test)\n",
    "dt_acc = accuracy_score(dt_pred, y_test)\n",
    "dt_acc"
   ]
  },
  {
   "cell_type": "code",
   "execution_count": 21,
   "id": "92cbb4c9",
   "metadata": {},
   "outputs": [
    {
     "data": {
      "text/plain": [
       "0.761252446183953"
      ]
     },
     "execution_count": 21,
     "metadata": {},
     "output_type": "execute_result"
    }
   ],
   "source": [
    "svm=SVC(random_state=42)\n",
    "svm.fit(x_train, y_train)\n",
    "svm_pred = svm.predict(x_test)\n",
    "svm_acc = accuracy_score(svm_pred, y_test)\n",
    "svm_acc"
   ]
  },
  {
   "cell_type": "code",
   "execution_count": 22,
   "id": "3a4cc10e",
   "metadata": {},
   "outputs": [
    {
     "data": {
      "text/plain": [
       "0.7690802348336595"
      ]
     },
     "execution_count": 22,
     "metadata": {},
     "output_type": "execute_result"
    }
   ],
   "source": [
    "knn = KNeighborsClassifier()\n",
    "knn.fit(x_train, y_train)\n",
    "knn_pred = knn.predict(x_test)\n",
    "knn_acc = accuracy_score(knn_pred, y_test)\n",
    "knn_acc"
   ]
  },
  {
   "cell_type": "code",
   "execution_count": 23,
   "id": "6b32de2e",
   "metadata": {},
   "outputs": [
    {
     "name": "stdout",
     "output_type": "stream",
     "text": [
      "[21:51:05] WARNING: C:/Users/Administrator/workspace/xgboost-win64_release_1.5.1/src/learner.cc:1115: Starting in XGBoost 1.3.0, the default evaluation metric used with the objective 'binary:logistic' was changed from 'error' to 'logloss'. Explicitly set eval_metric if you'd like to restore the old behavior.\n"
     ]
    },
    {
     "data": {
      "text/plain": [
       "0.923679060665362"
      ]
     },
     "execution_count": 23,
     "metadata": {},
     "output_type": "execute_result"
    }
   ],
   "source": [
    "xgb = XGBClassifier()\n",
    "xgb.fit(x_train, y_train)\n",
    "xgb_pred = xgb.predict(x_test)\n",
    "xgb_acc = accuracy_score(xgb_pred, y_test)\n",
    "xgb_acc"
   ]
  },
  {
   "cell_type": "code",
   "execution_count": 25,
   "id": "dd66cb31",
   "metadata": {},
   "outputs": [
    {
     "data": {
      "text/plain": [
       "0.8610567514677103"
      ]
     },
     "execution_count": 25,
     "metadata": {},
     "output_type": "execute_result"
    }
   ],
   "source": [
    "rf = RandomForestClassifier(n_estimators = 25)\n",
    "rf.fit(x_train, y_train)\n",
    "rf_pred = rf.predict(x_test)\n",
    "rf_acc = accuracy_score(rf_pred, y_test)\n",
    "rf_acc"
   ]
  },
  {
   "cell_type": "code",
   "execution_count": 26,
   "id": "1aae87b1",
   "metadata": {},
   "outputs": [
    {
     "data": {
      "image/png": "[encoded data removed]",
      "text/plain": [
       "<Figure size 864x432 with 1 Axes>"
      ]
     },
     "metadata": {},
     "output_type": "display_data"
    }
   ],
   "source": [
    "models_names = [\"LogisticRegression\",'DecisionTreeClassifier','RandomForestClassifier','XGBClassifier',\n",
    "                    'KNeighborsClassifier','SVC']\n",
    "models_acc=[lr_acc,dt_acc,rf_acc,xgb_acc,knn_acc,svm_acc]\n",
    "\n",
    "plt.rcParams['figure.figsize']=12,6\n",
    "ax = sns.barplot(x=models_names, y=models_acc, palette = \"mako\", saturation =1.5)\n",
    "plt.xlabel('Classifier Models' )\n",
    "plt.ylabel('Accuracy')\n",
    "plt.title('Accuracy of different Classifier Models')\n",
    "plt.xticks(fontsize = 10, horizontalalignment = 'center', rotation = 8)\n",
    "plt.yticks(fontsize = 10)\n",
    "for i in ax.patches:\n",
    "    width, height = i.get_width(), i.get_height()\n",
    "    x, y = i.get_xy() \n",
    "    ax.annotate(f'{round(height,5)}', (x + width/2, y + height*1.02), ha='center', fontsize = 10)\n",
    "plt.show()"
   ]
  },
  {
   "cell_type": "code",
   "execution_count": 27,
   "id": "6f2e4d77",
   "metadata": {},
   "outputs": [
    {
     "name": "stdout",
     "output_type": "stream",
     "text": [
      "Hyperparameter tuning is choosing a set of optimal hyperparameters for a learning algorithm. Here we apply model tuning only to rf Classifier, as it has the highest accuracy so far.\n"
     ]
    }
   ],
   "source": [
    "\n",
    "print(\"Hyperparameter tuning is choosing a set of optimal hyperparameters for a learning algorithm. Here we apply model tuning only to rf Classifier, as it has the highest accuracy so far.\")"
   ]
  },
  {
   "cell_type": "code",
   "execution_count": 29,
   "id": "2d2b4b2a",
   "metadata": {},
   "outputs": [
    {
     "name": "stdout",
     "output_type": "stream",
     "text": [
      "Fitting 10 folds for each of 96 candidates, totalling 960 fits\n",
      "[21:59:37] WARNING: C:/Users/Administrator/workspace/xgboost-win64_release_1.5.1/src/learner.cc:1115: Starting in XGBoost 1.3.0, the default evaluation metric used with the objective 'binary:logistic' was changed from 'error' to 'logloss'. Explicitly set eval_metric if you'd like to restore the old behavior.\n"
     ]
    },
    {
     "data": {
      "text/plain": [
       "GridSearchCV(cv=10,\n",
       "             estimator=XGBClassifier(base_score=None, booster=None,\n",
       "                                     colsample_bylevel=None,\n",
       "                                     colsample_bynode=None,\n",
       "                                     colsample_bytree=None,\n",
       "                                     enable_categorical=False, gamma=None,\n",
       "                                     gpu_id=None, importance_type=None,\n",
       "                                     interaction_constraints=None,\n",
       "                                     learning_rate=None, max_delta_step=None,\n",
       "                                     max_depth=None, min_child_weight=None,\n",
       "                                     missing=nan, monotone_constraints=None,\n",
       "                                     n_estimators=100, n_jobs=None, nthread=1,\n",
       "                                     num_parallel_tree=None, predictor=None,\n",
       "                                     random_state=None, reg_alpha=None,\n",
       "                                     reg_lambda=None, scale_pos_weight=None,\n",
       "                                     seed=42, subsample=None, tree_method=None,\n",
       "                                     validate_parameters=None, verbosity=None),\n",
       "             n_jobs=4,\n",
       "             param_grid={'learning_rate': [0.1, 0.01, 0.05],\n",
       "                         'max_depth': range(2, 10),\n",
       "                         'n_estimators': range(60, 220, 40)},\n",
       "             scoring='roc_auc', verbose=3)"
      ]
     },
     "execution_count": 29,
     "metadata": {},
     "output_type": "execute_result"
    }
   ],
   "source": [
    "from sklearn.model_selection import GridSearchCV\n",
    "estimator = XGBClassifier(\n",
    "    objective= 'binary:logistic',\n",
    "    nthread=1,\n",
    "    seed=42\n",
    ")\n",
    "parameters = {\n",
    "    'max_depth': range (2, 10, 1),\n",
    "    'n_estimators': range(60, 220, 40),\n",
    "    'learning_rate': [0.1, 0.01, 0.05]\n",
    "}\n",
    "grid_search = GridSearchCV(\n",
    "    estimator=estimator,\n",
    "    param_grid=parameters,\n",
    "    scoring = 'roc_auc',\n",
    "    n_jobs = 4,\n",
    "    cv = 10,\n",
    "    verbose=3\n",
    ")\n",
    "grid_search.fit(x_train, y_train)"
   ]
  },
  {
   "cell_type": "code",
   "execution_count": 30,
   "id": "137102a9",
   "metadata": {},
   "outputs": [
    {
     "data": {
      "text/plain": [
       "XGBClassifier(base_score=0.5, booster='gbtree', colsample_bylevel=1,\n",
       "              colsample_bynode=1, colsample_bytree=1, enable_categorical=False,\n",
       "              gamma=0, gpu_id=-1, importance_type=None,\n",
       "              interaction_constraints='', learning_rate=0.1, max_delta_step=0,\n",
       "              max_depth=8, min_child_weight=1, missing=nan,\n",
       "              monotone_constraints='()', n_estimators=180, n_jobs=1, nthread=1,\n",
       "              num_parallel_tree=1, predictor='auto', random_state=42,\n",
       "              reg_alpha=0, reg_lambda=1, scale_pos_weight=1, seed=42,\n",
       "              subsample=1, tree_method='exact', validate_parameters=1,\n",
       "              verbosity=None)"
      ]
     },
     "execution_count": 30,
     "metadata": {},
     "output_type": "execute_result"
    }
   ],
   "source": [
    "grid_search.best_estimator_"
   ]
  },
  {
   "cell_type": "code",
   "execution_count": 31,
   "id": "f8f73591",
   "metadata": {},
   "outputs": [
    {
     "data": {
      "text/plain": [
       "0.9936482577251808"
      ]
     },
     "execution_count": 31,
     "metadata": {},
     "output_type": "execute_result"
    }
   ],
   "source": [
    "grid_search.best_score_"
   ]
  },
  {
   "cell_type": "code",
   "execution_count": 32,
   "id": "0890f3d8",
   "metadata": {},
   "outputs": [
    {
     "name": "stdout",
     "output_type": "stream",
     "text": [
      "[22:02:16] WARNING: C:/Users/Administrator/workspace/xgboost-win64_release_1.5.1/src/learner.cc:1115: Starting in XGBoost 1.3.0, the default evaluation metric used with the objective 'binary:logistic' was changed from 'error' to 'logloss'. Explicitly set eval_metric if you'd like to restore the old behavior.\n"
     ]
    },
    {
     "data": {
      "text/plain": [
       "0.9344422700587084"
      ]
     },
     "execution_count": 32,
     "metadata": {},
     "output_type": "execute_result"
    }
   ],
   "source": [
    "xgb_tuned=XGBClassifier(base_score=0.5, booster='gbtree', colsample_bylevel=1,\n",
    "              colsample_bynode=1, colsample_bytree=1, enable_categorical=False,\n",
    "              gamma=0, gpu_id=-1, importance_type=None,\n",
    "              interaction_constraints='', learning_rate=0.1, max_delta_step=0,\n",
    "              max_depth=9, min_child_weight=1,\n",
    "              monotone_constraints='()', n_estimators=160, n_jobs=1, nthread=1,\n",
    "              num_parallel_tree=1, predictor='auto', random_state=42,\n",
    "              reg_alpha=0, reg_lambda=1, scale_pos_weight=0.2, seed=42,\n",
    "              subsample=1, tree_method='exact', validate_parameters=1,\n",
    "              verbosity=None)\n",
    "\n",
    "xgb_tuned.fit(x_train, y_train)\n",
    "xgb_tpred = xgb_tuned.predict(x_test)\n",
    "xgb_tacc = accuracy_score(xgb_tpred, y_test)\n",
    "xgb_tacc"
   ]
  },
  {
   "cell_type": "code",
   "execution_count": 33,
   "id": "d5203fa6",
   "metadata": {},
   "outputs": [
    {
     "name": "stdout",
     "output_type": "stream",
     "text": [
      "              precision    recall  f1-score   support\n",
      "\n",
      "           0       0.94      0.99      0.97       960\n",
      "           1       0.22      0.03      0.06        62\n",
      "\n",
      "    accuracy                           0.93      1022\n",
      "   macro avg       0.58      0.51      0.51      1022\n",
      "weighted avg       0.90      0.93      0.91      1022\n",
      "\n",
      "ROC AUC score:  0.7747143817204301\n",
      "Accuracy Score:  0.9344422700587084\n"
     ]
    }
   ],
   "source": [
    "from sklearn.metrics import accuracy_score, confusion_matrix, roc_auc_score, precision_score, recall_score, f1_score, roc_curve, plot_roc_curve, auc,classification_report\n",
    "cm = confusion_matrix(y_test, xgb_tpred)\n",
    "xgb_tprob = xgb_tuned.predict_proba(x_test)[:,1]\n",
    "print(classification_report(y_test, xgb_tpred))\n",
    "print('ROC AUC score: ',roc_auc_score(y_test, xgb_tprob))\n",
    "print('Accuracy Score: ',accuracy_score(y_test, xgb_tpred))"
   ]
  },
  {
   "cell_type": "code",
   "execution_count": 34,
   "id": "ed48dbb0",
   "metadata": {},
   "outputs": [
    {
     "name": "stdout",
     "output_type": "stream",
     "text": [
      "Here we have completed modelling as well as tuning. The accuracy obtained is 93.5 %.\n"
     ]
    }
   ],
   "source": [
    "print(\"Here we have completed modelling as well as tuning. The accuracy obtained is 93.5 %.\")"
   ]
  },
  {
   "cell_type": "code",
   "execution_count": null,
   "id": "ffc912d6",
   "metadata": {},
   "outputs": [],
   "source": []
  }
 ],
 "metadata": {
  "kernelspec": {
   "display_name": "Python 3",
   "language": "python",
   "name": "python3"
  },
  "language_info": {
   "codemirror_mode": {
    "name": "ipython",
    "version": 3
   },
   "file_extension": ".py",
   "mimetype": "text/x-python",
   "name": "python",
   "nbconvert_exporter": "python",
   "pygments_lexer": "ipython3",
   "version": "3.8.8"
  }
 },
 "nbformat": 4,
 "nbformat_minor": 5
}
