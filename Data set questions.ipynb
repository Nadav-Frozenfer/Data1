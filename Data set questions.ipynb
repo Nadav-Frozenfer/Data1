{
 "cells": [
  {
   "cell_type": "code",
   "execution_count": 1,
   "id": "c584f233",
   "metadata": {},
   "outputs": [],
   "source": [
    "import pandas as pd\n"
   ]
  },
  {
   "cell_type": "code",
   "execution_count": 35,
   "id": "261c2f59",
   "metadata": {},
   "outputs": [],
   "source": [
    "df=pd.read_csv(\"cast.csv\")"
   ]
  },
  {
   "cell_type": "code",
   "execution_count": 85,
   "id": "32e8415d",
   "metadata": {},
   "outputs": [
    {
     "name": "stdout",
     "output_type": "stream",
     "text": [
      "<class 'pandas.core.frame.DataFrame'>\n",
      "RangeIndex: 3333695 entries, 0 to 3333694\n",
      "Data columns (total 7 columns):\n",
      " #   Column     Dtype  \n",
      "---  ------     -----  \n",
      " 0   title      object \n",
      " 1   year       int64  \n",
      " 2   name       object \n",
      " 3   type       object \n",
      " 4   character  object \n",
      " 5   n          float64\n",
      " 6   decade     int64  \n",
      "dtypes: float64(1), int64(2), object(4)\n",
      "memory usage: 178.0+ MB\n"
     ]
    },
    {
     "data": {
      "text/html": [
       "<div>\n",
       "<style scoped>\n",
       "    .dataframe tbody tr th:only-of-type {\n",
       "        vertical-align: middle;\n",
       "    }\n",
       "\n",
       "    .dataframe tbody tr th {\n",
       "        vertical-align: top;\n",
       "    }\n",
       "\n",
       "    .dataframe thead th {\n",
       "        text-align: right;\n",
       "    }\n",
       "</style>\n",
       "<table border=\"1\" class=\"dataframe\">\n",
       "  <thead>\n",
       "    <tr style=\"text-align: right;\">\n",
       "      <th></th>\n",
       "      <th>title</th>\n",
       "      <th>year</th>\n",
       "      <th>name</th>\n",
       "      <th>type</th>\n",
       "      <th>character</th>\n",
       "      <th>n</th>\n",
       "      <th>decade</th>\n",
       "    </tr>\n",
       "  </thead>\n",
       "  <tbody>\n",
       "    <tr>\n",
       "      <th>0</th>\n",
       "      <td>Suuri illusioni</td>\n",
       "      <td>1985</td>\n",
       "      <td>Homo $</td>\n",
       "      <td>actor</td>\n",
       "      <td>Guests</td>\n",
       "      <td>22.0</td>\n",
       "      <td>1980</td>\n",
       "    </tr>\n",
       "    <tr>\n",
       "      <th>1</th>\n",
       "      <td>Gangsta Rap: The Glockumentary</td>\n",
       "      <td>2007</td>\n",
       "      <td>Too $hort</td>\n",
       "      <td>actor</td>\n",
       "      <td>Himself</td>\n",
       "      <td>NaN</td>\n",
       "      <td>2000</td>\n",
       "    </tr>\n",
       "    <tr>\n",
       "      <th>2</th>\n",
       "      <td>Menace II Society</td>\n",
       "      <td>1993</td>\n",
       "      <td>Too $hort</td>\n",
       "      <td>actor</td>\n",
       "      <td>Lew-Loc</td>\n",
       "      <td>27.0</td>\n",
       "      <td>1990</td>\n",
       "    </tr>\n",
       "    <tr>\n",
       "      <th>3</th>\n",
       "      <td>Porndogs: The Adventures of Sadie</td>\n",
       "      <td>2009</td>\n",
       "      <td>Too $hort</td>\n",
       "      <td>actor</td>\n",
       "      <td>Bosco</td>\n",
       "      <td>3.0</td>\n",
       "      <td>2000</td>\n",
       "    </tr>\n",
       "    <tr>\n",
       "      <th>4</th>\n",
       "      <td>Stop Pepper Palmer</td>\n",
       "      <td>2014</td>\n",
       "      <td>Too $hort</td>\n",
       "      <td>actor</td>\n",
       "      <td>Himself</td>\n",
       "      <td>NaN</td>\n",
       "      <td>2010</td>\n",
       "    </tr>\n",
       "    <tr>\n",
       "      <th>...</th>\n",
       "      <td>...</td>\n",
       "      <td>...</td>\n",
       "      <td>...</td>\n",
       "      <td>...</td>\n",
       "      <td>...</td>\n",
       "      <td>...</td>\n",
       "      <td>...</td>\n",
       "    </tr>\n",
       "    <tr>\n",
       "      <th>3333690</th>\n",
       "      <td>Stuttur Frakki</td>\n",
       "      <td>1993</td>\n",
       "      <td>Sveinbj?rg ??rhallsd?ttir</td>\n",
       "      <td>actress</td>\n",
       "      <td>Flugfreyja</td>\n",
       "      <td>24.0</td>\n",
       "      <td>1990</td>\n",
       "    </tr>\n",
       "    <tr>\n",
       "      <th>3333691</th>\n",
       "      <td>Foxtrot</td>\n",
       "      <td>1988</td>\n",
       "      <td>Lilja ??risd?ttir</td>\n",
       "      <td>actress</td>\n",
       "      <td>D?ra</td>\n",
       "      <td>24.0</td>\n",
       "      <td>1980</td>\n",
       "    </tr>\n",
       "    <tr>\n",
       "      <th>3333692</th>\n",
       "      <td>Niceland (Population. 1.000.002)</td>\n",
       "      <td>2004</td>\n",
       "      <td>Sigr??ur J?na ??risd?ttir</td>\n",
       "      <td>actress</td>\n",
       "      <td>Woman in Bus</td>\n",
       "      <td>26.0</td>\n",
       "      <td>2000</td>\n",
       "    </tr>\n",
       "    <tr>\n",
       "      <th>3333693</th>\n",
       "      <td>U.S.S.S.S...</td>\n",
       "      <td>2003</td>\n",
       "      <td>Krist?n Andrea ??r?ard?ttir</td>\n",
       "      <td>actress</td>\n",
       "      <td>Afgr.dama ? bens?nst??</td>\n",
       "      <td>17.0</td>\n",
       "      <td>2000</td>\n",
       "    </tr>\n",
       "    <tr>\n",
       "      <th>3333694</th>\n",
       "      <td>Bye Bye Blue Bird</td>\n",
       "      <td>1999</td>\n",
       "      <td>Rosa ? R?gvu</td>\n",
       "      <td>actress</td>\n",
       "      <td>Pensionatv?rtinde</td>\n",
       "      <td>NaN</td>\n",
       "      <td>1990</td>\n",
       "    </tr>\n",
       "  </tbody>\n",
       "</table>\n",
       "<p>3333695 rows × 7 columns</p>\n",
       "</div>"
      ],
      "text/plain": [
       "                                     title  year                         name  \\\n",
       "0                          Suuri illusioni  1985                       Homo $   \n",
       "1           Gangsta Rap: The Glockumentary  2007                    Too $hort   \n",
       "2                        Menace II Society  1993                    Too $hort   \n",
       "3        Porndogs: The Adventures of Sadie  2009                    Too $hort   \n",
       "4                       Stop Pepper Palmer  2014                    Too $hort   \n",
       "...                                    ...   ...                          ...   \n",
       "3333690                     Stuttur Frakki  1993    Sveinbj?rg ??rhallsd?ttir   \n",
       "3333691                            Foxtrot  1988            Lilja ??risd?ttir   \n",
       "3333692   Niceland (Population. 1.000.002)  2004    Sigr??ur J?na ??risd?ttir   \n",
       "3333693                       U.S.S.S.S...  2003  Krist?n Andrea ??r?ard?ttir   \n",
       "3333694                  Bye Bye Blue Bird  1999                 Rosa ? R?gvu   \n",
       "\n",
       "            type               character     n  decade  \n",
       "0          actor                  Guests  22.0    1980  \n",
       "1          actor                 Himself   NaN    2000  \n",
       "2          actor                 Lew-Loc  27.0    1990  \n",
       "3          actor                   Bosco   3.0    2000  \n",
       "4          actor                 Himself   NaN    2010  \n",
       "...          ...                     ...   ...     ...  \n",
       "3333690  actress              Flugfreyja  24.0    1990  \n",
       "3333691  actress                    D?ra  24.0    1980  \n",
       "3333692  actress            Woman in Bus  26.0    2000  \n",
       "3333693  actress  Afgr.dama ? bens?nst??  17.0    2000  \n",
       "3333694  actress       Pensionatv?rtinde   NaN    1990  \n",
       "\n",
       "[3333695 rows x 7 columns]"
      ]
     },
     "execution_count": 85,
     "metadata": {},
     "output_type": "execute_result"
    }
   ],
   "source": [
    "df.info()\n",
    "df"
   ]
  },
  {
   "cell_type": "code",
   "execution_count": 71,
   "id": "9b00e167",
   "metadata": {},
   "outputs": [
    {
     "data": {
      "text/plain": [
       "17"
      ]
     },
     "execution_count": 71,
     "metadata": {},
     "output_type": "execute_result"
    }
   ],
   "source": [
    "# Q1:\n",
    "df2 = df[['title', 'year']].drop_duplicates().reset_index(drop=True)\n",
    "\n",
    "len(df2[df2.title == 'Hamlet'])\n"
   ]
  },
  {
   "cell_type": "code",
   "execution_count": 73,
   "id": "390d4c7d",
   "metadata": {},
   "outputs": [
    {
     "data": {
      "text/html": [
       "<div>\n",
       "<style scoped>\n",
       "    .dataframe tbody tr th:only-of-type {\n",
       "        vertical-align: middle;\n",
       "    }\n",
       "\n",
       "    .dataframe tbody tr th {\n",
       "        vertical-align: top;\n",
       "    }\n",
       "\n",
       "    .dataframe thead th {\n",
       "        text-align: right;\n",
       "    }\n",
       "</style>\n",
       "<table border=\"1\" class=\"dataframe\">\n",
       "  <thead>\n",
       "    <tr style=\"text-align: right;\">\n",
       "      <th></th>\n",
       "      <th>title</th>\n",
       "      <th>year</th>\n",
       "    </tr>\n",
       "  </thead>\n",
       "  <tbody>\n",
       "    <tr>\n",
       "      <th>110851</th>\n",
       "      <td>Treasure Island</td>\n",
       "      <td>1918</td>\n",
       "    </tr>\n",
       "    <tr>\n",
       "      <th>115166</th>\n",
       "      <td>Treasure Island</td>\n",
       "      <td>1920</td>\n",
       "    </tr>\n",
       "    <tr>\n",
       "      <th>7728</th>\n",
       "      <td>Treasure Island</td>\n",
       "      <td>1934</td>\n",
       "    </tr>\n",
       "    <tr>\n",
       "      <th>10813</th>\n",
       "      <td>Treasure Island</td>\n",
       "      <td>1950</td>\n",
       "    </tr>\n",
       "    <tr>\n",
       "      <th>29770</th>\n",
       "      <td>Treasure Island</td>\n",
       "      <td>1972</td>\n",
       "    </tr>\n",
       "    <tr>\n",
       "      <th>128865</th>\n",
       "      <td>Treasure Island</td>\n",
       "      <td>1973</td>\n",
       "    </tr>\n",
       "    <tr>\n",
       "      <th>13070</th>\n",
       "      <td>Treasure Island</td>\n",
       "      <td>1985</td>\n",
       "    </tr>\n",
       "    <tr>\n",
       "      <th>63515</th>\n",
       "      <td>Treasure Island</td>\n",
       "      <td>1999</td>\n",
       "    </tr>\n",
       "  </tbody>\n",
       "</table>\n",
       "</div>"
      ],
      "text/plain": [
       "                  title  year\n",
       "110851  Treasure Island  1918\n",
       "115166  Treasure Island  1920\n",
       "7728    Treasure Island  1934\n",
       "10813   Treasure Island  1950\n",
       "29770   Treasure Island  1972\n",
       "128865  Treasure Island  1973\n",
       "13070   Treasure Island  1985\n",
       "63515   Treasure Island  1999"
      ]
     },
     "execution_count": 73,
     "metadata": {},
     "output_type": "execute_result"
    }
   ],
   "source": [
    "# Q2:\n",
    "df2[df2.title == 'Treasure Island'].sort_values(by=['year'])"
   ]
  },
  {
   "cell_type": "code",
   "execution_count": 33,
   "id": "9164a00d",
   "metadata": {},
   "outputs": [
    {
     "data": {
      "text/plain": [
       "9"
      ]
     },
     "execution_count": 33,
     "metadata": {},
     "output_type": "execute_result"
    }
   ],
   "source": [
    "# Q3:\n",
    "len(df[(df.title == 'Hamlet') & (df.year == 1921)])"
   ]
  },
  {
   "cell_type": "code",
   "execution_count": 101,
   "id": "1a5c287d",
   "metadata": {},
   "outputs": [
    {
     "data": {
      "text/plain": [
       "<AxesSubplot:xlabel='decade'>"
      ]
     },
     "execution_count": 101,
     "metadata": {},
     "output_type": "execute_result"
    },
    {
     "data": {
      "image/png": "[encoded data removed]",
      "text/plain": [
       "<Figure size 432x288 with 1 Axes>"
      ]
     },
     "metadata": {
      "needs_background": "light"
     },
     "output_type": "display_data"
    }
   ],
   "source": [
    "# Q4:\n",
    "df2['decade'] = ((df2.year // 10) * 10)\n",
    "df2[df2.title=='Hamlet'].groupby('decade').size().sort_index().plot(kind='bar')"
   ]
  },
  {
   "cell_type": "code",
   "execution_count": 94,
   "id": "266ebcb6",
   "metadata": {},
   "outputs": [
    {
     "data": {
      "text/plain": [
       "year  type     type   \n",
       "1950  actor    actor      604\n",
       "      actress  actress    271\n",
       "1951  actor    actor      633\n",
       "      actress  actress    272\n",
       "1952  actor    actor      591\n",
       "      actress  actress    284\n",
       "1953  actor    actor      634\n",
       "      actress  actress    290\n",
       "1954  actor    actor      626\n",
       "      actress  actress    298\n",
       "1955  actor    actor      606\n",
       "      actress  actress    264\n",
       "1956  actor    actor      614\n",
       "      actress  actress    288\n",
       "1957  actor    actor      708\n",
       "      actress  actress    284\n",
       "1958  actor    actor      694\n",
       "      actress  actress    275\n",
       "1959  actor    actor      678\n",
       "      actress  actress    287\n",
       "Name: type, dtype: int64"
      ]
     },
     "execution_count": 94,
     "metadata": {},
     "output_type": "execute_result"
    }
   ],
   "source": [
    "# Q5:actress leading roles\n",
    "df[(df.year//10==195)&(df.n==1)].groupby(['year','type']).type.value_counts()"
   ]
  },
  {
   "cell_type": "code",
   "execution_count": 99,
   "id": "09c153ef",
   "metadata": {},
   "outputs": [
    {
     "data": {
      "text/plain": [
       "Mohanlal              126\n",
       "Mammootty             118\n",
       "Akshay Kumar           87\n",
       "Jayaram                76\n",
       "Andy Lau               72\n",
       "Ajay Devgn             69\n",
       "Eric Roberts           68\n",
       "Amitabh Bachchan       68\n",
       "Nagarjuna Akkineni     60\n",
       "Dilip                  59\n",
       "Name: name, dtype: int64"
      ]
     },
     "execution_count": 99,
     "metadata": {},
     "output_type": "execute_result"
    }
   ],
   "source": [
    "# Q6:\n",
    "df[(df.year >= 1990)&(df.n==1)].name.value_counts().head(10)\n"
   ]
  },
  {
   "cell_type": "code",
   "execution_count": 102,
   "id": "0f3fc4ab",
   "metadata": {},
   "outputs": [
    {
     "data": {
      "text/plain": [
       "title                                           year\n",
       "An American Werewolf in London                  1981     True\n",
       "Blues Brothers 2000                             1998    False\n",
       "Innocent Blood                                  1992    False\n",
       "Inside Out                                      2015    False\n",
       "Labyrinth                                       1986    False\n",
       "Monsters, Inc.                                  2001    False\n",
       "Muppet Treasure Island                          1996     True\n",
       "Muppets from Space                              1999     True\n",
       "Sesame Street Presents: Follow that Bird        1985     True\n",
       "Spies Like Us                                   1985    False\n",
       "Star Wars: Episode I - The Phantom Menace       1999    False\n",
       "Star Wars: Episode II - Attack of the Clones    2002    False\n",
       "Star Wars: Episode III - Revenge of the Sith    2005    False\n",
       "Star Wars: Episode V - The Empire Strikes Back  1980    False\n",
       "Star Wars: Episode VI - Return of the Jedi      1983    False\n",
       "Superman III                                    1983    False\n",
       "The Adventures of Elmo in Grouchland            1999     True\n",
       "The Blues Brothers                              1980    False\n",
       "The Dark Crystal                                1982     True\n",
       "The Great Muppet Caper                          1981     True\n",
       "The Muppet Christmas Carol                      1992     True\n",
       "The Muppet Movie                                1979     True\n",
       "The Muppets Take Manhattan                      1984     True\n",
       "Trading Places                                  1983    False\n",
       "Zathura: A Space Adventure                      2005    False\n",
       "dtype: bool"
      ]
     },
     "execution_count": 102,
     "metadata": {},
     "output_type": "execute_result"
    }
   ],
   "source": [
    "# Q7:\n",
    "df[df.name=='Frank Oz'].groupby(['title','year']).size()>1    "
   ]
  },
  {
   "cell_type": "code",
   "execution_count": null,
   "id": "ad93e4da",
   "metadata": {},
   "outputs": [],
   "source": []
  }
 ],
 "metadata": {
  "kernelspec": {
   "display_name": "Python 3 (ipykernel)",
   "language": "python",
   "name": "python3"
  },
  "language_info": {
   "codemirror_mode": {
    "name": "ipython",
    "version": 3
   },
   "file_extension": ".py",
   "mimetype": "text/x-python",
   "name": "python",
   "nbconvert_exporter": "python",
   "pygments_lexer": "ipython3",
   "version": "3.9.7"
  }
 },
 "nbformat": 4,
 "nbformat_minor": 5
}
