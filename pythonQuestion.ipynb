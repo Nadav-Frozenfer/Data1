{
 "cells": [
  {
   "cell_type": "code",
   "execution_count": 1,
   "id": "73f7a6ce",
   "metadata": {},
   "outputs": [
    {
     "name": "stdout",
     "output_type": "stream",
     "text": [
      "please enter a number in 10 base: 15\n",
      "15  in Binary :  1111\n",
      "15 in Octal :  17\n",
      "15  in Hexadecimal :  f\n"
     ]
    }
   ],
   "source": [
    "decimal = input(\"please enter a number in 10 base: \")\n",
    "binstr = bin(int(decimal))\n",
    "binstr = binstr[2:]\n",
    "octstr = oct(int(decimal))\n",
    "octstr = octstr[2:]\n",
    "hexstr = hex(int(decimal))\n",
    "hexstr = hexstr[2:]\n",
    "print(decimal, \" in Binary : \", binstr)\n",
    "print(decimal, \"in Octal : \", octstr)\n",
    "print(decimal, \" in Hexadecimal : \", hexstr)"
   ]
  },
  {
   "cell_type": "code",
   "execution_count": null,
   "id": "42a9a715",
   "metadata": {},
   "outputs": [],
   "source": []
  }
 ],
 "metadata": {
  "kernelspec": {
   "display_name": "Python 3 (ipykernel)",
   "language": "python",
   "name": "python3"
  },
  "language_info": {
   "codemirror_mode": {
    "name": "ipython",
    "version": 3
   },
   "file_extension": ".py",
   "mimetype": "text/x-python",
   "name": "python",
   "nbconvert_exporter": "python",
   "pygments_lexer": "ipython3",
   "version": "3.9.7"
  }
 },
 "nbformat": 4,
 "nbformat_minor": 5
}
