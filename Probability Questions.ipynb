{
 "cells": [
  {
   "cell_type": "code",
   "execution_count": 2,
   "id": "346406b7",
   "metadata": {},
   "outputs": [],
   "source": [
    "# Q1:\n",
    "# ex-a\n",
    "# (1/125)=Probabiltiy for unsimilar twin\n",
    "# 1/300=Probability for similar twin\n",
    "# (1/300)/(1/125 +1/300)=5/17=0.2941\n",
    "\n",
    "# ex-b\n",
    "# (1/4)=the probabiltiy to get chocolate picking the second bowl\n",
    "# (3/8)=the probabiltiy to get chocolate picking the first bowl\n",
    "# the probabiltiy to get chocolate=0.25+3/8=5/8\n",
    "\n",
    "# the probabiltiy that aric chose the first bowl (3/8)/(5/8)=0.6"
   ]
  },
  {
   "cell_type": "code",
   "execution_count": null,
   "id": "3d881cfa",
   "metadata": {},
   "outputs": [],
   "source": [
    "# Q2:\n"
    "# (1/2)- the probability  that it from the right bag\n"
    "#(0.2)- yellow 1994, (0.14)-yellow after 1995\n"
    "# (0.2*0.5)- prob that it yellow from 1995\n"
    "# 0.2*0.5/0.2*0.5+0.14*0.5= 10/17\n"
    "# 10/17 is the probability that the yelow candy is from 1994 bag\n"
   ]
  },
  {
   "cell_type": "code",
   "execution_count": null,
   "id": "700df0dc",
   "metadata": {},
   "outputs": [],
   "source": [
    "# Q3:\n",
    "# Ex-a\n",
    "# (1/10000)=probability to be sick \n",
    "# (9999/10000)=probability to be healthy\n",
    "# (1/100)=probabilty to get flase positive\n",
    "# (1/10000)/((1/100)*(9999/10000)+(1/10000))=100/10099=0.0099\n",
    "\n",
    "# Ex-b:\n",
    "# (1/200)=probability to be sick\n",
    "# (199/200)=probability to be healthy\n",
    "# (1/100)=probability to get false positive\n",
    "# (1/200)/((1/100)*(199/200)+(1/200))=100/299=0.334"
   ]
  },
  {
   "cell_type": "code",
   "execution_count": null,
   "id": "608adcb4",
   "metadata": {},
   "outputs": [],
   "source": [
    "# Q4:"
    "# (1/300)- probablity that they identical twins\n"
    "#(1/125)- pprobability that they are not identical but twins\n"
    "#(1/2)- two brothers but we know that they are boys allredy\n"
    "# 1/2*1/300- they are 2 boys and identical\n"
    "# 1/125*1/4- they are not identical\n"
    "# the prob that they identical and 2 boys= (1/300*1/2)/(1/300*1/2)*(1/125*1/4)=5/11\n"
   ]
  },
  {
   "cell_type": "code",
   "execution_count": null,
   "id": "c827c983",
   "metadata": {},
   "outputs": [],
   "source": [
    "# Q5:\n",
    "# +6=outcome of winning\n",
    "# -3=outcome of losing\n",
    "# (1/3)=probability to win\n",
    "# (2/3)=probability to lose\n",
    "# (1/3)*6-3*(2/3)=0"
   ]
  },
  {
   "cell_type": "code",
   "execution_count": null,
   "id": "011171fa",
   "metadata": {},
   "outputs": [],
   "source": [
    "# Q6:\n",
    "# 5=outcome of winning\n",
    "# -6=outcome of losing\n",
    "# 0=outcome of breaking even\n",
    "# (6/25)=probability to win\n",
    "# (15/25)=probability to lose\n",
    "# (4/25)=probability to break even\n",
    "# 5*(6/25)-6*(15/25)+0*(4/25)=-2.4    "
   ]
  },
  {
   "cell_type": "code",
   "execution_count": null,
   "id": "62c3814f",
   "metadata": {},
   "outputs": [],
   "source": [
    "# Q7:\n",
    "# 0.4=probability to for a worker to be male\n",
    "# 1-0.4=0.6=probability to for a worker to not be male\n",
    "# the mean=0.4*8=3.2\n",
    "# the standard deviation=√(0.4(0.6)/8)=0.1732"
   ]
  },
  {
   "cell_type": "code",
   "execution_count": null,
   "id": "9bc18cd5",
   "metadata": {},
   "outputs": [],
   "source": [
    "# Q8:# the mean=26\n",
    "# the standard deviation is 2\n",
    "# p(26<x<30)=p(0/2<Z<4/2)=p(0<Z<2)=p(Z<2)-P(Z<0)\n",
    "# (Z<2)=0.97725\n",
    "# (Z<0)=0.5\n",
    "# p(Z<2)-P(Z<0)=0.97725-0.5=0.47725"
   ]
  },
  {
   "cell_type": "code",
   "execution_count": null,
   "id": "2a05f6ac",
   "metadata": {},
   "outputs": [],
   "source": [
    "# Q9:\n",
    "# p(x>3)=P(x>0)-p(x<3)\n",
    "# P(x>0)=0.4*5/2=1\n",
    "# P(x<3)=0.4*3/2=0.6\n",
    "# p(x>3)=1-0.6=0.4"
   ]
  },
  {
   "cell_type": "code",
   "execution_count": null,
   "id": "77dd05ad",
   "metadata": {},
   "outputs": [],
   "source": [
    "# Q10:\n",
    "# (3/5)=probability that a worker have a child\n",
    "# (2/5)=probability that a worker dont have a child\n",
    "# to get exactly 3 workers with child and 1 without a child the probabilty is-\n",
    "# 4*(3/5)*(3/5)*(3/5)*(2/5)=216/625=0.3456    "
   ]
  },
  {
   "cell_type": "code",
   "execution_count": null,
   "id": "80822c1c",
   "metadata": {},
   "outputs": [],
   "source": [
    "# Q11:\n",
    "# value of the first x1=-10\n",
    "# probability of x1=0.1\n",
    "# value of the first x2=-5\n",
    "# probability of x2=0.35\n",
    "# value of the first x3=0\n",
    "# probability of x3=0.1\n",
    "# value of the first x4=5\n",
    "# probability of x4=0.35\n",
    "# value of the first x5=10\n",
    "# probability of x5=0.1\n",
    "# expected value=-10*0.1+10*0.1+0.35*5-0.35*5+0*0.1=0\n"
   ]
  }
 ],
 "metadata": {
  "kernelspec": {
   "display_name": "Python 3 (ipykernel)",
   "language": "python",
   "name": "python3"
  },
  "language_info": {
   "codemirror_mode": {
    "name": "ipython",
    "version": 3
   },
   "file_extension": ".py",
   "mimetype": "text/x-python",
   "name": "python",
   "nbconvert_exporter": "python",
   "pygments_lexer": "ipython3",
   "version": "3.9.7"
  }
 },
 "nbformat": 4,
 "nbformat_minor": 5
}
