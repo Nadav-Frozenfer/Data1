{
 "cells": [
  {
   "cell_type": "code",
   "execution_count": 2,
   "id": "346406b7",
   "metadata": {},
   "outputs": [],
   "source": [
    "# Q1:\n",
    "# (1/125)=Probabiltiy for unsimilar twin\n",
    "# 1/300=Probability for similar twin\n",
    "# (1/300)/(1/125 +1/300)=5/17=0.2941"
   ]
  },
  {
   "cell_type": "code",
   "execution_count": null,
   "id": "3d881cfa",
   "metadata": {},
   "outputs": [],
   "source": [
    "# Q2:"
   ]
  },
  {
   "cell_type": "code",
   "execution_count": null,
   "id": "700df0dc",
   "metadata": {},
   "outputs": [],
   "source": [
    "# Q3:\n",
    "# Ex-a\n",
    "# (1/10000)=probability to be sick \n",
    "# (9999/10000)=probability to be healthy\n",
    "# (1/100)=probabilty to get flase positive\n",
    "# (1/10000)/((1/100)*(9999/10000)+(1/10000))=100/10099=0.0099\n",
    "\n",
    "# Ex-b:\n",
    "# (1/200)=probability to be sick\n",
    "# (199/200)=probability to be healthy\n",
    "# (1/100)=probability to get false positive\n",
    "# (1/200)/((1/100)*(199/200)+(1/200))=100/299=0.334"
   ]
  },
  {
   "cell_type": "code",
   "execution_count": null,
   "id": "608adcb4",
   "metadata": {},
   "outputs": [],
   "source": [
    "# Q4:"
   ]
  },
  {
   "cell_type": "code",
   "execution_count": null,
   "id": "c827c983",
   "metadata": {},
   "outputs": [],
   "source": [
    "# Q5:\n",
    "# 5=outcome of winning\n",
    "# -6=outcome of losing\n",
    "# 0=outcome of breaking even\n",
    "# (6/25)=probability to win\n",
    "# (15/25)=probability to lose\n",
    "# (4/25)=probability to break even\n",
    "# 5*(6/25)-6*(15/25)+0*(4/25)=-2.4    "
   ]
  },
  {
   "cell_type": "code",
   "execution_count": null,
   "id": "011171fa",
   "metadata": {},
   "outputs": [],
   "source": [
    "# Q6:"
   ]
  },
  {
   "cell_type": "code",
   "execution_count": null,
   "id": "62c3814f",
   "metadata": {},
   "outputs": [],
   "source": [
    "# Q7:\n",
    "# the mean=26\n",
    "# the standard deviation is 2\n",
    "# p(26<x<30)=p(0/2<Z<4/2)=p(0<Z<2)=p(Z<2)-P(Z<0)\n",
    "# (Z<2)=0.97725\n",
    "# (Z<0)=0.5\n",
    "# p(Z<2)-P(Z<0)=0.97725-0.5=0.47725"
   ]
  },
  {
   "cell_type": "code",
   "execution_count": null,
   "id": "9bc18cd5",
   "metadata": {},
   "outputs": [],
   "source": [
    "# Q8:"
   ]
  },
  {
   "cell_type": "code",
   "execution_count": null,
   "id": "2a05f6ac",
   "metadata": {},
   "outputs": [],
   "source": [
    "# Q9:\n",
    "# (3/5)=probability that a worker have a child\n",
    "# (2/5)=probability that a worker dont have a child\n",
    "# to get exactly 3 workers with child and 1 without a child the probabilty is-\n",
    "# 4*(3/5)*(3/5)*(3/5)*(2/5)=216/625=0.3456    "
   ]
  },
  {
   "cell_type": "code",
   "execution_count": null,
   "id": "77dd05ad",
   "metadata": {},
   "outputs": [],
   "source": [
    "# Q10:"
   ]
  },
  {
  "cell_type": "code",
   "execution_count": null,
   "id": "77dd05ad",
   "metadata": {},
   "outputs": [],
   "source": [
    "# Q10:"
   ]
  }
 ],
 "metadata": {
  "kernelspec": {
   "display_name": "Python 3 (ipykernel)",
   "language": "python",
   "name": "python3"
  },
  "language_info": {
   "codemirror_mode": {
    "name": "ipython",
    "version": 3
   },
   "file_extension": ".py",
   "mimetype": "text/x-python",
   "name": "python",
   "nbconvert_exporter": "python",
   "pygments_lexer": "ipython3",
   "version": "3.9.7"
  }
 },
 "nbformat": 4,
 "nbformat_minor": 5
}
